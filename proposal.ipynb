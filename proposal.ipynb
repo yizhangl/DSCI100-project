{
 "cells": [
  {
   "cell_type": "markdown",
   "metadata": {},
   "source": [
<<<<<<< HEAD
<<<<<<< HEAD
    "**Describing the variables in the cancer data set**"
=======
    "## Red Wine Quality Predicting\n",
=======
    "## Red Wine Quality\n",
>>>>>>> parent of 4c5e6c2... change?
    "\n",
    "Wine industry has  a considerable impact on the global economy, valued at USD 417.85 billion in 2020 it is growing steadily at an annual rate of 6.4%.\n",
    "Portugal is a top ten wine exporting country, with 3.17% of the market share in 2005 (Cortez et al., 2009). In our analysis we will look into the physicochemical properties  - the physical and chemical attributes-  of red wine from Portugal in order to determine the best predictors of wine quality. Taste and quality can be very subjective, thus an objective measure of wine quality can help wine producers optimize their production process for quality.\n",
    "\n",
    "We are planning to predict red wine quality using classification.\n",
    "\n",
    "\n",
    "Our question is:\n",
    "\n",
    "Given three predictors -- sulphates, PH and total sulfur dioxide, what will be the red wine quality?\n",
    "\n",
    "The columns in the dataset are:\n",
    "\n",
    "1. `Fixed Acidity` : a measure of g(tartaric acid)/dm3 which influences the stability, taste, odour and colour.\n",
    " \n",
    "2. `Volatile Acidity` : a measure of g(acetic acid)/dm3 which is predominantly responsible for the sour vinegar-like taste notes.\n",
    " \n",
    "3. `Citric Acid`: a measure of citric acid in (g / dm3) that contributes to the “fresh” flavour.\n",
    " \n",
    "4. `Residual Sugar`: natural sugars left over from grapes measured in (g / dm3) creating a range of sweet to dry wines.\n",
    " \n",
    "5. `Chlorides`: a measure of (sodium chloride - g / dm3) influencing the saltiness of wine.\n",
    " \n",
    "6. `Free Sulfur Dioxide`: a measure of free sulfur dioxide (mg / dm3) that prevents oxidation and microbial spoilage.\n",
    " \n",
    "7. `Total Sulfur Dioxide`: a measure of total sulfur dioxide (mg / dm3) that includes free and sulfur dioxides bound to other chemicals preventing spoilage.\n",
    " \n",
    "8. `Density`: a measure of density (g / cm3) influencing the texture of wine.\n",
    " \n",
    "9. `pH`: a measure of acidity/basicity of influencing the “softness” and “roundness”.\n",
    " \n",
    "10. `Sulphates`: a measure of (potassium sulphate - g / dm3) that prevents renewed fermentation.\n",
    " \n",
    "11. `Alcohol`: a measure of (% by volume) impacting the “body” and sweetness of wine.\n",
    " \n",
    "12. `Quality (score between 0 and 10)`: based on sensory data evaluations by wine experts where 0 represents very bad and 10 very excellent.\n",
    "\n",
    "\n",
    "The original datasets are available here:\n",
    "- https://archive.ics.uci.edu/ml/datasets/Wine+Quality\n",
    "\n",
    "\n",
    "\n",
    "Citation:\n",
    "P. Cortez, A. Cerdeira, F. Almeida, T. Matos and J. Reis.\n",
    "Modeling wine preferences by data mining from physicochemical properties. In Decision Support Systems, Elsevier, 47(4):547-553, 2009.\n"
>>>>>>> 4c5e6c2640bb7d4daad09cb8687575fad3cc5158
   ]
  },
  {
   "cell_type": "code",
<<<<<<< HEAD
<<<<<<< HEAD
   "execution_count": 2,
=======
   "execution_count": 49,
>>>>>>> 4c5e6c2640bb7d4daad09cb8687575fad3cc5158
=======
   "execution_count": 71,
>>>>>>> parent of 4c5e6c2... change?
   "metadata": {},
   "outputs": [
    {
     "name": "stderr",
     "output_type": "stream",
     "text": [
      "Warning message in file(filename, \"r\", encoding = encoding):\n",
      "“cannot open file 'tests.R': No such file or directory”\n"
     ]
    },
    {
     "ename": "ERROR",
     "evalue": "Error in file(filename, \"r\", encoding = encoding): cannot open the connection\n",
     "output_type": "error",
     "traceback": [
      "Error in file(filename, \"r\", encoding = encoding): cannot open the connection\nTraceback:\n",
      "1. source(\"tests.R\")",
      "2. file(filename, \"r\", encoding = encoding)"
     ]
    }
   ],
   "source": [
    " ### Run this cell before continuing.\n",
    "library(tidyverse)\n",
    "library(repr)\n",
    "library(tidymodels)\n",
    "options(repr.matrix.max.rows = 6)\n",
    "source('tests.R')\n",
    "source('cleanup.R')"
   ]
  },
  {
   "cell_type": "code",
<<<<<<< HEAD
<<<<<<< HEAD
   "execution_count": 3,
=======
   "execution_count": 50,
>>>>>>> 4c5e6c2640bb7d4daad09cb8687575fad3cc5158
=======
   "execution_count": 23,
>>>>>>> parent of 4c5e6c2... change?
   "metadata": {},
   "outputs": [
    {
     "name": "stderr",
     "output_type": "stream",
     "text": [
      "Using ',' as decimal and '.' as grouping mark. Use read_delim() for more control.\n",
      "\n",
      "Parsed with column specification:\n",
      "cols(\n",
      "  `fixed acidity` = \u001b[32mcol_number()\u001b[39m,\n",
      "  `volatile acidity` = \u001b[31mcol_character()\u001b[39m,\n",
      "  `citric acid` = \u001b[31mcol_character()\u001b[39m,\n",
      "  `residual sugar` = \u001b[32mcol_number()\u001b[39m,\n",
      "  chlorides = \u001b[31mcol_character()\u001b[39m,\n",
      "  `free sulfur dioxide` = \u001b[32mcol_number()\u001b[39m,\n",
      "  `total sulfur dioxide` = \u001b[32mcol_double()\u001b[39m,\n",
      "  density = \u001b[31mcol_character()\u001b[39m,\n",
      "  pH = \u001b[32mcol_number()\u001b[39m,\n",
      "  sulphates = \u001b[31mcol_character()\u001b[39m,\n",
      "  alcohol = \u001b[32mcol_number()\u001b[39m,\n",
      "  quality = \u001b[32mcol_double()\u001b[39m\n",
      ")\n",
      "\n",
      "Warning message:\n",
      "“2 parsing failures.\n",
      " row                  col               expected actual                                                                                         file\n",
      "1296 total sulfur dioxide no trailing characters     .5 'https://archive.ics.uci.edu/ml/machine-learning-databases/wine-quality/winequality-red.csv'\n",
      "1297 total sulfur dioxide no trailing characters     .5 'https://archive.ics.uci.edu/ml/machine-learning-databases/wine-quality/winequality-red.csv'\n",
      "”\n"
     ]
    }
   ],
   "source": [
    "url <- \"https://archive.ics.uci.edu/ml/machine-learning-databases/wine-quality/winequality-red.csv\"\n",
    "wine <- read_csv2(url)"
   ]
  },
  {
   "cell_type": "markdown",
   "metadata": {},
   "source": [
    "Clean and wrangle our data"
   ]
  },
  {
   "cell_type": "code",
<<<<<<< HEAD
<<<<<<< HEAD
   "execution_count": 4,
=======
   "execution_count": 51,
>>>>>>> 4c5e6c2640bb7d4daad09cb8687575fad3cc5158
=======
   "execution_count": 24,
>>>>>>> parent of 4c5e6c2... change?
   "metadata": {},
   "outputs": [
    {
     "data": {
      "text/html": [
       "<table>\n",
       "<caption>A spec_tbl_df: 1599 × 12</caption>\n",
       "<thead>\n",
       "\t<tr><th scope=col>fixed.acidity</th><th scope=col>volatile.acidity</th><th scope=col>citric.acid</th><th scope=col>residual.sugar</th><th scope=col>chlorides</th><th scope=col>free.sulfur.dioxide</th><th scope=col>total.sulfur.dioxide</th><th scope=col>density</th><th scope=col>pH</th><th scope=col>sulphates</th><th scope=col>alcohol</th><th scope=col>quality</th></tr>\n",
       "\t<tr><th scope=col>&lt;dbl&gt;</th><th scope=col>&lt;dbl&gt;</th><th scope=col>&lt;dbl&gt;</th><th scope=col>&lt;dbl&gt;</th><th scope=col>&lt;dbl&gt;</th><th scope=col>&lt;dbl&gt;</th><th scope=col>&lt;dbl&gt;</th><th scope=col>&lt;dbl&gt;</th><th scope=col>&lt;dbl&gt;</th><th scope=col>&lt;dbl&gt;</th><th scope=col>&lt;dbl&gt;</th><th scope=col>&lt;fct&gt;</th></tr>\n",
       "</thead>\n",
       "<tbody>\n",
       "\t<tr><td>74</td><td>0.70</td><td>0.00</td><td>19</td><td>0.076</td><td>11</td><td>34</td><td>0.9978</td><td>351</td><td>0.56</td><td>94</td><td>5</td></tr>\n",
       "\t<tr><td>78</td><td>0.88</td><td>0.00</td><td>26</td><td>0.098</td><td>25</td><td>67</td><td>0.9968</td><td> 32</td><td>0.68</td><td>98</td><td>5</td></tr>\n",
       "\t<tr><td>78</td><td>0.76</td><td>0.04</td><td>23</td><td>0.092</td><td>15</td><td>54</td><td>0.9970</td><td>326</td><td>0.65</td><td>98</td><td>5</td></tr>\n",
       "\t<tr><td>⋮</td><td>⋮</td><td>⋮</td><td>⋮</td><td>⋮</td><td>⋮</td><td>⋮</td><td>⋮</td><td>⋮</td><td>⋮</td><td>⋮</td><td>⋮</td></tr>\n",
       "\t<tr><td>63</td><td>0.510</td><td>0.13</td><td>23</td><td>0.076</td><td>29</td><td>40</td><td>0.99574</td><td>342</td><td>0.75</td><td> 11</td><td>6</td></tr>\n",
       "\t<tr><td>59</td><td>0.645</td><td>0.12</td><td> 2</td><td>0.075</td><td>32</td><td>44</td><td>0.99547</td><td>357</td><td>0.71</td><td>102</td><td>5</td></tr>\n",
       "\t<tr><td> 6</td><td>0.310</td><td>0.47</td><td>36</td><td>0.067</td><td>18</td><td>42</td><td>0.99549</td><td>339</td><td>0.66</td><td> 11</td><td>6</td></tr>\n",
       "</tbody>\n",
       "</table>\n"
      ],
      "text/latex": [
       "A spec\\_tbl\\_df: 1599 × 12\n",
       "\\begin{tabular}{llllllllllll}\n",
       " fixed.acidity & volatile.acidity & citric.acid & residual.sugar & chlorides & free.sulfur.dioxide & total.sulfur.dioxide & density & pH & sulphates & alcohol & quality\\\\\n",
       " <dbl> & <dbl> & <dbl> & <dbl> & <dbl> & <dbl> & <dbl> & <dbl> & <dbl> & <dbl> & <dbl> & <fct>\\\\\n",
       "\\hline\n",
       "\t 74 & 0.70 & 0.00 & 19 & 0.076 & 11 & 34 & 0.9978 & 351 & 0.56 & 94 & 5\\\\\n",
       "\t 78 & 0.88 & 0.00 & 26 & 0.098 & 25 & 67 & 0.9968 &  32 & 0.68 & 98 & 5\\\\\n",
       "\t 78 & 0.76 & 0.04 & 23 & 0.092 & 15 & 54 & 0.9970 & 326 & 0.65 & 98 & 5\\\\\n",
       "\t ⋮ & ⋮ & ⋮ & ⋮ & ⋮ & ⋮ & ⋮ & ⋮ & ⋮ & ⋮ & ⋮ & ⋮\\\\\n",
       "\t 63 & 0.510 & 0.13 & 23 & 0.076 & 29 & 40 & 0.99574 & 342 & 0.75 &  11 & 6\\\\\n",
       "\t 59 & 0.645 & 0.12 &  2 & 0.075 & 32 & 44 & 0.99547 & 357 & 0.71 & 102 & 5\\\\\n",
       "\t  6 & 0.310 & 0.47 & 36 & 0.067 & 18 & 42 & 0.99549 & 339 & 0.66 &  11 & 6\\\\\n",
       "\\end{tabular}\n"
      ],
      "text/markdown": [
       "\n",
       "A spec_tbl_df: 1599 × 12\n",
       "\n",
       "| fixed.acidity &lt;dbl&gt; | volatile.acidity &lt;dbl&gt; | citric.acid &lt;dbl&gt; | residual.sugar &lt;dbl&gt; | chlorides &lt;dbl&gt; | free.sulfur.dioxide &lt;dbl&gt; | total.sulfur.dioxide &lt;dbl&gt; | density &lt;dbl&gt; | pH &lt;dbl&gt; | sulphates &lt;dbl&gt; | alcohol &lt;dbl&gt; | quality &lt;fct&gt; |\n",
       "|---|---|---|---|---|---|---|---|---|---|---|---|\n",
       "| 74 | 0.70 | 0.00 | 19 | 0.076 | 11 | 34 | 0.9978 | 351 | 0.56 | 94 | 5 |\n",
       "| 78 | 0.88 | 0.00 | 26 | 0.098 | 25 | 67 | 0.9968 |  32 | 0.68 | 98 | 5 |\n",
       "| 78 | 0.76 | 0.04 | 23 | 0.092 | 15 | 54 | 0.9970 | 326 | 0.65 | 98 | 5 |\n",
       "| ⋮ | ⋮ | ⋮ | ⋮ | ⋮ | ⋮ | ⋮ | ⋮ | ⋮ | ⋮ | ⋮ | ⋮ |\n",
       "| 63 | 0.510 | 0.13 | 23 | 0.076 | 29 | 40 | 0.99574 | 342 | 0.75 |  11 | 6 |\n",
       "| 59 | 0.645 | 0.12 |  2 | 0.075 | 32 | 44 | 0.99547 | 357 | 0.71 | 102 | 5 |\n",
       "|  6 | 0.310 | 0.47 | 36 | 0.067 | 18 | 42 | 0.99549 | 339 | 0.66 |  11 | 6 |\n",
       "\n"
      ],
      "text/plain": [
       "     fixed.acidity volatile.acidity citric.acid residual.sugar chlorides\n",
       "1    74            0.70             0.00        19             0.076    \n",
       "2    78            0.88             0.00        26             0.098    \n",
       "3    78            0.76             0.04        23             0.092    \n",
       "⋮    ⋮             ⋮                ⋮           ⋮              ⋮        \n",
       "1597 63            0.510            0.13        23             0.076    \n",
       "1598 59            0.645            0.12         2             0.075    \n",
       "1599  6            0.310            0.47        36             0.067    \n",
       "     free.sulfur.dioxide total.sulfur.dioxide density pH  sulphates alcohol\n",
       "1    11                  34                   0.9978  351 0.56      94     \n",
       "2    25                  67                   0.9968   32 0.68      98     \n",
       "3    15                  54                   0.9970  326 0.65      98     \n",
       "⋮    ⋮                   ⋮                    ⋮       ⋮   ⋮         ⋮      \n",
       "1597 29                  40                   0.99574 342 0.75       11    \n",
       "1598 32                  44                   0.99547 357 0.71      102    \n",
       "1599 18                  42                   0.99549 339 0.66       11    \n",
       "     quality\n",
       "1    5      \n",
       "2    5      \n",
       "3    5      \n",
       "⋮    ⋮      \n",
       "1597 6      \n",
       "1598 5      \n",
       "1599 6      "
      ]
     },
     "metadata": {},
     "output_type": "display_data"
    },
    {
     "data": {
      "text/html": [
       "1599"
      ],
      "text/latex": [
       "1599"
      ],
      "text/markdown": [
       "1599"
      ],
      "text/plain": [
       "[1] 1599"
      ]
     },
     "metadata": {},
     "output_type": "display_data"
    }
   ],
   "source": [
    "colnames(wine) <- make.names(colnames(wine))\n",
    "\n",
    "wine <- wine %>% \n",
    "  mutate(quality = as_factor(quality),\n",
    "        volatile.acidity = as.double(volatile.acidity),\n",
    "    citric.acid = as.double(citric.acid),\n",
    "  chlorides = as.double(chlorides),\n",
    "  density = as.double(density),\n",
    "  sulphates = as.double(sulphates))\n",
    "  \n",
    "\n",
    "wine\n",
    "nrow(wine)\n",
    "\n"
   ]
  },
  {
   "cell_type": "code",
<<<<<<< HEAD
<<<<<<< HEAD
   "execution_count": 5,
=======
   "execution_count": 52,
>>>>>>> 4c5e6c2640bb7d4daad09cb8687575fad3cc5158
=======
   "execution_count": 25,
>>>>>>> parent of 4c5e6c2... change?
   "metadata": {},
   "outputs": [
    {
     "data": {
      "text/html": [
       "1599"
      ],
      "text/latex": [
       "1599"
      ],
      "text/markdown": [
       "1599"
      ],
      "text/plain": [
       "[1] 1599"
      ]
     },
     "metadata": {},
     "output_type": "display_data"
    },
    {
     "data": {
      "text/html": [
       "2"
      ],
      "text/latex": [
       "2"
      ],
      "text/markdown": [
       "2"
      ],
      "text/plain": [
       "[1] 2"
      ]
     },
     "metadata": {},
     "output_type": "display_data"
    },
    {
     "data": {
      "text/html": [
       "1597"
      ],
      "text/latex": [
       "1597"
      ],
      "text/markdown": [
       "1597"
      ],
      "text/plain": [
       "[1] 1597"
      ]
     },
     "metadata": {},
     "output_type": "display_data"
    }
   ],
   "source": [
    "nrow(wine)\n",
    "\n",
    "sum(is.na(wine))\n",
    "\n",
<<<<<<< HEAD
<<<<<<< HEAD
    "newdata <- na.omit(wine)\n",
    "nrow(newdata)\n"
=======
    "wine_data <- na.omit(wine)\n",
    "nrow(wine_data)"
=======
    "newdata <- na.omit(wine)\n",
    "nrow(newdata)"
>>>>>>> parent of 4c5e6c2... change?
   ]
  },
  {
   "cell_type": "markdown",
   "metadata": {},
   "source": [
    "*We can conclude that there are totally 1599 rows and 2 rows have missing values.*"
   ]
  },
  {
   "cell_type": "markdown",
   "metadata": {},
   "source": [
    "**Split the wine data set into training data and testing data**"
>>>>>>> 4c5e6c2640bb7d4daad09cb8687575fad3cc5158
   ]
  },
  {
   "cell_type": "code",
<<<<<<< HEAD
<<<<<<< HEAD
   "execution_count": 6,
=======
   "execution_count": 53,
>>>>>>> 4c5e6c2640bb7d4daad09cb8687575fad3cc5158
=======
   "execution_count": 26,
>>>>>>> parent of 4c5e6c2... change?
   "metadata": {},
   "outputs": [
    {
     "data": {
      "text/html": [
       "<table>\n",
       "<caption>A tibble: 1200 × 12</caption>\n",
       "<thead>\n",
       "\t<tr><th scope=col>fixed.acidity</th><th scope=col>volatile.acidity</th><th scope=col>citric.acid</th><th scope=col>residual.sugar</th><th scope=col>chlorides</th><th scope=col>free.sulfur.dioxide</th><th scope=col>total.sulfur.dioxide</th><th scope=col>density</th><th scope=col>pH</th><th scope=col>sulphates</th><th scope=col>alcohol</th><th scope=col>quality</th></tr>\n",
       "\t<tr><th scope=col>&lt;dbl&gt;</th><th scope=col>&lt;dbl&gt;</th><th scope=col>&lt;dbl&gt;</th><th scope=col>&lt;dbl&gt;</th><th scope=col>&lt;dbl&gt;</th><th scope=col>&lt;dbl&gt;</th><th scope=col>&lt;dbl&gt;</th><th scope=col>&lt;dbl&gt;</th><th scope=col>&lt;dbl&gt;</th><th scope=col>&lt;dbl&gt;</th><th scope=col>&lt;dbl&gt;</th><th scope=col>&lt;fct&gt;</th></tr>\n",
       "</thead>\n",
       "<tbody>\n",
       "\t<tr><td>74</td><td>0.70</td><td>0.00</td><td>19</td><td>0.076</td><td>11</td><td>34</td><td>0.9978</td><td>351</td><td>0.56</td><td>94</td><td>5</td></tr>\n",
       "\t<tr><td>78</td><td>0.76</td><td>0.04</td><td>23</td><td>0.092</td><td>15</td><td>54</td><td>0.9970</td><td>326</td><td>0.65</td><td>98</td><td>5</td></tr>\n",
       "\t<tr><td>74</td><td>0.70</td><td>0.00</td><td>19</td><td>0.076</td><td>11</td><td>34</td><td>0.9978</td><td>351</td><td>0.56</td><td>94</td><td>5</td></tr>\n",
       "\t<tr><td>⋮</td><td>⋮</td><td>⋮</td><td>⋮</td><td>⋮</td><td>⋮</td><td>⋮</td><td>⋮</td><td>⋮</td><td>⋮</td><td>⋮</td><td>⋮</td></tr>\n",
       "\t<tr><td>63</td><td>0.510</td><td>0.13</td><td>23</td><td>0.076</td><td>29</td><td>40</td><td>0.99574</td><td>342</td><td>0.75</td><td> 11</td><td>6</td></tr>\n",
       "\t<tr><td>59</td><td>0.645</td><td>0.12</td><td> 2</td><td>0.075</td><td>32</td><td>44</td><td>0.99547</td><td>357</td><td>0.71</td><td>102</td><td>5</td></tr>\n",
       "\t<tr><td> 6</td><td>0.310</td><td>0.47</td><td>36</td><td>0.067</td><td>18</td><td>42</td><td>0.99549</td><td>339</td><td>0.66</td><td> 11</td><td>6</td></tr>\n",
       "</tbody>\n",
       "</table>\n"
      ],
      "text/latex": [
       "A tibble: 1200 × 12\n",
       "\\begin{tabular}{llllllllllll}\n",
       " fixed.acidity & volatile.acidity & citric.acid & residual.sugar & chlorides & free.sulfur.dioxide & total.sulfur.dioxide & density & pH & sulphates & alcohol & quality\\\\\n",
       " <dbl> & <dbl> & <dbl> & <dbl> & <dbl> & <dbl> & <dbl> & <dbl> & <dbl> & <dbl> & <dbl> & <fct>\\\\\n",
       "\\hline\n",
       "\t 74 & 0.70 & 0.00 & 19 & 0.076 & 11 & 34 & 0.9978 & 351 & 0.56 & 94 & 5\\\\\n",
       "\t 78 & 0.76 & 0.04 & 23 & 0.092 & 15 & 54 & 0.9970 & 326 & 0.65 & 98 & 5\\\\\n",
       "\t 74 & 0.70 & 0.00 & 19 & 0.076 & 11 & 34 & 0.9978 & 351 & 0.56 & 94 & 5\\\\\n",
       "\t ⋮ & ⋮ & ⋮ & ⋮ & ⋮ & ⋮ & ⋮ & ⋮ & ⋮ & ⋮ & ⋮ & ⋮\\\\\n",
       "\t 63 & 0.510 & 0.13 & 23 & 0.076 & 29 & 40 & 0.99574 & 342 & 0.75 &  11 & 6\\\\\n",
       "\t 59 & 0.645 & 0.12 &  2 & 0.075 & 32 & 44 & 0.99547 & 357 & 0.71 & 102 & 5\\\\\n",
       "\t  6 & 0.310 & 0.47 & 36 & 0.067 & 18 & 42 & 0.99549 & 339 & 0.66 &  11 & 6\\\\\n",
       "\\end{tabular}\n"
      ],
      "text/markdown": [
       "\n",
       "A tibble: 1200 × 12\n",
       "\n",
       "| fixed.acidity &lt;dbl&gt; | volatile.acidity &lt;dbl&gt; | citric.acid &lt;dbl&gt; | residual.sugar &lt;dbl&gt; | chlorides &lt;dbl&gt; | free.sulfur.dioxide &lt;dbl&gt; | total.sulfur.dioxide &lt;dbl&gt; | density &lt;dbl&gt; | pH &lt;dbl&gt; | sulphates &lt;dbl&gt; | alcohol &lt;dbl&gt; | quality &lt;fct&gt; |\n",
       "|---|---|---|---|---|---|---|---|---|---|---|---|\n",
       "| 74 | 0.70 | 0.00 | 19 | 0.076 | 11 | 34 | 0.9978 | 351 | 0.56 | 94 | 5 |\n",
       "| 78 | 0.76 | 0.04 | 23 | 0.092 | 15 | 54 | 0.9970 | 326 | 0.65 | 98 | 5 |\n",
       "| 74 | 0.70 | 0.00 | 19 | 0.076 | 11 | 34 | 0.9978 | 351 | 0.56 | 94 | 5 |\n",
       "| ⋮ | ⋮ | ⋮ | ⋮ | ⋮ | ⋮ | ⋮ | ⋮ | ⋮ | ⋮ | ⋮ | ⋮ |\n",
       "| 63 | 0.510 | 0.13 | 23 | 0.076 | 29 | 40 | 0.99574 | 342 | 0.75 |  11 | 6 |\n",
       "| 59 | 0.645 | 0.12 |  2 | 0.075 | 32 | 44 | 0.99547 | 357 | 0.71 | 102 | 5 |\n",
       "|  6 | 0.310 | 0.47 | 36 | 0.067 | 18 | 42 | 0.99549 | 339 | 0.66 |  11 | 6 |\n",
       "\n"
      ],
      "text/plain": [
       "     fixed.acidity volatile.acidity citric.acid residual.sugar chlorides\n",
       "1    74            0.70             0.00        19             0.076    \n",
       "2    78            0.76             0.04        23             0.092    \n",
       "3    74            0.70             0.00        19             0.076    \n",
       "⋮    ⋮             ⋮                ⋮           ⋮              ⋮        \n",
       "1198 63            0.510            0.13        23             0.076    \n",
       "1199 59            0.645            0.12         2             0.075    \n",
       "1200  6            0.310            0.47        36             0.067    \n",
       "     free.sulfur.dioxide total.sulfur.dioxide density pH  sulphates alcohol\n",
       "1    11                  34                   0.9978  351 0.56      94     \n",
       "2    15                  54                   0.9970  326 0.65      98     \n",
       "3    11                  34                   0.9978  351 0.56      94     \n",
       "⋮    ⋮                   ⋮                    ⋮       ⋮   ⋮         ⋮      \n",
       "1198 29                  40                   0.99574 342 0.75       11    \n",
       "1199 32                  44                   0.99547 357 0.71      102    \n",
       "1200 18                  42                   0.99549 339 0.66       11    \n",
       "     quality\n",
       "1    5      \n",
       "2    5      \n",
       "3    5      \n",
       "⋮    ⋮      \n",
       "1198 6      \n",
       "1199 5      \n",
       "1200 6      "
      ]
     },
     "metadata": {},
     "output_type": "display_data"
    },
    {
     "data": {
      "text/html": [
       "<table>\n",
       "<caption>A tibble: 399 × 12</caption>\n",
       "<thead>\n",
       "\t<tr><th scope=col>fixed.acidity</th><th scope=col>volatile.acidity</th><th scope=col>citric.acid</th><th scope=col>residual.sugar</th><th scope=col>chlorides</th><th scope=col>free.sulfur.dioxide</th><th scope=col>total.sulfur.dioxide</th><th scope=col>density</th><th scope=col>pH</th><th scope=col>sulphates</th><th scope=col>alcohol</th><th scope=col>quality</th></tr>\n",
       "\t<tr><th scope=col>&lt;dbl&gt;</th><th scope=col>&lt;dbl&gt;</th><th scope=col>&lt;dbl&gt;</th><th scope=col>&lt;dbl&gt;</th><th scope=col>&lt;dbl&gt;</th><th scope=col>&lt;dbl&gt;</th><th scope=col>&lt;dbl&gt;</th><th scope=col>&lt;dbl&gt;</th><th scope=col>&lt;dbl&gt;</th><th scope=col>&lt;dbl&gt;</th><th scope=col>&lt;dbl&gt;</th><th scope=col>&lt;fct&gt;</th></tr>\n",
       "</thead>\n",
       "<tbody>\n",
       "\t<tr><td> 78</td><td>0.88</td><td>0.00</td><td>26</td><td>0.098</td><td>25</td><td>67</td><td>0.9968</td><td> 32</td><td>0.68</td><td>98</td><td>5</td></tr>\n",
       "\t<tr><td>112</td><td>0.28</td><td>0.56</td><td>19</td><td>0.075</td><td>17</td><td>60</td><td>0.9980</td><td>316</td><td>0.58</td><td>98</td><td>6</td></tr>\n",
       "\t<tr><td> 67</td><td>0.58</td><td>0.08</td><td>18</td><td>0.097</td><td>15</td><td>65</td><td>0.9959</td><td>328</td><td>0.54</td><td>92</td><td>5</td></tr>\n",
       "\t<tr><td>⋮</td><td>⋮</td><td>⋮</td><td>⋮</td><td>⋮</td><td>⋮</td><td>⋮</td><td>⋮</td><td>⋮</td><td>⋮</td><td>⋮</td><td>⋮</td></tr>\n",
       "\t<tr><td>54</td><td>0.74</td><td>0.09</td><td>17</td><td>0.089</td><td>16</td><td>26</td><td>0.99402</td><td>367</td><td>0.56</td><td>116</td><td>6</td></tr>\n",
       "\t<tr><td>62</td><td>0.60</td><td>0.08</td><td> 2</td><td>0.090</td><td>32</td><td>44</td><td>0.99490</td><td>345</td><td>0.58</td><td>105</td><td>5</td></tr>\n",
       "\t<tr><td>59</td><td>0.55</td><td>0.10</td><td>22</td><td>0.062</td><td>39</td><td>51</td><td>0.99512</td><td>352</td><td>0.76</td><td>112</td><td>6</td></tr>\n",
       "</tbody>\n",
       "</table>\n"
      ],
      "text/latex": [
       "A tibble: 399 × 12\n",
       "\\begin{tabular}{llllllllllll}\n",
       " fixed.acidity & volatile.acidity & citric.acid & residual.sugar & chlorides & free.sulfur.dioxide & total.sulfur.dioxide & density & pH & sulphates & alcohol & quality\\\\\n",
       " <dbl> & <dbl> & <dbl> & <dbl> & <dbl> & <dbl> & <dbl> & <dbl> & <dbl> & <dbl> & <dbl> & <fct>\\\\\n",
       "\\hline\n",
       "\t  78 & 0.88 & 0.00 & 26 & 0.098 & 25 & 67 & 0.9968 &  32 & 0.68 & 98 & 5\\\\\n",
       "\t 112 & 0.28 & 0.56 & 19 & 0.075 & 17 & 60 & 0.9980 & 316 & 0.58 & 98 & 6\\\\\n",
       "\t  67 & 0.58 & 0.08 & 18 & 0.097 & 15 & 65 & 0.9959 & 328 & 0.54 & 92 & 5\\\\\n",
       "\t ⋮ & ⋮ & ⋮ & ⋮ & ⋮ & ⋮ & ⋮ & ⋮ & ⋮ & ⋮ & ⋮ & ⋮\\\\\n",
       "\t 54 & 0.74 & 0.09 & 17 & 0.089 & 16 & 26 & 0.99402 & 367 & 0.56 & 116 & 6\\\\\n",
       "\t 62 & 0.60 & 0.08 &  2 & 0.090 & 32 & 44 & 0.99490 & 345 & 0.58 & 105 & 5\\\\\n",
       "\t 59 & 0.55 & 0.10 & 22 & 0.062 & 39 & 51 & 0.99512 & 352 & 0.76 & 112 & 6\\\\\n",
       "\\end{tabular}\n"
      ],
      "text/markdown": [
       "\n",
       "A tibble: 399 × 12\n",
       "\n",
       "| fixed.acidity &lt;dbl&gt; | volatile.acidity &lt;dbl&gt; | citric.acid &lt;dbl&gt; | residual.sugar &lt;dbl&gt; | chlorides &lt;dbl&gt; | free.sulfur.dioxide &lt;dbl&gt; | total.sulfur.dioxide &lt;dbl&gt; | density &lt;dbl&gt; | pH &lt;dbl&gt; | sulphates &lt;dbl&gt; | alcohol &lt;dbl&gt; | quality &lt;fct&gt; |\n",
       "|---|---|---|---|---|---|---|---|---|---|---|---|\n",
       "|  78 | 0.88 | 0.00 | 26 | 0.098 | 25 | 67 | 0.9968 |  32 | 0.68 | 98 | 5 |\n",
       "| 112 | 0.28 | 0.56 | 19 | 0.075 | 17 | 60 | 0.9980 | 316 | 0.58 | 98 | 6 |\n",
       "|  67 | 0.58 | 0.08 | 18 | 0.097 | 15 | 65 | 0.9959 | 328 | 0.54 | 92 | 5 |\n",
       "| ⋮ | ⋮ | ⋮ | ⋮ | ⋮ | ⋮ | ⋮ | ⋮ | ⋮ | ⋮ | ⋮ | ⋮ |\n",
       "| 54 | 0.74 | 0.09 | 17 | 0.089 | 16 | 26 | 0.99402 | 367 | 0.56 | 116 | 6 |\n",
       "| 62 | 0.60 | 0.08 |  2 | 0.090 | 32 | 44 | 0.99490 | 345 | 0.58 | 105 | 5 |\n",
       "| 59 | 0.55 | 0.10 | 22 | 0.062 | 39 | 51 | 0.99512 | 352 | 0.76 | 112 | 6 |\n",
       "\n"
      ],
      "text/plain": [
       "    fixed.acidity volatile.acidity citric.acid residual.sugar chlorides\n",
       "1    78           0.88             0.00        26             0.098    \n",
       "2   112           0.28             0.56        19             0.075    \n",
       "3    67           0.58             0.08        18             0.097    \n",
       "⋮   ⋮             ⋮                ⋮           ⋮              ⋮        \n",
       "397 54            0.74             0.09        17             0.089    \n",
       "398 62            0.60             0.08         2             0.090    \n",
       "399 59            0.55             0.10        22             0.062    \n",
       "    free.sulfur.dioxide total.sulfur.dioxide density pH  sulphates alcohol\n",
       "1   25                  67                   0.9968   32 0.68      98     \n",
       "2   17                  60                   0.9980  316 0.58      98     \n",
       "3   15                  65                   0.9959  328 0.54      92     \n",
       "⋮   ⋮                   ⋮                    ⋮       ⋮   ⋮         ⋮      \n",
       "397 16                  26                   0.99402 367 0.56      116    \n",
       "398 32                  44                   0.99490 345 0.58      105    \n",
       "399 39                  51                   0.99512 352 0.76      112    \n",
       "    quality\n",
       "1   5      \n",
       "2   6      \n",
       "3   5      \n",
       "⋮   ⋮      \n",
       "397 6      \n",
       "398 5      \n",
       "399 6      "
      ]
     },
     "metadata": {},
     "output_type": "display_data"
    }
   ],
   "source": [
    "set.seed(15)\n",
    "\n",
    "wine_split <- initial_split(wine, prop = 0.75, strata = quality)  \n",
    "wine_train <- training(wine_split)\n",
    "wine_test <- testing(wine_split)\n",
    "\n",
    "wine_train\n",
    "wine_test"
   ]
  },
  {
<<<<<<< HEAD
<<<<<<< HEAD
   "cell_type": "code",
   "execution_count": 7,
=======
   "cell_type": "markdown",
>>>>>>> 4c5e6c2640bb7d4daad09cb8687575fad3cc5158
=======
   "cell_type": "code",
   "execution_count": 27,
>>>>>>> parent of 4c5e6c2... change?
   "metadata": {},
   "outputs": [
    {
     "name": "stderr",
     "output_type": "stream",
     "text": [
      "`summarise()` ungrouping output (override with `.groups` argument)\n",
      "\n"
     ]
    },
    {
     "data": {
      "text/html": [
       "<table>\n",
       "<caption>A tibble: 6 × 3</caption>\n",
       "<thead>\n",
       "\t<tr><th scope=col>quality</th><th scope=col>count</th><th scope=col>percentage</th></tr>\n",
       "\t<tr><th scope=col>&lt;fct&gt;</th><th scope=col>&lt;int&gt;</th><th scope=col>&lt;dbl&gt;</th></tr>\n",
       "</thead>\n",
       "<tbody>\n",
       "\t<tr><td>3</td><td> 10</td><td> 0.6253909</td></tr>\n",
       "\t<tr><td>4</td><td> 53</td><td> 3.3145716</td></tr>\n",
       "\t<tr><td>5</td><td>681</td><td>42.5891182</td></tr>\n",
       "\t<tr><td>6</td><td>638</td><td>39.8999375</td></tr>\n",
       "\t<tr><td>7</td><td>199</td><td>12.4452783</td></tr>\n",
       "\t<tr><td>8</td><td> 18</td><td> 1.1257036</td></tr>\n",
       "</tbody>\n",
       "</table>\n"
      ],
      "text/latex": [
       "A tibble: 6 × 3\n",
       "\\begin{tabular}{lll}\n",
       " quality & count & percentage\\\\\n",
       " <fct> & <int> & <dbl>\\\\\n",
       "\\hline\n",
       "\t 3 &  10 &  0.6253909\\\\\n",
       "\t 4 &  53 &  3.3145716\\\\\n",
       "\t 5 & 681 & 42.5891182\\\\\n",
       "\t 6 & 638 & 39.8999375\\\\\n",
       "\t 7 & 199 & 12.4452783\\\\\n",
       "\t 8 &  18 &  1.1257036\\\\\n",
       "\\end{tabular}\n"
      ],
      "text/markdown": [
       "\n",
       "A tibble: 6 × 3\n",
       "\n",
       "| quality &lt;fct&gt; | count &lt;int&gt; | percentage &lt;dbl&gt; |\n",
       "|---|---|---|\n",
       "| 3 |  10 |  0.6253909 |\n",
       "| 4 |  53 |  3.3145716 |\n",
       "| 5 | 681 | 42.5891182 |\n",
       "| 6 | 638 | 39.8999375 |\n",
       "| 7 | 199 | 12.4452783 |\n",
       "| 8 |  18 |  1.1257036 |\n",
       "\n"
      ],
      "text/plain": [
       "  quality count percentage\n",
       "1 3        10    0.6253909\n",
       "2 4        53    3.3145716\n",
       "3 5       681   42.5891182\n",
       "4 6       638   39.8999375\n",
       "5 7       199   12.4452783\n",
       "6 8        18    1.1257036"
      ]
     },
     "metadata": {},
     "output_type": "display_data"
    }
   ],
   "source": [
    "num_obs <- nrow(wine)\n",
    "\n",
    "wine_summary <- wine %>%\n",
    "  group_by(quality) %>%\n",
    "  summarize(\n",
    "    count = n(),\n",
    "    percentage = (n()/num_obs) * 100\n",
    "  )\n",
    "\n",
    "wine_summary"
   ]
  },
  {
   "cell_type": "code",
<<<<<<< HEAD
<<<<<<< HEAD
   "execution_count": 8,
=======
   "execution_count": 54,
>>>>>>> 4c5e6c2640bb7d4daad09cb8687575fad3cc5158
=======
   "execution_count": 29,
>>>>>>> parent of 4c5e6c2... change?
   "metadata": {},
   "outputs": [
    {
     "name": "stderr",
     "output_type": "stream",
     "text": [
      "`summarise()` ungrouping output (override with `.groups` argument)\n",
      "\n"
     ]
    },
    {
     "data": {
      "text/html": [
       "<table>\n",
       "<caption>A tibble: 6 × 6</caption>\n",
       "<thead>\n",
       "\t<tr><th scope=col>quality</th><th scope=col>count</th><th scope=col>percentage</th><th scope=col>sulphates_mean</th><th scope=col>pH_mean</th><th scope=col>total.sulfur.dioxide_mean</th></tr>\n",
       "\t<tr><th scope=col>&lt;fct&gt;</th><th scope=col>&lt;int&gt;</th><th scope=col>&lt;dbl&gt;</th><th scope=col>&lt;dbl&gt;</th><th scope=col>&lt;dbl&gt;</th><th scope=col>&lt;dbl&gt;</th></tr>\n",
       "</thead>\n",
       "<tbody>\n",
       "\t<tr><td>3</td><td>  7</td><td> 0.4377736</td><td>0.5685714</td><td>300.2857</td><td>24.57143</td></tr>\n",
       "\t<tr><td>4</td><td> 38</td><td> 2.3764853</td><td>0.6086842</td><td>282.3421</td><td>37.31579</td></tr>\n",
       "\t<tr><td>5</td><td>512</td><td>32.0200125</td><td>0.6163086</td><td>298.9609</td><td>57.13922</td></tr>\n",
       "\t<tr><td>6</td><td>480</td><td>30.0187617</td><td>0.6729167</td><td>299.5958</td><td>40.51042</td></tr>\n",
       "\t<tr><td>7</td><td>148</td><td> 9.2557849</td><td>0.7410135</td><td>300.3514</td><td>36.10135</td></tr>\n",
       "\t<tr><td>8</td><td> 15</td><td> 0.9380863</td><td>0.7480000</td><td>289.3333</td><td>34.60000</td></tr>\n",
       "</tbody>\n",
       "</table>\n"
      ],
      "text/latex": [
       "A tibble: 6 × 6\n",
       "\\begin{tabular}{llllll}\n",
       " quality & count & percentage & sulphates\\_mean & pH\\_mean & total.sulfur.dioxide\\_mean\\\\\n",
       " <fct> & <int> & <dbl> & <dbl> & <dbl> & <dbl>\\\\\n",
       "\\hline\n",
       "\t 3 &   7 &  0.4377736 & 0.5685714 & 300.2857 & 24.57143\\\\\n",
       "\t 4 &  38 &  2.3764853 & 0.6086842 & 282.3421 & 37.31579\\\\\n",
       "\t 5 & 512 & 32.0200125 & 0.6163086 & 298.9609 & 57.13922\\\\\n",
       "\t 6 & 480 & 30.0187617 & 0.6729167 & 299.5958 & 40.51042\\\\\n",
       "\t 7 & 148 &  9.2557849 & 0.7410135 & 300.3514 & 36.10135\\\\\n",
       "\t 8 &  15 &  0.9380863 & 0.7480000 & 289.3333 & 34.60000\\\\\n",
       "\\end{tabular}\n"
      ],
      "text/markdown": [
       "\n",
       "A tibble: 6 × 6\n",
       "\n",
       "| quality &lt;fct&gt; | count &lt;int&gt; | percentage &lt;dbl&gt; | sulphates_mean &lt;dbl&gt; | pH_mean &lt;dbl&gt; | total.sulfur.dioxide_mean &lt;dbl&gt; |\n",
       "|---|---|---|---|---|---|\n",
       "| 3 |   7 |  0.4377736 | 0.5685714 | 300.2857 | 24.57143 |\n",
       "| 4 |  38 |  2.3764853 | 0.6086842 | 282.3421 | 37.31579 |\n",
       "| 5 | 512 | 32.0200125 | 0.6163086 | 298.9609 | 57.13922 |\n",
       "| 6 | 480 | 30.0187617 | 0.6729167 | 299.5958 | 40.51042 |\n",
       "| 7 | 148 |  9.2557849 | 0.7410135 | 300.3514 | 36.10135 |\n",
       "| 8 |  15 |  0.9380863 | 0.7480000 | 289.3333 | 34.60000 |\n",
       "\n"
      ],
      "text/plain": [
       "  quality count percentage sulphates_mean pH_mean  total.sulfur.dioxide_mean\n",
       "1 3         7    0.4377736 0.5685714      300.2857 24.57143                 \n",
       "2 4        38    2.3764853 0.6086842      282.3421 37.31579                 \n",
       "3 5       512   32.0200125 0.6163086      298.9609 57.13922                 \n",
       "4 6       480   30.0187617 0.6729167      299.5958 40.51042                 \n",
       "5 7       148    9.2557849 0.7410135      300.3514 36.10135                 \n",
       "6 8        15    0.9380863 0.7480000      289.3333 34.60000                 "
      ]
     },
     "metadata": {},
     "output_type": "display_data"
    }
   ],
   "source": [
    "num_obs_train <- nrow(wine_train)\n",
    "\n",
    "wine_summary_train <- wine_train %>%\n",
    "  group_by(quality) %>%\n",
    "  summarize(\n",
    "    count = n(),\n",
    "    percentage = (n()/num_obs) * 100,\n",
    "    sulphates_mean = mean(sulphates, na.rm = TRUE),\n",
    "    pH_mean = mean(pH, na.rm = TRUE),\n",
    "    total.sulfur.dioxide_mean = mean(total.sulfur.dioxide, na.rm = TRUE),\n",
    "    \n",
    "  )\n",
    "\n",
<<<<<<< HEAD
<<<<<<< HEAD
    "wine_summary_train\n"
=======
    "wine_summary_train"
>>>>>>> 4c5e6c2640bb7d4daad09cb8687575fad3cc5158
=======
    "wine_summary_train\n",
    "\n",
    "# wine_changed <- pivot_longer(wine_summary_train,\n",
    "#                             )"
>>>>>>> parent of 4c5e6c2... change?
   ]
  },
  {
   "cell_type": "code",
   "execution_count": 9,
   "metadata": {},
   "outputs": [
    {
<<<<<<< HEAD
     "ename": "ERROR",
     "evalue": "Error in mean(sulphates): object 'sulphates' not found\n",
     "output_type": "error",
     "traceback": [
      "Error in mean(sulphates): object 'sulphates' not found\nTraceback:\n",
      "1. mean(sulphates)"
     ]
    }
   ],
   "source": [
    "wine <- wine %>% \n",
    "  mutate(sulphates_mean = mean(sulphates))\n",
    "mean(sulphates)\n",
    "wine"
=======
     "data": {
      "image/png": "iVBORw0KGgoAAAANSUhEUgAAA0gAAANICAIAAAByhViMAAAACXBIWXMAABJ0AAASdAHeZh94\nAAAgAElEQVR4nOzdeXzU9Z348e9MEgKBQICEy2BFQFBUUNGCV6knghfLasUDKq001i3Vlrpq\ndRFsrat1garVouJSD6BUFK3WKv7ESostrSjUE9RqRBC5cgAh5++P2c2DVcEAMxnmw/P5h4/M\nh8kn73xDhpffuWINDQ0RAACZL57uAQAASA5hBwAQCGEHABAIYQcAEAhhBwAQCGEHABAIYQcA\nEAhhBwAQiOx0D7D7Kioqamtr0z3FHmnTpk1WVlZZWVm6B8lssVisbdu2tbW1mzdvTvcsmS07\nO7t169ZVVVXbtm1L9yyZrWXLlrm5uZWVlXV1demeJbO1adMmHo+Xl5ene5DMFsyNZE5OTps2\nbdI9xd4ug8Ouvr4+0280Y7FYPB7P9O8i7RKHMRaLOZJ7KCsrKx6PR1HkSO65eDwewG1U2rmR\nTIrEYYwy/1c7OzuDo6XZuCsWACAQwg4AIBDCDgAgEMIOACAQwg4AIBDCDgAgEMIOACAQwg4A\nIBDCDgAgEMIOACAQwg4AIBDCDgAgEMIOACAQwg4AIBDCDgAgEMIOACAQwg4AIBDCDgAgEMIO\nACAQwg4AIBDCDgAgEMIOACAQwg4AIBDCDgAgEMIOACAQwg4AIBDCDgAgEMIOACAQwg4AIBDC\nDgAgEMIOACAQwg4AIBDCDgAgEMIOACAQ2ekeAGBPFf3j7XSPkBk+PbRPukcAUssZOwCAQAg7\nAIBACDsAgEAIOwCAQAg7AIBACDsAgEAIOwCAQAg7AIBACDsAgEAIOwCAQAg7AIBACDsAgEAI\nOwCAQAg7AIBACDsAgEBkp3sA2HcVLT0r3SNkhk+PeDLdIwBkBmfsAAACIewAAAIh7AAAAiHs\nAAACIewAAAIh7AAAAiHsAAACIewAAAIh7AAAAiHsAAACIewAAAIh7AAAAiHsAAACIewAAAIh\n7AAAAiHsAAACIewAAAIh7AAAAiHsAAACIewAAAIh7AAAAiHsAAACIewAAAIh7AAAAiHsAAAC\nIewAAAIh7AAAAiHsAAACkZ3S3UtLS2fOnPnmm282NDT06NHjkksu6du3bxRFlZWV06dPX7Zs\nWU1NTZ8+fUpKSjp16rSTdQAAvlQKz9jV1tbecMMNrVu3vvXWW2+//faioqJJkyZt3bo1iqKp\nU6euXbt24sSJt912W15e3uTJk+vr63eyDgDAl0ph2G3evPmcc84pKSnZb7/9unbtet55523e\nvHn16tXr1q1bsmTJuHHjevTo0a1bt5KSklWrVi1fvnxH66mbEAAgJCkMu3bt2o0YMaJVq1ZR\nFFVUVDzxxBPFxcXdu3dfsWJFTk5Ojx49Eldr06ZNcXHx22+/vaP11E0IABCS1D7GLoqi+vr6\n8847r6am5tBDD73ppptycnLKy8vz8/NjsVjjddq1a1dWVtauXbsvXG+8+PLLL//sZz9rvDhp\n0qTDDjss1fOnVDwej6Koffv26R4kBNnZ2Y5kqPxkkyXjjmQ8Ho/FYhk39t4pJycn04+kR2c1\nRcqfFRuPx6dNm/bTn/60bdu21113XWVlZRRF29fb9na0DgDAl0r5GbsoioqLi4uLi/v163fh\nhRe++OKLhYWF5eXlDQ0NjRlXVlbWvn37goKCL1xv3GfQoEHz589vvFhWVrZx48ZmmD91CgoK\nsrOzM/27SLtYLNaxY8fa2trtz+8SEr8jyZJxR7KgoCArKyvjxt7bJG4ka2pqysvL0z3LHsnN\nzc3JyUn3FHu7FJ6xW7p06bhx47Zt25a4GIvFsrOzoyjq3bt3TU3Nu+++m1gvLy8vLS09+OCD\nd7SeugkBAEKSwrDr3bt3VVXV1KlTS0tL16xZc99991VVVR111FEdOnQYPHjwXXfd9f77769a\ntWrKlCk9e/Y85JBDdrSeugkBAEISa2hoSN3uH3zwwQMPPPDGG2/EYrH999//4osv7t+/fxRF\nW7ZsmT59+tKlS+vq6vr161dSUpK4y3VH61+orKyspqYmdcM3g8RdsevWrUv3IJmt8V6GjLsr\ntmjpWekeITN8esSTO79C0T88fb5JPj20T7pH2DWJu2LXr1+f7kEyW+JGsrq6OoC7YvPz89M9\nxd4utWGXUsKOBGEXPGGXLMJu3yTs9ineKxYAIBDCDgAgEMIOACAQwg4AIBDCDgAgEMIOACAQ\nwg4AIBDCDgAgEMIOACAQwg4AIBDCDgAgEMIOACAQwg4AIBDCDgAgEMIOACAQwg4AIBDCDgAg\nEMIOACAQwg4AIBDCDgAgEMIOACAQwg4AIBDCDgAgEMIOACAQwg4AIBDCDgAgEMIOACAQwg4A\nIBDCDgAgEMIOACAQwg4AIBDCDgAgEMIOACAQwg4AIBDCDgAgEMIOACAQwg4AIBDCDgAgEMIO\nACAQwg4AIBDCDgAgEMIOACAQwg4AIBDCDgAgEMIOACAQwg4AIBDCDgAgEMIOACAQwg4AIBDC\nDgAgEMIOACAQwg4AIBDCDgAgEMIOACAQwg4AIBDCDgAgEMIOACAQwg4AIBDCDgAgEMIOACAQ\nwg4AIBDCDgAgEMIOACAQwg4AIBDCDgAgEMIOACAQwg4AIBDCDgAgEMIOACAQwg4AIBDCDgAg\nEMIOACAQwg4AIBDCDgAgEMIOACAQwg4AIBDCDgAgEMIOACAQwg4AIBDCDgAgEMIOACAQwg4A\nIBDCDgAgEMIOACAQwg4AIBDCDgAgEMIOACAQwg4AIBDCDgAgEMIOACAQwg4AIBDCDgAgEMIO\nACAQwg4AIBDCDgAgEMIOACAQwg4AIBDCDgAgEMIOACAQwg4AIBDCDgAgEMIOACAQwg4AIBDZ\n6R5g97Vq1ap169bpnmKPZGVlRVFUUFCQ7kFCkJ2d7UiGyk82WTLuSGZlZcVisYwbe++Uk5OT\n6Ueyvr4+3SNkgAwOu23bttXW1qZ7ij2Sn5+fnZ1dUVGR7kEyW+J2v7a2trKyMt2zkBJ+R5Il\n445k27Zt4/F4xo29twnmRjInJ6dFixbpnmJvl8FhV19fX1dXl+4pkiCM7yKNYrFY4gNHMlR+\nssmScUeyoaEhysCx9zaJG8mGhoZMP5LZ2RkcLc3GY+wAAAIh7AAAAiHsAAACIewAAAIh7AAA\nAiHsAAACIewAAAIh7AAAAiHsAAACIewAAAIh7AAAAiHsAAACIewAAAIh7AAAAiHsAAACIewA\nAAIh7AAAAiHsAAACIewAAAIh7AAAAiHsAAACIewAAAIh7AAAAiHsAAACIewAAAIh7AAAAiHs\nAAACIewAAAIh7AAAAiHsAAACIewAAAIh7AAAAiHsAAACIewAAAIh7AAAAiHsAAACIewAAAIh\n7AAAAiHsAAACIewAAAIh7AAAAiHsAAACIewAAAIh7AAAAiHsAAACIewAAAIh7AAAAiHsAAAC\nIewAAAIh7AAAAiHsAAACIewAAAIh7AAAAiHsAAACIewAAAIh7AAAAiHsAAACIewAAAIh7AAA\nAiHsAAACIewAAAIh7AAAAiHsAAACIewAAAIh7AAAAiHsAAACIewAAAIh7AAAAiHsAAACIewA\nAAIh7AAAAiHsAAACIewAAAIh7AAAAiHsAAACIewAAAIh7AAAAiHsAAACIewAAAIh7AAAAiHs\nAAACIewAAAIh7AAAAiHsAAACIewAAAIh7AAAAiHsAAACIewAAAIh7AAAAiHsAAACIewAAAIh\n7AAAAiHsAAACIewAAAIh7AAAku/444/v27dv4uNBgwY1fpxS2c3wNQAA9mUXXHDB1q1bEx+/\n+uqrRxxxRENDQyq+kLADAEitK6+8svHjl156KXVfyF2xAMC+q6Gh4cYbbywuLm7ZsuVhhx02\nb968K664Ijv7f858DRgwYMCAAdtf/9xzzy0sLGy8OHv27GOOOSYvL69t27YDBw6cPXv2F36V\nxrtihw4dOn78+CiKYrHYwIEDjz/++MLCwurq6u2vPGTIkKKiopqamt34doQdALDvuuWWWyZN\nmnT88cc/8cQTN9xww80337xw4cLc3NymfO6cOXNGjRpVXFw8d+7cWbNmFRUVjRo16qmnntrJ\np9xxxx3nnHNOFEVLlix58MEHx44du379+ieffLLxCmvWrHnppZcuvPDCnJyc3fh23BULAOyj\nGhoa7rjjjp49e86aNSsWi0VRdOyxx/bo0aOJYffee++ddNJJs2fPbtGiRRRFJ5xwQseOHWfN\nmjV8+PAdfUrv3r0TJ/wGDhwYRVH37t2///3vz5w5c+TIkYkr/Pa3v62vrx8zZszufUfO2AEA\n+6jS0tLVq1cPHTo0UXVRFBUXFx911FFN/PRrr732+eefT1RdFEVt27bt0qXLhx9+2PQB2rRp\nc9555/3+979fu3ZtYuU3v/nNoYceeuSRRzZ9k+0JOwBgH7VmzZooirp06bL94n777dfETy8v\nL/+P//iPww47rF27dtnZ2dnZ2R999FF9ff0uzTB27Nja2tqHHnooiqKPP/540aJFo0eP3qUd\ntpfau2I3bNgwY8aM1157rbq6+sADD7z00ksPOuigKIoqKyunT5++bNmympqaPn36lJSUdOrU\naSfrAABJl3jNkdra2u0Xm15mZ5111p/+9Kd///d/Hzp0aEFBQSwWO/3003d1huOPP/6ggw6a\nOXPmD37wg7lz58bj8YsvvnhXN2mU2jN2P/nJT9atWzdp0qSpU6cWFhZOnjy5qqoqiqKpU6eu\nXbt24sSJt912W15e3uTJkxMHcUfrAABJV1RUFEXRp59+uv3iP//5z8aP4/F4XV3d9n+aOMkX\nRdHKlSv/+Mc/jh079qc//ekJJ5xw2GGH9e3bd8OGDbsxxqWXXrps2bLXX3/9kUceOfXUU7t2\n7bobm/zPwLv9mV+qoqKiqKjoiiuuOPDAA7t27Tp69Ojy8vLS0tJ169YtWbJk3LhxPXr06Nat\nW0lJyapVq5YvX76j9dRNCADsyw444IDCwsJnn3228UTS22+//dprrzVeoX379mvWrGl8MeG1\na9cuW7Ys8XHi5UiKi4sbr3z33XdXVVV9JgQ/L/F4vu1PE44ZMyYrK+vmm2/+61//uttPm0hI\nYdjl5+dfe+213bt3T1xcv359PB4vLCxcsWJFTk5Ojx49Eutt2rQpLi5+++23d7SeugkBgH1Z\nPB6//PLLV65c+a//+q+PPvro9OnThw4d2r9//8YrnH322evWrfvP//zPTz75ZOnSpRdccMGB\nBx6Y+KNevXp17959+vTpTzzxxJ/+9KcJEybMmzdvyJAhr7/++gsvvLB58+YdfdFu3bpFUXTz\nzTc/+uijiZWuXbsOHTr0kUceadu2beLFUHZbM73cSUVFxR133HHuuee2b9++vLw8Pz+/8ekn\nURS1a9eurKysXbt2X7jeePG9997b/rVhhg0bljg0mSsej0dR1Lp163QPEoKsrCxHMlR+ssmS\ncUcyHo/HYrGMG3tvk/iHNYAbye0LIYkmTpxYXV09c+bMp59+uk+fPr/4xS8eeeSRFStWJP70\n8ssv//DDD++8884bb7yxb9++P/nJT5555plf//rXURTl5OTMmzdv/Pjxo0aNys/PP/fcc+fP\nn//HP/7x0ksvHTly5Msvv7yjr3jZZZc9+eSTP/nJTw488MDGVzkZO3bsU089df7557dq1WpP\nvp3mCLuPPvropptuGjBgQOPZxR39bHb+M/vggw9mzpzZePGrX/1qz549kzhnuuzhj5CEeDzu\nSIbKTzZZMvRIZujYe5usrKxMP5KfeYpDsmRlZd1yyy233HJL48rDDz/c+HGLFi1uv/3222+/\nvXHlzDPPvPPOOxMfDxw48M9//vP2u5155pmNj9hbtGhR4/r2nVdcXPzKK698ZozEyxFfdtll\ne/jtpDzsXnvttVtvvXXUqFFnnnlmYqWgoKC8vLyhoaEx48rKytq3b7+j9catBg4c+OCDDzZe\n7Nix46ZNm1I9f0rl5+dnZWVl+neRdrFYrF27drW1tZWVlemehZTwO5IsGXck8/Pz4/H49nfd\nsBsSN5I1NTU7uXMwI+Tk5DS+01dgampqJk+ePGjQoGOOOWYPt0rtAXrjjTf+8z//84c//OH2\nr/XXu3fvmpqad999t1evXlEUJZ5RcfDBB3ft2vUL1xs/MT8/f/uLZWVlu/c2anuPL3yWNbsq\n8X8CDQ0NjmSo/GSTJeOOpBvJpAjmRjIrKyvdIyRfaWnp0qVL77777qVLly5evHjPN0zhkyeq\nq6unTp169tlnf+UrX1n3v6qqqjp06DB48OC77rrr/fffX7Vq1ZQpU3r27HnIIYfsaD11EwIA\npNFzzz137rnnvv3220888cTRRx+95xvGGp/Bm3SvvfbaDTfc8JnF73znO8OHD9+yZcv06dOX\nLl1aV1fXr1+/kpKSxF2uO1r/QgGcsSsoKMjOzl63bl26B8lssVisY8eONTU1GXd/TdHSs9I9\nQmb49Ignd36Fon94+nyTfHpon3SPsGsKCgqysrLWr1+f7kEyW+JGsrq6ury8PN2z7JHc3Nz8\n/Px0T7G3S2HYpZqwI0HYBU/YJYuw2zcJu32K94oFAAiEsAMACISwAwAIhLADAAiEsAMACESY\nr+AMAPClKioqUrFtGp+9K+wAgH1Xi5/8OLkbVl//0+RuuEvcFQsAEAhhBwAQCGEHABAIYQcA\nEAhhBwAQCGEHABAIYQcAEAhhBwAQCGEHANB83nzzzbPPPrtjx44dOnQ46aSTFi9enMTNhR0A\nQDOprq4+5ZRTCgoK/vznP//1r3/t3r37sGHDkvjOZsIOAKCZlJWVXXXVVXfddVefPn169ep1\n3XXXbdq06d13303W/t4rFgCgmRQVFU2YMCHx8YYNG6ZNm9a3b9+DDz44Wfs7YwcA0Kzq6upa\ntmzZsWPHN954Y8GCBbm5ucnaWdgBADSrrKysV1999YUXXigsLBwyZMjGjRuTtbOwAwBobn37\n9h0yZMicOXM+/fTThx9+OFnbCjsAgGby7LPP9urVa8uWLYmL8Xg8JycnFosla39hBwDQTI4+\n+ujKyspvfvObb7zxxnvvvXfVVVdt3rx56NChydpf2AEANJP27dsvWLCgoqLimGOOGTBgwF/+\n8pcnn3yyZ8+eydrfy50AADSfQw899Pe//32KNnfGDgAgEMIOACAQwg4AIBDCDgAgEMIOACAQ\nwg4AIBDCDgAgEF7HDgDYd1Vf/9N0j5BMztgBAATCGTsAYN/1p0fbJnfD40aWJ3fDXeKMHQBA\nIIQdAEAghB0AQCCa+hi7LVu2lJWVde3aNYqirVu3zpkzZ/369SNGjDjwwANTOR4AAE3VpDN2\nb731Vo8ePWbOnBlFUW1t7YknnnjppZdOmDDhyCOPXLp0aYonBACgSZoUdj/+8Y87d+583nnn\nRVE0e/bsv/3tb7/85S9XrlzZr1+/m2++OcUTAgDQJE0Ku0WLFl1zzTU9e/aMomjevHmHHnro\n5Zdf3rNnzyuuuOIvf/lLiicEAKBJmhR2mzZtSjy6rq6ubuHChcOGDUusFxUVffLJJymcDgAg\nUP/93/8di8Uef/zxJO7ZpLDr3Lnze++9F0XR//t//2/jxo1Dhw5NrJeWlnbs2DGJ0wAA7As+\n+eSTa665plWrVsndtknPij3ttNOuv/76lStXzpo1q2fPnieeeGIURWvXrp02bdpxxx2X3IEA\nAIJ3xRVXXHTRRQ8//HByt23SGbubbrrpgAMOuOWWWzZv3vzQQw9lZWVFUTR+/PgPPvjghhtu\nSO5AAABhmzdv3iuvvDJ58uSk79ykM3Zdu3ZdvHhxeXl5q1atcnJyEosTJkyYNm1a586dkz4T\nAECoNm7c+G//9m8zZ85s3bp10jdv6gsUR1HUokWLV1999aOPPjrhhBMKCwsHDBiQnb0Lnw4A\nwA9+8IPTTz/91FNPTcXmTS2z22+/fdKkSRUVFVEULV68uLCwcOLEiR9//PG9994r7wAAmuK5\n55575plnXn/99RTt36TH2N17770TJkz4+te/fs899zQu9unT56GHHpoyZUqKJgMACMyMGTM2\nbdp00EEHFRYWFhYWrl27dvTo0SNHjkzW/k0KuzvvvLOkpGT+/PljxoxpXBw9evSPfvSj++67\nL1mjAACE7a677lqxYsWr/6uwsHDKlCm/+tWvkrV/k8LunXfe+cKWHDJkyPvvv5+sUQAAwtah\nQ4fi7cTj8Y4dOxYWFiZr/yY9PK5t27ZVVVWfXy8rK0v6C+sBAOwj1qxZk9wNm3TG7vDDD//5\nz3++devW7Rc3bNgwefLkQYMGJXcgAAB2T5PO2P34xz8+5ZRTDj/88OHDh0dRdO+9995zzz2P\nPfbY1q1bt386BQAAadSkM3ZDhgz5wx/+kJ+fP23atCiKZsyYMXPmzL59+z733HPeUgwAYC/R\n1JegO/nkk1955ZW1a9d+/PHHURR95Stfad++fSoHAwBg1zTpjN3AgQPffPPNKIo6deo0YMCA\nAQMGJKru0UcfPeSQQ1I7IAAATdOksPv73/++efPmzyzW1ta+/vrr7777bgqmAgBgl33JXbGx\nWCzxwdFHH/2FVzjyyCOTPBEAALvlS8Lu1VdfffHFF7///e+fc845n3n1vFgs1q1bt8suuyyV\n4wEA0FRfEnb9+/fv37//008/fdttt/Xu3fszf1pZWbl69eqUzQYAkFrHjSxP9wjJ1KTH2D3z\nzDOfr7ooiv7yl794gWIAgL1EU1/u5Kmnnpo1a9aHH35YX1+fWKmrq3v99ddzc3NTNhsAQGq1\nffm05G5YPujZ5G64S5oUdrNnzx41alR2dnaXLl0++uijbt26bdiwoaqq6utf//qECRNSPSIA\nAE3RpLtif/7znw8dOnTDhg2lpaVZWVl/+MMfKioqfvGLXzQ0NJxwwgmpHhEAgKZoUti98847\n//Zv/5afn5+42NDQkJ2d/b3vfW/AgAHXXnttKscDAKCpmhR2NTU1WVlZiY9bt269adOmxMcj\nR4587LHHUjUaAAC7oklhd/DBB99///3V1dVRFHXv3v0Pf/hDYn3Dhg1lZWUpnA4AgCZr0pMn\nfvCDH1xyySUbN25csGDBv/zLv9x8881r164tLi6ePn16//79Uz0iAABN0aSwu/jii7Ozs//5\nz39GUXTNNde8/PLL9957bxRF3bt3nzZtWkrnAwCgiZr6OnYXXHBB4oO8vLxnn3125cqVNTU1\nvXr1ysnJSdlsAACh6d+//7Jlyxovtm7durKyMlmbNzXsPqNXr17JmgAAYN+xYcOGX/ziFyNG\njEhcjMeb9ISHJmrSXuvXrx8zZkznzp2zsrJin5PEaQAAwrZhw4aePXsW/69u3bolcfMmnbEr\nKSl59NFHBw8ePHToUPe9AgDsnm3btm3ZsmXevHnXX3/9+vXrBw4c+LOf/eyggw5K1v5NCrvf\n//73EyZMuPXWW5P1VQEA9kHl5eWdO3eurq6+5557GhoaJk2adOKJJ7711lsFBQVJ2b9JYdfQ\n0HD88ccn5esBAOyzioqK1qxZ03hxzpw5Xbt2ffTRR7/1rW8lZf8mPcbu2GOPfeONN5Ly9QAA\nSMjPz99///1LS0uTtWGTwu7uu++ePXv2448/3tDQkKwvDACwr/nHP/5x2WWXJd7NK4qiysrK\nDz/8sGfPnsnaf2d3xR5wwAH/c6Xs7Nra2hEjRrRs2bJz586fuVrihYsBANi5rl27PvbYY9XV\n1RMnTqypqbnuuus6dOgwcuTIZO2/s7D7zIvVee06AIA90bFjxwULFkyYMOHII49s0aLF4MGD\nX3zxxby8vGTtv7OwW7BgQbK+DAAAURQNGDAgdYm1C+888cknn7zyyiuffPJJPB7v3LnzgAED\nPn+3LAAA6dKksNu0adO4ceMee+yx2traxsVYLHbhhRf+6le/at26dcrGAwCgqZoUdlddddXj\njz8+ZsyYE088sWPHjrW1tZ988snTTz/98MMP5+fn33333ameEgCAL9WksJs/f/599903evTo\n7RfHjRt3zTXX3HfffcIOAGBv0KTXsduyZctpp532+fXTTz9969atyR4JAIDd0aSw69ev33vv\nvff59bfeemvgwIHJHgkAgN3RpLC79dZbv//97y9atKjxnSfq6uqefvrpu+66a8qUKakcDwCA\npmrSY+yuv/76Dz744IQTTmjdunXiJU5Wr169devW7t27X3TRRdu/z9hbb72VqkkBAJKtfNCz\n6R4hmZoUdtXV1b169TrooIMaV7p27ZqykQAA2B1NCru///3vqZ4DAIA9tAvvPAEAEJi2f1+W\n3A3Ljzo8uRvukp2FXd++fZuyhcfVAQDsDXYWdoWFhc02BwAAe2hnYbdo0aJmmwMAgD3UpNex\nAwBg79ekJ0/s5D7Z6urq8vLy5M0DAMBualLYHX/88Z9ZWb169fLly3v27Pm1r30tBVMBALDL\nmhR2jz/++OcX16xZ841vfOOMM85I9kgAAOyO3X+MXZcuXW6//faJEycmcRoAgOD98pe/PPDA\nA3Nzcw8//PDf/e53Sdx5j548UVxc/MYbbyRrFACA4P33f//3TTfddMcdd7zzzjuXXnrplVde\nmcSnK+z+O080NDTMmDGjY8eOyRplV+Xk5GRnZ/Y7Z8Tj8SiKWrVqle5BMlssFouiKB6PO5Kh\n8pNNlow7kvF4PBaLZdzYe5vEjWRWVlamH8nEP5oB+MlPfnLLLbcMHz48iqKrrrrqqquuSuLm\nTQqjAQMGfGalrq5uzZo169atmzBhQhKnAQAI2KpVq959990oivr3779y5cpDDz106tSpgwcP\nTtb+u3nGKycn5/DDDz/nnHNKSkqSNcquqqmpqampSddXT4rc3Nx4PL5169Z0D5LZYrFYXl5e\nfX29IxkqP9lkybgjmZubG4vFMm7svU3iRrKuri7Tj2Rubm66R0iCjz76KIqiBx54YM6cOZ06\ndZo8efKwYcPeeeedoqKipOzfpLB79dVXk/LFAAC4/vrr+/btG0XRbbfd9utf//y26PUAACAA\nSURBVPqpp5765je/mZSdvzzs6uvrt79Xu76+ftGiRaWlpf379z/00EOTMgQAwL6gW7duURQV\nFBQkLubk5HTr1m316tXJ2v9LHof48MMPH3jggY0nbzdv3nzcccd97Wtfu/jiiw877LArr7wy\nWXMAAASvW7duXbt2Xbx4ceLi1q1bP/zwwx49eiRr/52F3dNPP33JJZfU1dVt2LAhsTJp0qSX\nX375W9/61syZM88888xp06bNnz8/WaMAAIQtKytr/PjxkydPfu6550pLS7/3ve+1adPmrLPO\nStb+O7srdtq0aT179lyyZEnihGFdXd2MGTNOOOGEe++9NxaLXXTRRUccccT9999/zjnnJGsa\nAICw/ehHPyovL7/kkks2btw4aNCg559/vnXr1snafGdn7F555ZWxY8c23g28ZMmS9evXjxkz\npvEVcUaMGPG3v/0tWaMAAAQvKyvr5ptvXrNmzbZt21588cWDDz44iZvvLOw2bty4/Z2+f/zj\nH6MoOvnkkxtXunfvvm7duiROAwDAbttZ2LVt27a+vr7x4osvvtitW7cDDjigcaWioiIrKyt1\nwwEA0HQ7C7vu3bs3Pmtjw4YNzz///EknnbT9FZYvX15cXJzC6QAAaLKdhd3IkSMfeOCBuXPn\nrly5cuzYsdu2bdv+1fNWrFjxm9/8ZsiQIakeEQCApthZ2H33u98tKio6//zze/fuPX/+/FGj\nRjU+wO7xxx8/9thjY7HYD37wg2aZEwCAL7GzlzspLCz8+9//PnPmzNWrVx911FHnn39+4x9V\nVla2b99++vTpyX0qBwAAu+1L3lKsQ4cOV1111efXzzvvvIsuuijxuicAAOwNvvy9Yr9Qbm5u\ncucAAGh+5Ucdnu4RkulL3isWAIBMIewAAAKxm3fFAgAE4Pu/yU/uhtPOr0juhrvEGTsAgEAI\nOwCAQAg7AIBACDsAgEAIOwCAQAg7AIBACDsAgEAIOwCAZrJw4cLY59x5553J2t8LFAMANJPB\ngweXlpY2XvznP/95xhlnnHTSScnaX9gBADST3Nzc4uLixouXXnrpD3/4w0MOOSRZ+ws7AIA0\nmD179sqVK5966qkk7ukxdgAAza2urm7ixIk33HBDixYtkritsAMAaG5z587dvHnz6NGjk7ut\nsAMAaG4PPvjgyJEjs7OT/KA4YQcA0Kw2bdr03HPPnXXWWUnfWdgBADSrv//97zU1Nb179076\nzsIOAKBZrV69OhaLde3aNek7CzsAgGZ18cUX19fXJ/f5sAnCDgAgEMIOACAQwg4AIBDCDgAg\nEMIOACAQwg4AIBDCDgAgEEl+hzIAgAwy7fyKdI+QTM7YAQAEwhk7AGDflfWDsuRuWPdf7ZK7\n4S5xxg4AIBDCDgAgEMIOACAQwg4AIBDCDgAgEMIOACAQwg4AIBDCDgAgEMIOAKD5vPXWW2ed\ndVZRUVFBQcGJJ564aNGiJG4u7AAAmklDQ8Pw4cO7dOmycuXKjz/+eMiQIWecccb69euTtb+w\nAwBoJuvWrXvvvffGjh3brl27vLy8yy+/vLKycuXKlcnaX9gBADSToqKiwYMH/+pXv9qwYUNl\nZeX06dN79OjRv3//ZO2fnayNAAD4Ur/97W9PO+20jh07RlHUtWvX3/3udy1btkzW5s7YAQA0\nk+rq6uHDhw8ePHjt2rWbNm0aP3786aefvnr16mTtL+wAAJrJwoULX3vttSlTphQVFbVr1+6a\na67Jy8ubO3dusvYXdgAAzaS+vr6hoaG+vr5xpaamJon7CzsAgGYyePDgLl26/PCHP9y4cePW\nrVtvu+22jRs3Dhs2LFn7CzsAgGbSrl2755577uOPPz7ooIO6des2f/78p59+ulevXsna37Ni\nAQCaz6GHHvrUU0+laHNn7AAAAiHsAAACIewAAAIh7AAAAiHsAAACIewAAAIh7AAAAuF17ACA\nfVfdf7VL9wjJJOwAgH1Ufn5+ukdIMnfFAgAEQtgBAARC2AEABELYAQAEQtgBAARC2AEABELY\nAQAEQtgBAARC2AEABELYAQAEQtgBAARC2AEABELYAQAEIjvdAwCwt7h6fmG6R/hCe9dUt56z\nLt0jwA45YwcAEAhhBwAQCGEHABAIYQcAEAhhBwAQCGEHABAIYQcAEAhhBwAQCGEHABAIYQcA\nEAhhBwAQCGEHABAIYQcAEAhhBwAQCGEHABAIYQcAEIjsVH+BVatWTZkyZeXKlY8//njjYmVl\n5fTp05ctW1ZTU9OnT5+SkpJOnTrtZB0AgC+V2jN2L7300nXXXVdcXPyZ9alTp65du3bixIm3\n3XZbXl7e5MmT6+vrd7IOAMCXSm3Y1dTU/PznPx80aND2i+vWrVuyZMm4ceN69OjRrVu3kpKS\nVatWLV++fEfrKZ0QACAYqb0r9qSTToqi6N13391+ccWKFTk5OT169EhcbNOmTXFx8dtvv71l\ny5YvXO/fv39ipaKi4qOPPmrcp2PHji1atEjp/KkWi8WiKMrOTvkd4mFLHMZYLOZIhspPNlkc\nyaTIuMMYzI1kPO6JAV8uDT/j8vLy/Pz8xN+zhHbt2pWVlbVr1+4L1xsv/u1vf/vRj37UePGX\nv/zlMccc0zwzp1RBQUG6RwhBdna2IxkqP9lkcSSTIkMPY05OToZO3qi2tjbdI2SA9MT79vXW\nlPWEr3zlK2PGjGm82LFjx61btyZ5suaVm5sbj8cz/bvYG7Rq1aq+vn7btm3pHoSU8DuSLE04\nkq2aY44Ml3F/IWOxWMuWLevq6qqrq9M9yx4J4KRjM0jDASooKCgvL29oaGjMuLKysvbt2+9o\nvfETDzzwwO9973uNF8vKyjZv3tyckyddTk5OPB7P9O8i7WKxWKtWrerq6hzJUPnJJksTjqSw\n+3IZ9xeyMewybvLPyM3NbdmyZbqn2Nul4e7q3r1719TUND7wrry8vLS09OCDD97RevNPCACQ\niVIbdhs3bly3bl1FRUUURevWrVu3bl1VVVWHDh0GDx581113vf/++4lXuevZs+chhxyyo/WU\nTggAEIxYQ0ND6nb/9re/vXbt2s+snH322Vu2bJk+ffrSpUvr6ur69etXUlKSuMt1R+tfqKys\nrKamJnXDN4OCgoLs7Ox169ale5DMFovFOnbsWFNTs/1TbTJC0dKz0j1CZvj0iCd3foWif7zd\nPJNkuk8P7bPzK1w9v7B5Jslot56TYTfaiRvJ6urq8vLydM+yR3Jzc/Pz89M9xd4utY+xu+++\n+75wPS8v78orr2z6OgAAX8pLwgAABELYAQAEQtgBAARC2AEABELYAQAEQtgBAARC2AEABELY\nAQAEQtgBAARC2AEABELYAQAEQtgBAARC2AEABELYAQAEQtgBAARC2AEABELYAQAEQtgBAARC\n2AEABELYAQAEQtgBAARC2AEABELYAQAEQtgBAARC2AEABELYAQAEQtgBAARC2AEABELYAQAE\nQtgBAARC2AEABELYAQAEQtgBAARC2AEABELYAQAEQtgBAARC2AEABELYAQAEQtgBAARC2AEA\nBELYAQAEQtgBAARC2AEABELYAQAEQtgBAARC2AEABELYAQAEQtgBAARC2AEABELYAQAEQtgB\nAARC2AEABELYAQAEQtgBAARC2AEABELYAQAEQtgBAARC2AEABELYAQAEQtgBAARC2AEABELY\nAQAEQtgBAARC2AEABELYAQAEQtgBAARC2AEABELYAQAEQtgBAARC2AEABELYAQAEQtgBAARC\n2AEABELYAQAEQtgBAARC2AEABELYAQAEQtgBAARC2AEABELYAQAEQtgBAARC2AEABELYAQAE\nQtgBAARC2AEABELYAQAEQtgBAARC2AEABELYAQAEQtgBAARC2AEABELYAQAEQtgBAARC2AEA\nBELYAQAEQtgBAARC2AEABELYAQAEQtgBAARC2AEABELYAQAEQtgBAAQiO90D7L54PJ6VlZXu\nKZIgjO8ijWKxWOIDRzJUfrLJ4kgmRcYdxsSNZCwWy7jJP6Px1p6dyOCwy83NbdWqVbqn2COJ\n37H8/Px0DxKC7OxsRzJUfrLJ4kgmRYYexgBuJOvr69M9QgbI4LDbunVrTU1NuqfYIwUFBdnZ\n2Zs2bUr3IJktFot17Nixtra2rKws3bOQEn5HkqUJR7KwOebIcBn3FzJxI1lTU1NeXp7uWfZI\nbm5uixYt0j3F3s5j7AAAAiHsAAACIewAAAIh7AAAAiHsAAACIewAAAIh7AAAAiHsAAACIewA\nAAIh7AAAAiHsAAACIewAAAIh7AAAAiHsAAACIewAAAIh7AAAAiHsAAACIewAAAIh7AAAAiHs\nAAACIewAAAIh7AAAAiHsAAACIewAAAIh7AAAAiHsAAACIewAAAIh7AAAAiHsAAACIewAAAIh\n7AAAAiHsAAACIewAAAIh7AAAAiHsAAACIewAAAIh7AAAAiHsAAACIewAAAIh7AAAAiHsAAAC\nIewAAAIh7AAAAiHsAAACIewAAAIh7AAAAiHsAAACIewAAAIh7AAAAiHsAAACIewAAAIh7AAA\nAiHsAAACIewAAAIh7AAAAiHsAAACIewAAAKRne4ByDx/+11RukfIDAPP/DTdIwCwb3HGDgAg\nEMIOACAQwg4AIBDCDgAgEMIOACAQwg4AIBDCDgAgEMIOACAQwg4AIBDCDgAgEMIOACAQwg4A\nIBDCDgAgEMIOACAQwg4AIBDCDgAgEMIOACAQwg4AIBDCDgAgEMIOACAQwg4AIBDCDgAgEMIO\nACAQwg4AIBDCDgAgENnpHgAAgpJ3bVW6R/isLdFHURTlpXuMz9jys5bpHiFAztgBAARC2AEA\nBELYAQAEQtgBAARC2AEABELYAQAEQtgBAARC2AEABELYAQAEQtgBAARC2AEABELYAQAEQtgB\nAARC2AEABELYAQAEIjvdAzSr/Nsmp3uE/6MuiuqiKD/dY3xGxY/+I90jAAC7wxk7AIBACDsA\ngEAIOwCAQOxdj7GrrKycPn36smXLampq+vTpU1JS0qlTp3QPBQCQGfauM3ZTp05du3btxIkT\nb7vttry8vMmTJ9fX16d7KACAzLAXhd26deuWLFkybty4Hj16dOvWraSkZNWqVcuXL0/3XAAA\nmWEvCrsVK1bk5OT06NEjcbFNmzbFxcVvv/12eqcCAMgUe9Fj7MrLy/Pz82OxWONKu3btysrK\nGi++/PLLP/vZzxovTpo06bDDDtulL1G751PuA9q3b5/uEQLhSCaLI5ksjmRSfOlh3Batbp5J\nMt2u/oX06Kym2IvCLoqi7asuFbJvnpLS/XdVPB6PxWJ1dXXpHmTXnHrJXlfIWVlZDQ0NGfc7\nX3vSonSP8H/EYrF4PF5fX9/Q0JDuWXZN7QmD0j3C/5H41c7EI3nvN/eum6MMvZHMvadrukf4\nrAy9kWQ37EVhV1BQUF5e3tDQ0Jh3ZWVl2+f8oEGD5s+f33ixrKxs48aNzT1lUhUUFGRnZ2f6\nd5F2sVisY8eOtbW125/fZTe0aNGibdu2VVVVW7ZsSfcsma1169atWrUqLy+vrd3r/i8osxQU\nFGRlZbmR3EOJG8mampry8vJ0z7JHcnNzc3Jy0j3F3m4veoxd7969a2pq3n333cTF8vLy0tLS\ngw8+OL1TAQBkir0o7Dp06DB48OC77rrr/fffX7Vq1ZQpU3r27HnIIYekey4AgMywF90VG0XR\n+PHjp0+ffuONN9bV1fXr1+/6669P9aPuAACCsXeFXV5e3pVXXpnuKQAAMtJedFcsAAB7QtgB\nAARC2AEABELYAQAEQtgBAARC2AEABELYAQAEQtgBAARC2AEABELYAQAEQtgBAARC2AEABELY\nAQAEQtgBAARC2AEABELYAQAEQtgBAARC2AEABELYAQAEQtgBAARC2AEABELYAQAEQtgBAARC\n2AEABELYAQAEQtgBAARC2AEABELYAQAEQtgBAAQi1tDQkO4Z9l0PPPDAmjVrrr322nQPktmq\nq6t//vOfH3DAARdeeGG6Z8lsK1asmDt37te+9rXjjjsu3bNktgULFvz1r38dM2bMfvvtl+5Z\nMtv999+/fv36q6++Ot2DZLaqqqr/+q//6tmz5ze+8Y10z0LKOWOXTi+88MJjjz2W7ikyXm1t\n7bx58xYtWpTuQTLe6tWr582b9/bbb6d7kIy3bNmyefPmrV+/Pt2DZLznn3/+8ccfT/cUGa+6\nunrevHl/+tOf0j0IzUHYAQAEQtgBAARC2AEABMKTJwAAAuGMHQBAIIQdAEAghB0AQCCy0z3A\nPqq0tHTmzJlvvvlmQ0NDjx49Lrnkkr59+6Z7qMz2/PPPT5s27brrrhs0aFC6Z8lI48eP/+c/\n/9l4sWXLlr/5zW/SN04Ge/rppx977LH169fvt99+o0ePPvroo9M9UeZZvnz5j3/8488sfuc7\n3xk+fHha5sloH3300QMPPPD222/X1tYm/rk55JBD0j0UKSTs0qC2tvaGG27o37//rbfeGo/H\n58yZM2nSpBkzZrRq1Srdo2WqTZs2zZw5s0WLFukeJINVVlaOGzeuMYvjcafzd8fzzz8/Z86c\n733ve/vvv//ixYvvvffefv365eXlpXuuDNO3b98ZM2Y0Xly7du2NN954+OGHp3GkDNXQ0DB5\n8uTDDz98+vTpWVlZv/3tb2+88cb7778/Pz8/3aORKm6702Dz5s3nnHNOSUnJfvvt17Vr1/PO\nO2/z5s2rV69O91wZ7J577hkyZIh/PvdERUVFly5dCv9Xhw4d0j1RRpozZ86YMWMGDhzYqVOn\nc845Z/r06f5a7oacnJzC7cyaNWvEiBHdu3dP91yZp7y8fM2aNaecckpeXl5ubu6wYcOqqqr8\ncxM2Z+zSoF27diNGjEh8XFFR8cQTTxQXF7vN2m2LFy9+9913r7zyyoULF6Z7lkxVU1Ozbdu2\nxYsXP/TQQxUVFb169Ro9erT3Od1V69evX7NmTRRF48ePX7169Ve+8pVvf/vbHmWxh1566aXV\nq1dPnDgx3YNkpHbt2vXt2/eZZ57Zb7/9cnJynnnmmc6dOx9wwAHpnosUcsYuberr60eOHHnR\nRReVlpbedNNNOTk56Z4oI1VWVt5zzz1XXHFFy5Yt0z1LBtuyZUtBQUFtbe13v/vdf//3f6+u\nrr722ms3b96c7rkyTOLNYRcsWHD11VfPmDGjT58+kyZNKisrS/dcGay+vv6RRx654IILsrOd\nhthN11xzzcqVKy+66KLzzz//mWeeueaaazxqJWzCLm3i8fi0adN++tOftm3b9rrrrqusrEz3\nRBnp/vvvP/LIIwcMGJDuQTJbu3btfv3rX1911VUHHXTQQQcddPXVV1dVVf35z39O91wZ6Rvf\n+EZxcXF+fv7YsWNjsdjf/va3dE+Uwf70pz9VVVV9/etfT/cgmaq2tnby5Ml9+/Z98MEHZ8+e\nfdZZZ02cOHHjxo3pnosUEnbpVFxcfNhhh1199dVlZWUvvvhiusfJPK+++uorr7wyduzYdA8S\nmlatWhUVFa1bty7dg2SYxAMTW7dunbiYlZXVoUMH/4juiRdeeOHYY4/NyspK9yCZavny5e+/\n//63v/3tdu3a5eXl/eu//mtubu6iRYvSPRcpJOzSYOnSpePGjdu2bVviYiwWcy/D7nnuuec2\nb95cUlJy0UUXXXTRRWVlZVOmTPnZz36W7rkyzwcffHDnnXfW1tYmLlZVVX366addunRJ71QZ\np0OHDu3bt3/rrbcSF6urqz/99NPOnTund6rMtXnz5qVLlx5zzDHpHiSDNTQ0NDQ01NfXN640\n/poTKj2RBr17966qqpo6deqFF16Yk5Pz5JNPVlVVHXXUUemeK/OUlJRceumljRevuuqq0aNH\nf/WrX03jSBmqQ4cOixcvrq2tveCCC+rq6n7961+3adPm2GOPTfdcGSYej5911lmzZ88uLi4u\nLi6eNWtWy5YtvY7dblu5cmVdXV3Xrl3TPUgG69u3b/v27WfMmPHNb36zRYsWv/vd7zZv3jxw\n4MB0z0UKxRoaGtI9w77ogw8+eOCBB954441YLLb//vtffPHF/fv3T/dQGW/06NHf/e53vUDx\n7nnvvfceeOCBFStW5OTk9OnT57LLLnOqaTfU19c/9NBDCxYsqKys7NOnz3e/+11PeN9tCxcu\nnDJlyqOPPuo+jT3xwQcfzJw585133qmrq0v8c3PYYYeleyhSSNgBAATCY+wAAAIh7AAAAiHs\nAAACIewAAAIh7AAAAiHsAAACIewAAAIh7IAvNmjQoLy8vKqqqu0Xn3rqqVgs9vn35x0xYkQ8\nHl+zZs2gQYP69u2bopHWrl374x//eMCAAW3btm3VqlXPnj0vu+yy119/PVn7H3/88Y3Dp/Qb\nAUgRL+cNfLFhw4b95S9/eemll0499dTGxeeee67xv43q6uoWLlx4xBFHdOnS5YILLti6dWsq\n5lm4cOG//Mu/VFRUnH322d/4xjdycnLefPPNuXPnzpgxY8qUKePHj0/ul9v+G3n11VePOOII\nL+cO7P2EHfDFzjjjjIkTJz777LOfCbvBgwcvXrz4rbfeajyhtWTJkk2bNp1xxhlRFF155ZWp\nGKa0tHTEiBEtW7Z84YUXtn//vVtuueXMM8/8/ve/37Nnz+HDhyfxK27/jbz00ktJ3BkgddwV\nC3yxgQMHFhUVPfvss40rH3/88RtvvHH55Zfn5ORsf9Iu8XEi7La/B/PEE0884YQTli5devLJ\nJ7dt27ZTp06jRo1au3Zt4ye++OKLp556atu2bfPy8o488sgZM2bsaJjbbrtt06ZN995772fe\nVbmoqOjRRx9t1arVddddl1gZMGDAgAEDtr/OueeeW1hY2Hhx9uzZxxxzTF5eXtu2bQcOHDh7\n9uwv/IqN38jQoUMTpwNjsdjAgQOPP/74wsLC6urq7a88ZMiQoqKimpqaHc0P0DyEHfDFYrHY\n6aefvmzZsjVr1iRWEgF36qmnHn300duH3YIFC9q3bz9o0KDP7NCiRYsPPvjgO9/5zrXXXrty\n5cq777577ty5V199deJPn3/++ZNPPrm6uvqRRx6ZP3/+V7/61W9961u33377Fw7z+OOP77//\n/meeeebn/6i4uPjcc89dtmzZ+++//6Xf1Jw5c0aNGlVcXDx37txZs2YVFRWNGjXqqaee2smn\n3HHHHeecc04URUuWLHnwwQfHjh27fv36J598svEKa9aseemlly688MKcnJwvHQAgpYQdsEPD\nhg2LtntE3bPPPtuvX78uXbqcfPLJCxcuTJygqqysXLx48WmnnZaVlfX5HUpLS6dMmXLKKad0\n6tRp5MiRQ4YMadztRz/6UY8ePX7/+9+feeaZp5566t1333322WdPmjTpM0/XiKKooqKitLT0\nqKOO2tGcxxxzTBRF//jHP770O3rvvfdOOumk2bNnDx8+fPjw4XPmzMnOzp41a9ZOPqV3796J\nE34DBw48+OCDzz///DZt2sycObPxCr/97W/r6+vHjBnzpV8dINWEHbBDp512Wjwe/8Mf/hBF\nUUNDw/PPP3/KKadEUXTKKadUVFS8/PLLURS9+OKLNTU1ifthPy8vL++4445rvFhcXJw4/7d2\n7dqlS5cOHz48Ho9X/a9hw4ZVVFQsX778M5uU///27i+kqTaOA/gzPad453Z02VpulfgH7cJR\nNtpetWWQwQQ9eCP+IRSnoNBdRBCVEOSgQdC6ibzYhdYuEkO2KNKJEg11lpPBFCmC1KLF8M/A\nKDbde/HwjoPmdFGm4/u5OnvOs+f5nV2MH+c5v+cEg4SQ1NTUzeJMS0uLdovt2rVrg4OD+/bt\nox85jjt8+PDs7OyWX4ySSCTV1dUvXryIrik/efKkoKDg1KlT2x8EAOAPQWIHAJtKT0/XarVO\npzMSiXi9Xr/fTwspioqKUlJSohWyIpHIYDD8dAS5XC78yDDM2toaIeTz58+EEIvF8o9AW1sb\nIWR+fn7dIFKplBCytLS0WZzLy8uEEI7jtryiYDDY3t6uVqtTU1MZhmEYZn5+noa0fUajMRwO\nP3r0iF7I69evGxoa4hoBAOAPQWIHALGUl5f7/X6v1+t0OlmWLS0tJYSwLHv27Fmn00kIcTqd\nhYWFCoXiFwY3Go0jG+j1+nXdOI5TKpVv377dbMORiYkJQkhBQcGWM1ZWVppMJp7nnz175vF4\nJicnlUplvGGfOXMmLy+Prsb29PQkJSVdvHgx3kEAAP4EJHYAEAt9zG54eHh4eFin00kkEtpe\nVlb25s2bDx8++Hw+2icux44dI4Ssrq7+u4GwgjWqoqJibm7ObrdvPBUIBPr6+k6ePJmVlUUI\nSUpKWl1dFXaIFn+8f//+1atXRqOxo6NDr9er1erjx48vLCzEGzwhpKmpyev1+nw+m8124cKF\njIyMXxgEAOC3Q2IHALFoNJpDhw65XK7R0VHhhnZlZWWhUMhisZD/NzqJy4EDB7RabV9fn3CB\ntaur68aNG+FweGP/q1ev0rXadRUSKysr9fX1wWCwo6ODtshksi9fvkTv7X39+tXr9dJjWu1x\n5MiR6NcfPHjw/fv3dYngRiKRiBAiDKyxsTE5OdlkMrndbpRNAMDugcQOAGKhm548f/48EAjQ\nyglKrVYrFAqr1SqTyXQ63S+MbDabv337Vlpa2tXV1d/ff/PmzZaWlk+fPjHMTzZOz8nJefz4\n8eLiokajaW5utlqt3d3d169fz8/PHxwcvHv3bvSuIc/zgUDgzp07fr/f4/HU1tZmZ2fTU7m5\nuUePHu3s7LTb7S6X68qVK0+fPj137pzP5xsaGlpZWdksVLpcazKZent7aUtGRobBYLDZbBzH\n0c1QAAB2hQgAQEw2m40QwnFcKBQSttfV1RFCampqhI06nS4/P58enz9/PjMzU3i2ublZ+LdD\n31cmlUpZls3LyzObzeumWGd6erqhoUGlUtGtVeRyeU1NjdvtFvb58ePHA23pdgAAAThJREFU\n5cuXVSrV/v37T5w44XA4Ll26JJVK6dnx8fGioiKxWKxQKFpbW5eXlx0Ox8GDB2Uy2czMTElJ\nSTR44YXMzc0VFhayLBttiUQiNMlraWnZ+hcEANgpogjefggAe83Lly8NBsOtW7fa29v/VgwO\nh4Pn+bGxMbqLHgDAboDEDgD2nlAopFQqU1JSpqamxGLxXwmguLiYYZiRkZGdnx0AYDN4xg4A\n9h6WZW/fvv3x40f6oFvsd4L9XrQ4l+d5j8dz//79HZsXAGA7kNgBwJ7U2tp67969d+/eNTU1\nPXz4cMfmHRgYqKqqmpmZsdvtp0+f3rF5AQC2A0uxAAAAAAkCd+wAAAAAEgQSOwAAAIAEgcQO\nAAAAIEEgsQMAAABIEEjsAAAAABIEEjsAAACABIHEDgAAACBB/Acxf25rg5Mu1wAAAABJRU5E\nrkJggg==",
      "text/plain": [
       "plot without title"
      ]
     },
     "metadata": {
      "image/png": {
       "height": 420,
       "width": 420
      }
     },
     "output_type": "display_data"
    }
   ],
   "source": [
    "wine_plot_sul <- wine_train %>%  \n",
    "   ggplot(aes(x = quality, y = sulphates, fill = quality)) + \n",
    "       geom_bar(stat = \"identity\") +\n",
    "       labs(x = \"Wine Quality\", y = \"Sulphates\")\n",
    "wine_plot_sul\n"
   ]
  },
  {
   "cell_type": "code",
   "execution_count": 63,
   "metadata": {},
   "outputs": [
    {
     "data": {
      "image/png": "iVBORw0KGgoAAAANSUhEUgAAA0gAAANICAMAAADKOT/pAAAC+lBMVEUAAAAAujgAv8QBAQEC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\nRK5CYII=",
      "text/plain": [
       "plot without title"
      ]
     },
     "metadata": {
      "image/png": {
       "height": 420,
       "width": 420
      }
     },
     "output_type": "display_data"
    },
    {
     "data": {
      "image/png": "iVBORw0KGgoAAAANSUhEUgAAA0gAAANICAMAAADKOT/pAAAC6FBMVEUAAAABAQECAgIDAwME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\nNBbp5gAAAABJRU5ErkJggg==",
      "text/plain": [
       "plot without title"
      ]
     },
     "metadata": {
      "image/png": {
       "height": 420,
       "width": 420
      }
     },
     "output_type": "display_data"
    }
   ],
   "source": [
    "wine_plot_ph <- wine_train %>%  \n",
    "   ggplot(aes(x = quality, y = pH, fill = quality)) + \n",
    "       geom_bar(stat = \"identity\") +\n",
    "       labs(x = \"Wine Quality\", y = \"PH\")\n",
    "wine_plot_ph\n",
    "\n",
    "\n",
    "wine_plot_ph_1 <- wine_train %>%  \n",
    "   ggplot(aes(x = quality, y = pH)) + \n",
    "       geom_boxplot() +\n",
    "       labs(x = \"Wine Quality\", y = \"PH\")\n",
    "wine_plot_ph_1"
   ]
  },
  {
   "cell_type": "code",
   "execution_count": 57,
   "metadata": {},
   "outputs": [
    {
     "name": "stderr",
     "output_type": "stream",
     "text": [
      "Warning message:\n",
      "“Removed 2 rows containing missing values (position_stack).”\n"
     ]
    },
    {
     "data": {
      "image/png": "iVBORw0KGgoAAAANSUhEUgAAA0gAAANICAIAAAByhViMAAAACXBIWXMAABJ0AAASdAHeZh94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\nAFYCiR0AAACAlUBiBwAAAGAl/gFJXZwPi4b9hgAAAABJRU5ErkJggg==",
      "text/plain": [
       "plot without title"
      ]
     },
     "metadata": {
      "image/png": {
       "height": 420,
       "width": 420
      }
     },
     "output_type": "display_data"
    }
   ],
   "source": [
<<<<<<< HEAD
    "options(repr.plot.height = 10, repr.plot.width = 10)\n",
    "\n",
    "wine_plot_PH <- wine_train %>% \n",
    "   ggplot(aes(x = pH)) + \n",
    "   geom_histogram(position = \"identity\") + \n",
    "   facet_grid(factor(quality) ~. ) +\n",
    "   xlab(\"pH\") + \n",
    "   ylab(\"Frequency\") +\n",
    "   theme(text = element_text(size=20))\n",
    "\n",
    "wine_plot_PH"
   ]
  },
  {
   "cell_type": "markdown",
   "metadata": {},
   "source": [
    "There is no relationship to be observed between pH and red wine quality yet, because the mean pH of red wine almost remains the same for different qualities of wine. This is so because the data is not balanced."
>>>>>>> 4c5e6c2640bb7d4daad09cb8687575fad3cc5158
=======
    "wine_plot_dio <- wine_train %>%  \n",
    "   ggplot(aes(x = quality, y = total.sulfur.dioxide, fill = quality)) + \n",
    "       geom_bar(stat = \"identity\") +\n",
    "       labs(x = \"Wine Quality\", y = \"Sulfur Dioxide\")\n",
    "wine_plot_dio"
>>>>>>> parent of 4c5e6c2... change?
   ]
  },
  {
   "cell_type": "code",
<<<<<<< HEAD
<<<<<<< HEAD
   "execution_count": null,
   "metadata": {},
   "outputs": [],
   "source": []
=======
   "execution_count": 58,
=======
   "execution_count": 68,
>>>>>>> parent of 4c5e6c2... change?
   "metadata": {},
   "outputs": [
    {
     "name": "stderr",
     "output_type": "stream",
     "text": [
      "`stat_bin()` using `bins = 30`. Pick better value with `binwidth`.\n",
      "\n"
     ]
    },
    {
     "data": {
      "image/png": "iVBORw0KGgoAAAANSUhEUgAAA0gAAANICAMAAADKOT/pAAAC/VBMVEUAAAABAQECAgIDAwME\nBAQFBQUGBgYHBwcICAgJCQkKCgoLCwsMDAwNDQ0ODg4PDw8QEBASEhITExMUFBQVFRUWFhYX\nFxcYGBgZGRkaGhobGxscHBwdHR0eHh4fHx8gICAhISEiIiIjIyMkJCQlJSUmJiYnJycoKCgp\nKSkqKiorKyssLCwtLS0uLi4vLy8wMDAxMTEyMjIzMzM0NDQ1NTU2NjY3Nzc4ODg5OTk6Ojo7\nOzs8PDw9PT0+Pj4/Pz9AQEBBQUFCQkJDQ0NERERFRUVGRkZHR0dISEhJSUlKSkpLS0tMTExN\nTU1OTk5PT09QUFBRUVFSUlJTU1NUVFRVVVVWVlZXV1dYWFhZWVlaWlpbW1tcXFxdXV1eXl5f\nX19gYGBhYWFiYmJjY2NkZGRlZWVmZmZnZ2doaGhpaWlqampra2tsbGxtbW1ubm5vb29wcHBx\ncXFycnJzc3N0dHR1dXV2dnZ3d3d4eHh5eXl6enp7e3t8fHx9fX1+fn5/f3+AgICBgYGCgoKD\ng4OEhISFhYWGhoaHh4eIiIiJiYmKioqLi4uMjIyNjY2Ojo6Pj4+QkJCRkZGSkpKTk5OUlJSV\nlZWWlpaXl5eYmJiZmZmampqbm5ucnJydnZ2enp6fn5+goKChoaGioqKjo6OkpKSlpaWmpqan\np6eoqKipqamqqqqrq6usrKytra2urq6vr6+wsLCxsbGysrKzs7O0tLS1tbW2tra3t7e4uLi5\nubm6urq7u7u8vLy9vb2+vr6/v7/AwMDBwcHCwsLDw8PExMTFxcXGxsbHx8fIyMjJycnKysrL\ny8vMzMzNzc3Ozs7Pz8/Q0NDR0dHS0tLT09PU1NTV1dXW1tbX19fY2NjZ2dna2trb29vc3Nzd\n3d3e3t7f39/g4ODh4eHi4uLj4+Pk5OTl5eXm5ubn5+fo6Ojp6enq6urr6+vs7Ozt7e3u7u7v\n7+/w8PDx8fHy8vLz8/P09PT19fX29vb39/f4+Pj5+fn6+vr7+/v8/Pz9/f3+/v7////cxKsm\nAAAACXBIWXMAABJ0AAASdAHeZh94AAAgAElEQVR4nO3de5xbdZ3/8YMUWEHUXV3dU4r+CtVV\nEcHqsquAV9ZF/Za2tHTLTdqKFBURl5Y7pUAVKkVaLyA3y09UlJvcCmuXgpXlolCXW3HA9Ye4\ni5cCbed+SeY8fkkmyeQk789J0knOSaav1x+dnHznzPl+kzybTCYz8QIiGnNe0hMgGg8BiagB\nAYmoAQGJqAEBiagBAYmoAQGJqAEBiagBNR/S77arisvelPRM4q247v9Jeiax9kKMkDq2q4rL\n/lPSM4m34rqfT3omsTb6HwiQGhuQkp5JrAGpWQEp6ZnEGpCaFZCSnkmsAalZASnpmcQakJoV\nkJKeSawBqVkBKemZxBqQmhWQkp5JrAGpWQEp6ZnEGpCaFZCSnkmsjW9IG8756JRJ73SXboz/\n0MlDusr3lyRw2AQhHegXOjb2Y49rSGve7ft7vjNzuX58Q+zHThzSQ3+/3UHa3588ZaQTYj/2\neIb0+P7++65/puPXZ030Pxv3sZOHdLg/eXuDtLf/vdiPWWg8Q1rh77E2d2KBP/mpuA+eNKQV\n/iGf3s4gbfT9G+M+ZrFxDemw40ZOXOn7P4/74AlDun+vPe/e3iD90vfvifuYxcYzpGJX+Xs8\nEftBE4X0zL9kEG1vkNb5/gNxH7PY9gBpo/Nd/EdNFNJS/+MbtztIt/n+fWd/8h8OOvqq38R9\n6O0A0m8e/f6h/r4/i//ASUK65y2T13Vsd5Cu9/0pI89+H/pY3Mce95A+n7lY9/vSIwkcOUFI\nGw/2L+rY/iBd4fv/dPnDT//sON+fEfexxz2kkyb5/ls+dskz8R85QUiL/E9nH9xsb5DWX/O9\nJ3MnFvn+j+M++HiH1NHx+F1nT/GPiF9ScpBunTRlffbj9gap2JNv80+K+5jjH1KmWyb6V8V+\n0MQgPf5+/5u5E9stpI5P+kfEfcjtAlLHP/nxv2YkMUir/EkH5drL3+egg2J/3r8VIB3iHxn3\nIcczpGMOXJw/dUACrxFKDNKlfmn/FfPRE4R01ZJrR048sZd/WtwHH8+QjvX3+WXuxD0T/WVx\nHzzplwh1bH8P7T7j7z/y4uTTfP+OuA8+niHduof/4Z/8puOpK/f3pzwc98GBFP8PZPfwD8kA\n+vV5k/yj4z72uIbUcdlbfH/yOyf6/pQfxH5sIMX/PdIlk3z/7/fL/DPz8diPPa4hddz3pQP3\nnjTlo4sfjP/QQErgyYafLTxg8p7vPuJaXiI0jkoeUjIlCSnBgNSsgJT0TGINSM0KSEnPJNaA\n1KyAlPRMYg1IzQpISc8k1oDUrICU9ExiDUjNCkhJzyTWgNSsgJT0TGINSM0KSEnPJNaA1KyA\nlPRMYi1OSH/Yriou+5WkZxJvxXX/OemZxNofY4S0qatnU1TdQWfkeN/WyOH+4JXI8aGXI4dT\nw5HDm9KRoy8Fg2XnFJfd1WYTD7d5IHJ4S9Bbdk5x3ZvbbOLh6r2tvgKkfECSAUkGJDMgyYAk\nA5IZkGRAkgHJDEgyIMmAZAYkGZBkQDIDkgxIMiCZAUkGJBmQzIAkA5IMSGZAkgFJBiQzIMmA\nJAOSGZBkQJIByQxIMiDJgGQGJBmQZEAyA5IMSDIgmQFJ1kRIc0cyx4Fk9EpP3ytR9QTdkeP9\nXZHDA8GWyPFUleHhyOFX0pGjm4PBsnOKy+6uPvGtkeNDzZ34UOT41vJ1hesMyq/T4rq3Vpt4\nHpI5HvPEw9V7W90SI6TBVHowqlSQihxPD0UPB9Hjw5Gjg8NBlfHo4aB8vLjs/sF0lXVVm3iV\n4QZPPNxQ9HU2FJSPl6y7ysTzkMzxMU68ynDFxMPVe1sdiBESD+10LTbxcDy0k/E9khmQZECS\nAckMSLLmQzI9AQlIm4AEJCDJgKQCUj4gFQKSDEgyIJkBSQYkGZDMgCQDkgxIZkCSAUkGJDMg\nyYAkA5IZkGRAkgHJDEgyIMmAZAYkGZBkQDIDkgxIMiCZAUkGJBmQzIAkA5IMSGZAkgFJBiQz\nIMmAJAOSGZBkQJIByQxIMiDJgGQGJBmQZEAyA5IMSDIgmQFJBiQZkMyAJAOSDEhmQJIBSQYk\nMyDJgCQDkhmQZECSAckMSDIgyYBkBiQZkGRAMgOSDEgyIJkBSQYkGZDMgCQDkgxIZkCSAUkG\nJDMgyYAkA5IZkGRAkgHJDEgyIMmAZAYkGZBkQDIDkgxIMiCZAUkGJBmQzIAkA5IMSGZAkgFJ\nBiQzIMmAJAOSGZBkQJIByQxIMiDJgGQGJBmQZEAyA5IMSDIgmQFJBiQZkMyAJAOSDEhmQJIB\nSQYkMyDJgCRrJKRN5zrXXdhIrzv7qOnHXLhBbwIpqhabeDggyRoIae0cNwppcKlzs+bNdO4a\ntQmkyH1bbOLhgCRrGKRXlrp/XTkKabU7fF0qGLh5mlsvNoEUuW+LTTwckGQNg3SbO3PTL4uQ\nOme4u3InrnDHD1dsAqmtJh4OSLKGQVpzy3AwCmmNmzOUO/Gic09XbAKprSYeDkiyhkHK3tGM\nQrrUnZ8/f567uWITSG018XBAkjX06e9RSCcXn1U4y62o2ARSW008HJBkTYI0v3jHc4lbUrEJ\npLaaeDggyZoEaa67M3/eKreoYjPTt1etWnVf78Bgb1SDwUDk+FB/5HAq6IscT0cPDw9HDvdW\nGQ7S5WcU6mv2xIPomdU78XD9qejhYKj86xWqOvEwpMrxmCceru7baoMhrXSLKzYzHTB16tSL\n6j7A+Ggw6QkkVKraJ4QhxTGlJpYunhoLpAXFx3LL3XkVm5me2bhx4x839/Rtjqo36IkcH+iO\nHg62Ro6nqgwPRw5vTkeObgmGys4pXkzdbTbxcJ2DkcNdQX/ZOcV1d1abeBhS5Xj0xDc3euLh\n6r2tbm0IpFPc1fnzTneXVWwW4nskXYtNPBzfI8ma9D3SysJzCsNHuzsqNoHUVhMPByRZkyDd\n62YP5E4859zzFZtAaquJhwOSrEmQ+ma7W3MnLnKnVG4Cqa0mHg5IsiZBCm50M9emgp5rnXtS\nbAIpct8Wm3g4IMkaBumYOXPmzHYu8++cH2Y20yuyvzcx3U27PTdatgmkyH1bbOLhgCRrGKSZ\nrtjq3BkPnHvk9OOWP1sYL9sEUkQtNvFwQJLxq+ZmQJIBSQYkMyDJgCQDkhmQZECSAckMSDIg\nyYBkBiQZkGRAMgOSDEgyIJkBSQYkGZDMgCQDkgxIZkCSAUkGJDMgyYAkA5IZkGRAkgHJDEgy\nIMmAZAYkGZBkQDIDkgxIMiCZAUkGJBmQzIAkA5IMSGZAkgFJBiQzIMmAJAOSGZBkQJIByQxI\nMiDJgGQGJBmQZEAyA5IMSDIgmQFJBiQZkMyAJAOSDEhmQJIBSQYkMyDJgCQDkhmQZECSAckM\nSDIgyYBkBiQZkGRAMgOSDEgyIJkBSQYkGZDMgCQDkgxIZkCSxQap0hOQgLQJSEACkgxIKiDl\nA1IhIMmAJAOSGZBkQJIByQxIMiDJgGQGJBmQZEAyA5IMSDIgmQFJBiQZkMyAJAOSDEhmQJIB\nSQYkMyDJgCQDkhmQZECSAckMSDIgyYBkBiQZkGRAMgOSDEgyIJkBSQYkGZDMgCQDkixRSC91\n9b4UVXfQFTne1xk53B9sjhwfeiVyODUcOfxSOnL05WCw7JxRSG028XBbBiKHtwbl12lx3Vuq\nTVxCKhlv6sS3VEw8XL231c0xQkqlh1NRpYN05PhwleEgcjgVffBUUGX3asPlX7647IE2m3i4\nqteZue7BahOXkEq/UvTujZ54nbuXXadDMULioZ2uxSYejod2Mr5HMgOSDEgyIJkBSQYkGZDM\ngCQDkgxIZkCSAUkGJDMgyYAkA5IZkGRAkgHJDEgyIMmAZAYkGZBkQDIDkgxIMiCZAUkGJBmQ\nzIAkA5IMSGZAkgFJBiQzIMmAJAOSGZBkQJIByQxIMiDJgGQGJBmQZEAyA5IMSDIgmQFJBiQZ\nkMyAJAOSDEhmQJIBSQYkMyDJgCQDkhmQZECSAckMSDIgyYBkBiQZkGRAMgOSDEgyIJkBSQYk\nGZDMgCQDkgxIZkCSAUkGJDMgyYAkA5IZkGRAkgHJDEgyIMmAZAYkGZBkQDIDkgxIMiCZAUkG\nJBmQzIAkA5IMSGZAkgFJBiQzIMmAJAOSGZBkQJIByQxIMiDJgGQGJBmQZEAyA5IMSDIgmQFJ\nBiQZkMyAJAOSDEhmQJIBSQYkMyDJgCQDkhmQZECSAckMSDIgyYBkBiQZkGRAMgOSDEiyZkE6\nyRVakdtOrzv7qOnHXLgBSEAyA1Jl892sOSN9K7s5uNS5WfNmOncNkIBkBaTKjnCPlG6udoev\nSwUDN09z64EEJCMgVZR27qmSzc4Z7q7ciSvc8cNAarOJhwOSrEmQtjr3fMnmGjdnKHfiReee\nBlKbTTwckGRNgpQBs6lk81J3fv7UPHczkNps4uGAJGsSpGed++MNZyz80vIHc4/kTi4+yXBW\n/lk8IEXUYhMPByRZkyBtcG7OyLPfZ3YF2efwCvdDl7glQGqziYdrBiQpCEiZ1jv3+fVbhl74\nhnPnZTbnujvzA6vcotzH61avXv1Q98Bgd1QDQX/k+FCV4aA3cjzdEz08HDncHT3cE6TKzile\nOL0tPfHuiomH640e7gvKr9PiunvMiUdBSm7i4eq9rfY0BNJfHnpkYASMc0+UQlrpFuc+HjB1\n6tSLxnCAdm4w6QkkVMociYIU4wQbWrp4qiEvERqY664MggXFh3bLc/dQQXDv2rVrn+ns6++M\nqj/ojRwfrDIcdEeOp7oih9PDkcOd0cNdQarsnOJl0tNmEw/XPRQ53BMMlJ1TXHeXOfEoSDVP\nvLPREw9X7221q7GQgjPcsiA4xV2d3zzdXTY6xvdIuhabeDi+R5I1/UWri9zF2Qd0S0a2ho92\ndwCpzSYeDkiyJkF68MaHR04MzHbXZx7Iudkj3zI9F/pBLZB0LTbxcECSNQnSCjd/5FmL6517\nLgj6Zrtbc5sXuVNKPgtIuhabeDggyZoEqWOaW/TbIOi9abpbnt2+0c1cmwp6rnXuSSABqTwg\nmd0z3bkj52X+WdqX3UyvyP4axXQ37fbSTwKSrsUmHg5IsqY92fDCdxbOmvGZZQ8XXuz9wLlH\nTj9u+bOhzwGSrsUmHg5IMn7V3AxIMiDJgGQGJBmQZEAyA5IMSDIgmQFJBiQZkMyAJAOSDEhm\nQJIBSQYkMyDJgCQDkhmQZECSAckMSDIgyYBkBiQZkGRAMgOSDEgyIJkBSQYkGZDMgCQDkgxI\nZkCSAUkGJDMgyYAkA5IZkGRAkgHJDEgyIMmAZAYkGZBkQDIDkgxIMiCZAUkGJBmQzIAkA5IM\nSGZAkgFJBiQzIMmAJAOSGZBkQJIByQxIMiDJgGQGJBmQZEAyA5IMSDIgmQFJBiQZkMyAJAOS\nDEhmQJIBSQYkMyDJgCQDkhmQZECSAckMSDIgyYBkBiQZkGRAMgOSDEgyIJkBSRY3pBJQQALS\nJiABCUgyIKmAlA9IhYAkA5IMSGZAkgFJBiQzIMmAJAOSGZBkQJIByQxIMiDJgGQGJBmQZEAy\nA5IsKUijnuKaeDggmQFJBSQdkMyApAKSDkhmQFIBSQckMyCpgKQDkhmQVEDSAckMSCog6VoZ\nUio9nIoqHaQjx4erDAeRw6nog6eCKrtXGy7/8sVlD7TZxMNVvc7MdQ+aE68DUowTr3P3sut0\nKEZI3CPpWmzi4RK+R7LvmLbjeyQg6Vps4uGAJAOSGZBkQJIByQxIMiDJgGQGJBmQZEAyA5IM\nSDIgmQFJBiQZkMyAJAOSDEhmQJIBSQYkMyDJgCQDkhmQZECSAckMSDIgyYBkBiQZkGRAMgOS\nDEgyIJkBSQYkGZDMgCQDkgxIZkCSAUkGJDMgyYAkA5IZkGRAkgHJDEgyIMmAZAYkGZBkQDID\nkgxIMiCZAUkGJBmQzIAkA5IMSGZAkgFJBiQzIMmAJAOSGZBkQJIByQxIMiDJgGQGJBmQZEAy\nA5IMSDIgmQFJBiQZkMyAJAOSDEhmQJIBSQYks8QhmbcZIAEJSECqDEhAsgJSISABKTIgqeqC\nVD8gIAEJSEACkghIKiDlA1IhIMmAJAOSGZBkQJIByQxIMiDJgGQGJBmQZEAySw5StdsMkIAE\nJCCNBiQgNQVSjbcZIM0t+wJy4mWfCyQzIMmAVDm4LRMPByQzIKmApAOSGZBU7QFJXEZAqn1y\nZQFJBqTwV9/WiYcDklmbQKoEBSQDUuQFNz4gpdedfdT0Yy7cACQgjQakehtc6tyseTOdu6Ye\nSBW3oLKAFMvEwwFJFhOk1e7wdalg4OZpbj2QgFQISHXWOcPdlTtxhTt+GEhAygekOlvj5gzl\nTrzo3NNAGp34tt1map24cfltb5AqP7W2iYdrCUiXuvPzp+a5m4EEpPAEx15+4rV+am0TD9cs\nSOmhdO2QTi4+yXCWWxEFKbzYapdEKSRxMW0PkNTNI1FIlceMA1L9VUy8FJL6HAtS/nNrh/SJ\nT7xYunmBd2jtkOYX74cucUtyH+9du3btM519/Z3h8rMKb5U1+tmDvdaeI8NBd2dUqa7I4fRw\n5HBn9HBXkCo7p3hp9IxOfBtuAeGJV14oJRMXY9sy8XDdQ5HDlccc/Q+k4hLfhuU3qoqJ9wQD\nEYvorLythj+3P+gNn99lQfK850o3V3sTa4c0192ZP7XKLcp9PGDq1KkXiU8cKbxVlnGIqMHW\nanD05DbcAsJfK/JCSeIyiThmyvrkJNrWRdT8uaMP2KIhnen9VU3HGTlYEdJKtzj38brVq1c/\n1D0w2B3VQNAfOT5UZTjojRxP90QPD0cOd0cP9wSpsnOKl0ZvS0+8u2Li4Xqjh/uC8uu0uO6e\nNpt4uHpvqz0K0tcyed6pXyt2wbE7e2+qHdKC4kO75e680bN5ZYOuxSYerhl/aTVfi008XEOe\nbPBUM2uHdIq7On/qdHcZkNps4uGAJKsN0gn7Tahw9I4Xaoe0Mv8UQzB8tLsDSG028XBAktX6\nrF3P+tBDu69dvrbyW0e7e93sgdyJ55x7HkhtNvFwQJLV/vR32ZMNddU3292aO3GRO6XkbCDp\nWmzi4YAkqx3SkiUvbzOk4EY3M3MX1nOtc08CCUhGLTbxcC3xEqEgvSL7axTT3bTbS88Fkq7F\nJh4OSLLYfkP2gXOPnH7c8mdD5wFJ12ITDwckWV2QNt//k9XfG23MuICka7GJhwOSrA5Iz0/f\nMfwEOJAiAlIhIIVv9X+eWP6TJCBFBKRCQArf6hdl6Lx77sIvjAakiIBUCEjhW/27vN3vHzMd\nIAHJrsUmHq5hkHbzzmiwo2BLd++WqHqGuiPH+7qih4c6I8cHtkYPD0YOb4ke3jrUX3ZOcdm9\nW3pbeOJbKiYerjN6uGuo/Dod/Q+kzSYert7b6ujvYZVBmuDd1GhIRNtBZZB876fJzIOorSuD\ndLR3cTLzIGrryiA9+qop/clMhKidK/850Te9w7YmMhGidq4MUqpr9eveeMqP7/tFsWSmRdRe\nVfw+UsNf2UC0HQQkogZUBuVDn/jUtMNCJTMtovaq+fc4HdtVxWX/KemZxFtx3c8nPZNY+x2Q\nmhSQkp5JrAGpWQEp6ZnEGpCaFZCSnkmsmZAeKuv+u4BUV0BKeiaxZkJqwtPfSa813oCU9Exi\nDUjNCkhJzyTWTEifKvaJ/XfyXvvF0y4EUl0BKemZxFpNTzZ0rtjtgBftYSCpgJT0TGKtxmft\nHpiwb3fUOJAqAlLSM4m1Wp/+/oy3Ekh1BaSkZxJrtUL6kffedoT02OIPTn7bQef8KoFDJwdp\nnj/aGXEfPFFID5/+kSmT3n7ossfjP3StkNZ4u7UhpHv28f193ub7+62P/9jJQVo4pdAk/+y4\nD54kpFve7r/lkMMOnui//+exH7tWSFd5O7UfpA37+p+8t6PjJ/v6h8V+7FZ4aHfPnpPjv0Ul\nB+nxffxPPpj5uGY//9C4j10rpNQHvTe3H6R/8z/wRPbj9R9b8GTsB08e0jMf85fFf9TkIH3P\n99fmTlzq+w/EfXAT0h9Ge/6JHx7keZ9uO0gb3+VfEfcxR0se0oX+R5+J/6jJQfqW72/MnfiJ\n798T98Frf2XDmraDdIs/KYHvOgslDun+yZPuTuCwyUFa4/t35E5c4k9+Ku6D1wrpVWN/YUPs\nkL7uf6Bj3eJZ7rPf+03ch+5oAUhH+F9I4rDJQcqs+GMPZT6s3d8/K/Zjm5DeNdo+7/vkWU+P\n3VHskE7xP33JnrkngQ99LO5jJw/px/6UJJ71TxLSk597654fO+zgPd65JPZDj+vfRzrB32/S\nwnuefOC0Sf6suI+dPKRD/dMSOW6CkDquOTT3/+bcH8d/6PEMaZ6f/zHKV33/9rgPnjSkm/3/\n88tEDpwgpC/6+6x8eOP6ZZMnXhD7scczpIX+xA25Exun+GfGffCkIR3jH5vIcROEdJ2/x8iT\nDf/Xn/SzuA9eBdLw1j/8oatdIZ3m75U/9WF/QdwHTxjSY2/1f5DEcZOEdLj/yfypffxT4z54\nFKQ/XnTwa7PP2P31P18x9pd+JwDpct8fuUfq+Kj/2bgPnjCkb/t7PZ3EcZOE9MHif5cfjv/u\nOALSt3cbffb7zXe3IaQHJ/rfz5145m3+OXEfPGFIR/szkzhsR5KQDvFn5E/t658Q98FtSN8Y\nIfTqV+c+7Dj2v30S/0uEnH9I7kf7lxV+UhdnyUJ6r784icN2JAnpZH/vh3In/mOivyrug5uQ\nfr+L5834ye/SQZB67vqPe97fdAZjLe61ddw2yT/8kY5nvjnFnx77sZOFtMH3v5XAYbMlB+n+\nt/rTspLuO8h/zxNxH9yEdKa3022jW1fv4K1oP0gd39zTn/TeKb5/8MPxHztRSD/z/esTOGy2\n5CB1XLuXP+mjhx28h//uO2M/tgnpH70TSzfneoe0IaSOf//se98y5eNfjf+13wlDutX3b0ng\nsNkShNTxi698aMqktx1yTgIvZDEh/W34Vao3e347QkqwRCElWJKQEsyEtJP369LNR71dgFRX\nQEp6JrFmQnqtt7508wFvdyDVFZCSnkmsmZDe7l1cuvl17+1AqisgJT2TWDMhLfD8v4xu/Xmi\ntwBIdQWkpGcSayakez3v7/8jfzp9196e93Mg1RWQkp5JrNmvbPi053lvmb34/KWnzvi7zMlZ\nY3YEpO0iIJXd7Ds/WPqr5of0AKm+gJT0TGIt4kWrqUvfWmD0tsuHx+4ISNtFQKq85Q//+qpz\nvnTyuVc/0QhGQNo+AlJDsETV3dvXHVXfYG/0ePRw/2BP5PhAleHByOHugejhwf6yM4rL7m+z\niYfrqTI8WH6dFtfd22YTD1fvbbU3Rkibuno2RdUddEaO922NHO4PXokcH3o5cjg1HDm8KR05\n+lIwWHZOcdldbTbxcJsHIoe3BL1l5xTXvbnNJh6u3tvqKxGQnj8/fz992Vn/DSQgqYCUz4Y0\nvGSCd+fIyQXeTucBKXIUSIWAVHazX+x53uoCJM87A0hRAakQkMK3+g07eBOOe2rk9MYzX+3t\n8DiQIgJSISCFb/Wf9SbcN7r18ATveCBFBKRCQArf6vf25pduHutNAVJEQCoEpPCt/tXelaWb\n3/F2BVJEQCoEpPCtfjfvR6Wbq73XACkiIBUCUvhWP8VbWrr5ZW8vIEUEpEJACt/q53tvLfk7\nxc+/3jsaSBEBqRCQwrf6dZ73T0/mTw//dA/PuwdIEQGpEJDKbvZHeZ6372fOuPDsE6a/KXNy\n2pgdAcmoxSYeDkiyOiBt/VDpL/Z9pAFv7gIkXYtNPByQZPW8aDX1rckFRm//bnrsjoBk1GIT\nDwckWV2v/g6Cx68558tfWfr9RrwTM5DMWmzi4YAkqxNSY+vuj/5NroEg+nexhqJ/12ooiP79\nuXT0r5mlhyOHu6OHe4JU2TnFZfd2V/kdskQn3l0x8XC90cN9Qfl1Wlx3T5tNPFy9t9XRv2kC\npMhhIMmAlC9OSDy007XYxMPx0E6W6EM7IOlabOLhgCQDkhmQZECSAckMSDIgyYBkBiQZkGRA\nMgOSDEgyIJkBSQYkGZDMgCQDkgxIZkCSAUkGJDMgyYAkA5IZkGRAkgHJDEgyIMmAZAYkGZBk\nQDIDkgxIMiCZAUkGJBmQzIAkA5IMSGZAkgFJBiQzIMmAJGsHSHPzVYy31+0RSG028XBAMgOS\nCkg6IJkBSQUkHZDMgKQCkg5IZkBSAUkHJDMgqYCkA5IZkFRA0gHJDEgqIOmAZAYkFZB0QDID\nkgpIOiCZAUkFJB2QzICkApIOSGZAUgFJByQzIKmApAOSGZBUQNIByQxIKiDpgGQGJBWQdEAy\nA5IKSDogmQFJBSQdkMyApAKSDkhmQFIBSQckMyCpgKQDkhmQVEDSAckMSCog6YBkBiQVkHRA\nMgOSCkg6IJkBSQUkHZDMgKQCkg5IZkBSAUkHJDMgqYCkA5IZkFRA0gHJDEgqIOlihLTpXOe6\nCxvpdWcfNf2YCzfoTSBF1WITDwckWQMhrZ3jRiENLnVu1ryZzl2jNoEUuW+LTTwckGQNg/TK\nUvevK0chrXaHr0sFAzdPc+vFJpAi922xiYcDkqxhkG5zZ276ZRFS5wx3V+7EFe744YpNILXV\nxMMBSdYwSGtuGQ5GIa1xc4ZyJ1507umKTSC11cTDAUnWMEjZO5pRSJe68/Pnz3M3V2wCqa0m\nHg5IsoY+/T0K6eTiswpnuRUVm0Bqq4mHA5KsSZDmF+94LnFLKjaB1FYTDwckWZMgzXV35s9b\n5RZVbGaaMW3atCtS6eFUVOkgnf1QgFQxPpyO3H04iByutntQZfdqw+VrK15MA2028XBVrzNz\n3YNjXXfME69z97K1DTUY0kq3uGIz0yEf+chHLhuuVpD7twCp6qeX7x3U8tVj2330BhW9Y8tN\nfIy7F9c91GYTr6/yvUf/AxkLpAXFx3LL3XkVm4V4aKdrsYmH46GdrEkP7U5xV+fPO91dVrEJ\npLaaeDggyZoEaWXhObZooesAABgNSURBVIXho90dFZtAaquJhwOSrEmQ7nWzB3InnnPu+YpN\nILXVxMMBSdYkSH2z3a25Exe5Uyo3gdRWEw8HJFmTIAU3uplrU0HPtc49KTaBFLlvi008HJBk\nDYN0zJw5c2Y7l/l3zg8zm+kV2d+bmO6m3Z4bLdsEUuS+LTbxcECSNQzSTFdsde6MB849cvpx\ny58tjJdtAimiFpt4OCDJ+FVzMyDJgCQDkhmQZECSAckMSDIgyYBkBiQZkGRAMgOSDEgyIJkB\nSQYkGZDMgCQDkgxIZkCSAUkGJDMgyYAkA5IZkGRAkgHJDEgyIMmAZAYkGZBkQDIDkgxIsnaC\nVOGpvW6PQGqziYcDkhmQVEDSAckMSCog6YBkBiQVkHRAMgOSCkg6IJkBSQUkHZDMgKQCkg5I\nZkBSAUkHJDMgqYCkA5IZkFRA0gHJDEgqIOmAZAYkFZB0QDIDkgpIOiCZAUkFJB2QzICkApIO\nSGZAUgFJByQzIKmApAOSGZBUQNIByQxIKiDpgGQGJBWQdEAyA5IKSDogmQFJBSQdkMyApAKS\nDkhmQFIBSQckMyCpgKQDkhmQVEDSAckMSCog6YBkBiQVkHRAMgOSCkg6IJkBSQUkHZDMgKQC\nkg5IZkBSAUkHJDMgqYCkA5IZkFRA0gHJDEgqIOmAZAYkFZB0QDIDkgpIulaG1Nk30BlVf9Cb\n/VAGaXR8sDdy98GgO3I81RU5nB6OHO6MHu4KUmXnFJfd02YTD9czFD0clF+no/+BNHfinVUm\n3l3vxMPVdlsdrStGSL2DQ71RDQYD2Q9lkEbHhwYid08FfZHj6ejh4eHI4d4qw0G6/IxCfc2e\neBA9s3onHq4/FT0clF+no1d3tYmnW2vi4Wq7rZZOJz5IPLTTtdjEw/HQTsb3SGZAkgFJBiQz\nIMmAJAOSGZBkQJIByQxIMiDJgGQGJBmQZEAyA5IMSDIgmQFJBiQZkMyAJAOSDEhmQJIBSQYk\nMyDJgCQDkhmQZECSAckMSDIgyYBkBiQZkGRAMgOSDEgyIJkBSQYkGZDMgCQDkgxIZkCSAUkG\nJDMgyYAkA5IZkGRAkgHJDEgyIMmAZAYkGZBkQDIDkgxIMiCZAUkGJBmQzIAkA5IMSGZAkgFJ\nBiQzIMmAJAOSGZBkQJIByQxIMiDJgGQGJBmQZEAyA5IMSDIgmQFJBiQZkMyAJAOSDEhmQJIB\nSQYkMyDJgCQDkhmQZECSAckMSDIgyYBkBiQZkGRAMgOSDEgyIJkBSQYkGZDMgCQDkgxIZkCS\nAUkGJDMgyYAkA5IZkGRAkgHJDEgyIMmAZAYkGZBkQDIDkgxIsjaENOqpvW6PQGqziYcDkhmQ\nVEDSAckMSCog6RKCdJIrtCK3nV539lHTj7lwQ12QtCAgtdftEUhjgTTfzZoz0reym4NLnZs1\nb6Zz1wAJSFYtNvFwCUE6wj1SurnaHb4uFQzcPM2tBxKQjFps4uGSgZR27qmSzc4Z7q7ciSvc\n8cNAarOJhwOSrEmQtjr3fMnmGjdnKHfiReeeBlKbTTwckGRNgpQBs6lk81J3fv7UPHczkNps\n4uGAJGsSpGed++MNZyz80vIHc4/kTi4+yXBW/lk8IEXUYhMPByRZkyBtcG7OyLPfZ3YF2efw\nCvdDl7glQGqziYcDkqxJkNY79/n1W4Ze+IZz52U257o78wOr3KLcx5NOPPHEHw2mUoNRRULK\njKeHIndPB9Hjw5Gjg8NBlfHo4aB8vHjh9LfZxMMNpaOHg/LxknW318TDVbmtpoKy8YGGQPrL\nQ4+MfKHrnHuiFNJKtzj38YCpU6deVO2rRELKN4ZJJtVg9U8Zl6WSnkCspYunGvISoYG57sog\nWFB8aLc8dw8VBFsz9b3U3ftSVLVAiti9P9gc+eWHXokcTg1HDr+Ujhx9ORgsO6d4mXS91N8Z\nuW+LTTzcloHI4a1B+XVaXPeWlp74loqJh6tyW+3OXK2hNjcWUnCGWxYEp7ir85unu8tGx8b0\nPVK+iN1b7FuNUUh8j6RrsYmHS/pFq4vcxdkHdEtGtoaPdncACUi6Fpt4uGQgPXjjwyMnBma7\n64PgXjd75Fum50I/qAWSrsUmHg5IsiZBWuHm9+ROXO/cc0HQN9vdmtu8yJ1S8llA0rXYxMMB\nSdYkSB3T3KLfBkHvTdPd8uz2jW7m2lTQc61zTwIJSEYtNvFwCX2PdM90546cl/lnaV92M70i\n+2sU092020s/CUi6Fpt4OCDJmvZkwwvfWThrxmeWPVx4sfcD5x45/bjlz4Y+B0i6Fpt4OCDJ\nWvpXzYGka6/bI5DaAlIEqBa7PQKpzSYeDkhmQFIBSQckMyCpgKQDkhmQVEDSAckMSCog6YBk\nBiQVkHRAMgOSCkg6IJkBSQUkHZDMgKQCkg5IZkBSAUkHJDMgqYCkA5IZkFRA0gHJDEgqIOmA\nZAYkFZB0QDIDkgpIOiCZAUkFJB2QzICkApIOSGZAUgFJByQzIKmApAOSGZBUQNIByQxIKiDp\ngGQGJBWQdEAyA5IKSDogmQFJBSQdkMyApAKSDkhmQFIBSQckMyCpgKQDkhmQVEDSAckMSCog\n6YBkBiQVkHRAMgOSCkg6IJkBSQUkHZDMgKQCkg5IZu0JyV5voRa7PQIJSJEBSQWkfEAqBCQZ\nkGRAMgOSDEgyIJkBSQYkGZDMgCQDkgxIZkCSAUkGJDMgyYAkA5IZkGRAkgHJDEgyIMmAZAYk\nGZBkQDIDkgxIMiCZAUkGJBmQzIAkA5IMSGZAkgFJBiSztoCklt9it0cgNR3S5p6+zVHVA0ns\nPhBsjfzyqSrDw5HDm9ORo1uCobJzisvu3tzfHblv5MTD61XLb/TEw3UORg53Bf1l5xTX3bl5\nqJmX+OZGTzxcldtqb9ATPmNrjJD6h1L9UdUDSeyeCgYiv/xwleEgcrh/OHo4SJefUVx2f2ow\nctfIiYfXq5bf6ImHG4geHgzKr9OSdafjvcTD1T3xcFVuq0NB+XUaIyQe2ul4aKfjoR2QNgEJ\nSECSAUkFpHxAKgQkGZBkQDIDkgxIMiCZAUkGJBmQzIAkA5IMSGZAkgFJBiQzIMmAJAOSGZBk\nQJIByQxIMiDJgGTWKpDKVlh9+S12ewQSkCIDkgpI+YBUCEgyIMmAZAYkGZBkQDIDkgxIsnED\nSdyggNSYiYcDkgxIZkCSAUkGJLPEIemlAckISGZAAlJpQALSJiABCUiyuCHVvO4Wuz0CCUiR\nAUkFpHxAKgQkGZBkQDIDkgxIMiCZAUkGJNl4g1R6uwJSYyYeDkgyIJkBSQYkWWtC2nZBQGq5\n2yOQgBQZkFRAygekQkCSAUkGJDMgyYAkA5IZkGRAkgHJDEgyIMmAZAYkGZBkQDIDkgxIMiCZ\nAUkGJBmQzIAkA5IMSGZAkgFJBiQzIMmAJAOSGZBkQJIByQxIMiDJximkfEBqxMTDAUkGJDMg\nyYAkA5IZkGRAkgHJDEgyIMmAZAYkGZBkLQapUYLaG9I2rLSZEw8HJBmQzIAkA5IMSGZAkgFJ\nFhek9Lqzj5p+zIUbgNQcSPmaMvFwcUNSK5RtF5AGlzo3a95M564BEpCsgFS11e7wdalg4OZp\nbn2ckKIvfCDVNvFwsUGq9yrdHiB1znB35U5c4Y4fBhKQdECq1ho3Zyh34kXnnk4OUtlmcyDl\nD5IopPBCyy8GINU28XAtAelSd37+1Dx3M5CApANStU4uPslwllsBJCDpgFSt+cX7oUvckvgh\nGVdC+GqtuIZKr1Z19TUQUnMXWr7utDp08YxxAEl/zniANNfdmT+1yi3KffzasmXL7u4bHOoL\n15wbVFmFg6X7xaFHzxgejhjMjvfJCp8apMsGipdGX19qIJZll311OfHywb7KiYcbqDIclF+n\nJesOX+IVDQdqZlFLCx8oHd5zrBMPV3FbDTcUDJZPp6mQVrrFuY8HTJ069aLGHaCtGkx6AgmV\nSnoCsZYunmogpAXFh3bL3Xm5j89s3Ljxj5t7+jZH1Rv0RI4PdEcPB1sjx1NVhocjhzenI0e3\nBENl5xQvje42m3i4zsHI4a6gv+yc4ro7mzvxzY2eeLh6b6tbmwHpFHd1/tTp7rLRs+t+3FlW\nbb+NYNayP0dqsYmH47V2sni+R1pZeIph+Gh3B5DabOLhgCSLB9K9bvZA7sRzzj0PpDabeDgg\nyeKB1Dfb3Zo7cZE7peRsIOlabOLhgCSL6UWrN7qZa1NBz7XOPQkkIBm12MTDtQak9Irsr1FM\nd9NuLz0XSLoWm3g4IMli+w3ZB849cvpxy58NnQckXYtNPByQZC32q+ZVJldWe90egdRmEw8H\nJDMgqYCkA5IZkFRA0gHJDEgqIOmAZAYkFZB0QDIDkgpIulaGVK1Hlj1d/ZPsblv28lh2v2JF\n9c+xG1j2g23ed4wT/+7Xx7L34LLrx7L775fdu837fnf5WI48tOz7Y9n9hWX/MZbdI26ryUP6\nwdR/H8vu50x9YSy7H/7hsezdM/XEbd733Km/H8uhZx88lr37pi4cy+6PTV25zfsecdBYjjww\n9XNj2f3XUy+r/kl2EbdVII1lbyDVH5CaFJC2KSBtS0AyA9K2BKRtqqUhEY2DgETUgIBE1ICA\nRNSAkoAk34/sJFeo+o9IN53rXHctX7Tm3Ws++tDdZx45/cgz7gz/2braDp7wusey7ETXneDV\nXfu6E4Ck349svps1Z6RvVfsCa+e4iotGf9Gad6/16K9kroJpR09z7otb6j54wusey7ITXXeC\nV3cd604Akn4/siPcI7Xt/spS968rKy4a/UVr3r3Gow+f6mbfMxD0ZQ5T+gqd2g6e6LrHtOwk\n153k1V3PuuOHpN+PLO3cU7Xtf5s7c9Mvyy8a403Oat291qP/l8tfdFe6GaN/9rm2gye77jEt\nO8l1J3l117Pu+CHp9yPbGvpbeJH73zIcVFw0xpuc1bp7rUd/4PQvj/xt68ecG/1xam0HT3bd\nY1p2kutO8uquZ93xQ9LvR5aZ0yb9+eVl/w+ouGiMNzmrdffaj55vg3N/rPPgya67MctOYN0t\ncXXXsO74Ien3I3s2M9Mbzlj4peUPRt9Vj1Rx0Rhvclbr7vUdPcje1Ze8UqW2gye/7rEvO6F1\nJ35117Du+CHp9yPLkJ8z8oTkmV3Vv0bFRWO8yVmtu9d39CD47Qz3n/UePPl1j3nZSa076au7\nlnXHD6ny/ciyrXfu8+u3DL3wDZd/S5jIKi4a/UVr3r2+owf/72i3qu6DJ7/usS47sXUnfHXX\ntO4kIRXejyzbXx56ZOQv8F/n3BNVv0bEJVv6RWvevc6jz3bL0yXbtR08+XWPcdnJrTvZq7u2\ndccPqfL9yEINzHVXVv0aFRdNlS9abfe6jn7TNHdt6LF1bQdPft1jW3aC60706q5x3fFDMt6P\nrNgZblnVr1Fx0VT7olV2r+PoA8vd4WV/sKC2gye/7rEsO9F1J3h117zu+CEZ70dWbJG7uOrX\nqLhoqn3RKrvXfvSBc9yxz5adV9vBk1/3GJad7LqTu7prX3f8kPT7kT1448MjJwZmu+p/4Kbi\nojHe5KzW3Ws++tASt/Cl8jNrO3jy6972ZQfJrjuxqzuofd3xQ9LvR7bCze/Jnbjeueeqfo2K\ni8Z4k7Nad6/56Fe5BZV/RKu2gye/7m1fdsLrTuzqrmPdCbxotez9yG77t9Mz/3ZMc4t+GwS9\nN013Nfzds5KLZmR3403Oat291qP/9zT3WOl2XQdPfN3bvOyk153U1V3PuhOAVPZ+ZFe6mdkP\n90x37sjMuW5pX+TewTFz5syZ7Vz2NfA/HN1dv8lZzbvXePSVIzvmurHegye67jEtO8l1J3l1\n17PuRH5DNvR+ZPnJBS98Z+GsGZ9Z9nC1V23MLP5Slltdsrt8k7Pad6/t6MtHd3Yl10utB09w\n3WNadpLrTvLqrmfd/Ko5UQMCElEDAhJRAwISUQMCElEDAhJRAwISUQMCElEDAhJRAwISUQMC\nUpv1Ic8zXqd5mOf9It650GhAap3u+8rBf/fqHXff82PnRvwdUCC1ZkBqlZ6Y6hXb4ahO69PG\nDOkE72vbOEOKCEgt0mO7et6uMy747upVJ+2dofSBAePzxgxpPyA1IyC1SO/yvGl/GTk5fPVO\nnmf9xtlYIfVMAFIzAlJr9EvP80d/yWyZ501M608cK6T1HpCaEZBao+s9b+7o1ta55/80+9gu\nczf1h/xZn/K8h7If85D287zB4NZPTdz5jQdePvLWCFlI/xn8+rjJf7X7u898pfCVei7/1KRd\nJ7zhwAtG7u2W5L8J+0Ru6/GT9n3dzv5BFxf/vEfqBzMn77bj697zhdAvWFMNAak1us7zPlV5\nrg3pHz1v0+fyKv5hc+4zMpAevXynkbP2zL8Jya8mFZ6/+Jt12e1SSAMLC2N/fePIZ//v/sWn\nO2r4myJUGpBao0c9b6f/qjjXhnSg553r7XvJT3/0+Z0LBDOQLvYmf/XWnyza3fNc7qy/vMHz\npq66a9217/W83f8nc8bLz53qeac+99yLmdNzPO/NF9792G3zd/R2HPnjAwdmP/uedTec+BrP\nWxVQPQGpRfqw573uG+VPetuQMh8mzMo9prt/gufdnz2RgbT7p3PfZ/3nDt6Oub8idZ7nHdyf\nPTE8K+Mn93W+Vvge6fue956Rx3R37uj52XdleNzz9s99drBxd+/Ntb7jCeUCUovUsUfmAdWr\nP/nV+0r/BFskpN3zf3FtgectzH7MQPrbrSNnZe6Acm+SevG/7Jf/QzcPZpDkThQhvcPbofB2\nc/M973uZDzd43pn5c64999oqf9SIwgGpVfrT4TvkvjuZ8L5F6/JPH0RD+kx+5C7Pe0f242GF\nO50gOMrzbgt/9c2e96bciQKk33jeBwuD93le9q/j3F54REj1B6TWaeMZ78p/q7/H10d+HhsJ\n6bv5kRc9b+fsO51mIN2UP+tEz1s9+nUHt2ze/KfMI8fcRgHSNfn7sWydnrd35sPLr/a8ox5v\n1urGeUBqqf58y6kf3CVL6f0vZDcjIa3Lj6Rf5XnZt0TNQPp5/qwvjDxWy7Ru/rv+ZuSergzS\nBV6onbPnXZv5St7bF/64zjdYpQBILVjfmpmZ2/M+2Yd3kZB+VdhhN8/L/i33kh/IFiB1zSix\nEob0lTAkL3cXeO8Hcqdf9eEbjB8HkxWQWrE7d/a8HwVVIBWfLd915LMEpCM8b/elj/1pMKOz\nHNKpmW+y7ispNbLnI2dNzd4teR/4c9MXOb4CUkt2gud9NghB+kQFpAfyI9mHdtlXMlRCetLz\nds2/tWO3eGj3FX3sl2+cu5PnfbjBKxrvAalF+v3TpVuXe96MzId9Rh60Zdu/AtIP8yMvZrhk\nP1ZCusTz5ufPebIc0g+inqJ76k2j329RTQGpJVrzRu+tpd+WnON5n8t8eJ/n5e9RunaqgFS4\nQ7k7/yOiSkj/5nlfz59zQTmk5zzv9davagTB+Z73zbGvansKSC3Rn3YJ3XI3Txq5wzm0eL9z\nqVcBaY+RVyFkHwbmfn5UCelMzztj5Iz//WvP2y13KgPpgtyJ/UafQL9v75MzXtNn/HPxdbMr\nPK/wPqlUU0Bqjc7yvB0WF16z/WjmcdxevUFOwkG5ZwEefM1rKyDtMPLC0l/t7O2Qe96hEtKP\nPO+duZ/t/mHf/d4w8o1U9kHjsbnPud7zXvto7tTvJnte9uXeB3nedSP797zH80IPNalaQGqN\nUtOzP8z52ClfXb74uH2yL9bO3cafelVG0jV337Bgwvu/UAHpRO8TNzz6i/Nf43nH5L5EJaSu\nzP3QR9c8de+i3Xd5/EDPO+GJPwTB2sxhzrpuWeZx5CzP2+WLdzxw08m7jzyODNbv6Hn//O3b\n191yzls9b3bsF0F7B6QWKX3x60t+quP+e+TcC/Pb7/6f0/IvTR2FtHFufvAjI2+IKp7+vm3n\n/I+Q7g++lf14WkbsO3LnZO6oBo/P/6TWe9XJI09+/+g1xQkc3hPr6ts/ILVMW79/7HvfsMuE\n1092F46+FdyaT79pwq77X9adJXVX9oxRSE8HN03bY+c3HHRl/lkKASnYMNefsOt7sr/VN3TG\npF2mZH829fsZb9xl4r/k9vn1Se9+/YTXv/fLxV+5/dNXPzpxlx1f/54T+HNE9Qak9sz+jXNK\nJCC1Z0BqsYDUngGpxQJSewakFgtI7RmQWiwgtWdAarGA1J4BqcUCElEDAhJRAwISUQMCElED\nAhJRAwISUQMCElEDAhJRAwISUQP6//ojCdMKx6A+AAAAAElFTkSuQmCC",
      "text/plain": [
       "plot without title"
      ]
     },
     "metadata": {
      "image/png": {
       "height": 420,
       "width": 420
      }
     },
     "output_type": "display_data"
    }
   ],
   "source": [
    "all_wine_plot <- wine_train %>% \n",
    "   ggplot(aes(x = sulphates)) + \n",
    "   geom_histogram(position = \"identity\") + \n",
    "   facet_wrap(~ factor(quality)) +\n",
    "   xlab(\"Sulphates\") + \n",
    "   ylab(\"\")\n",
    "   theme(text = element_text(size=20))\n",
    "\n",
    "all_wine_plot"
   ]
  },
  {
   "cell_type": "markdown",
   "metadata": {},
   "source": [
    "**Methods:**"
   ]
  },
  {
   "cell_type": "markdown",
   "metadata": {},
   "source": [
    "In our analysis we will attempt to create a classification model that predicts wine quality based on 3 predictors: Sulphates , ph levels  and total sulfur dioxide. We will split the data into training and testing data and will train a classification model using the knn classification model. Cross validation will be used to determine an appropriate k-value. We will test this model using our testing data and provide scatter plots for each pair of predictors. These plots will show our testing data points overlaid on the training data points  and will be color coded to show whether the model was accurate in classifying individual testing data points."
   ]
>>>>>>> 4c5e6c2640bb7d4daad09cb8687575fad3cc5158
  },
  {
   "cell_type": "code",
   "execution_count": null,
   "metadata": {},
<<<<<<< HEAD
   "outputs": [],
   "source": []
=======
   "source": [
    "**Expected outcomes and significance:**"
   ]
>>>>>>> 4c5e6c2640bb7d4daad09cb8687575fad3cc5158
  },
  {
   "cell_type": "markdown",
   "metadata": {},
   "source": [
    "We expect to find useful insights that can impact the wine industry, specifically, understanding key physicochemical variables in red wine that can be controlled in the production process leading to higher quality wine. This can lead to further questions about how certain physicochemical factors can be controlled in the wine manufacturing process. "
   ]
  },
  {
   "cell_type": "code",
   "execution_count": null,
   "metadata": {},
   "outputs": [],
   "source": []
  }
 ],
 "metadata": {
  "kernelspec": {
   "display_name": "R",
   "language": "R",
   "name": "ir"
  },
  "language_info": {
   "codemirror_mode": "r",
   "file_extension": ".r",
   "mimetype": "text/x-r-source",
   "name": "R",
   "pygments_lexer": "r",
   "version": "4.0.0"
  }
 },
 "nbformat": 4,
 "nbformat_minor": 4
}
