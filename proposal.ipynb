{
 "cells": [
  {
   "cell_type": "markdown",
   "metadata": {},
   "source": [
    "**Describing the variables in the cancer data set**"
   ]
  },
  {
   "cell_type": "code",
   "execution_count": 2,
   "metadata": {},
   "outputs": [
    {
     "name": "stderr",
     "output_type": "stream",
     "text": [
      "Warning message in file(filename, \"r\", encoding = encoding):\n",
      "“cannot open file 'tests.R': No such file or directory”\n"
     ]
    },
    {
     "ename": "ERROR",
     "evalue": "Error in file(filename, \"r\", encoding = encoding): cannot open the connection\n",
     "output_type": "error",
     "traceback": [
      "Error in file(filename, \"r\", encoding = encoding): cannot open the connection\nTraceback:\n",
      "1. source(\"tests.R\")",
      "2. file(filename, \"r\", encoding = encoding)"
     ]
    }
   ],
   "source": [
    " ### Run this cell before continuing.\n",
    "library(tidyverse)\n",
    "library(repr)\n",
    "library(tidymodels)\n",
    "options(repr.matrix.max.rows = 6)\n",
    "source('tests.R')\n",
    "source('cleanup.R')"
   ]
  },
  {
   "cell_type": "code",
   "execution_count": 3,
   "metadata": {},
   "outputs": [
    {
     "name": "stderr",
     "output_type": "stream",
     "text": [
      "Using ',' as decimal and '.' as grouping mark. Use read_delim() for more control.\n",
      "\n",
      "Parsed with column specification:\n",
      "cols(\n",
      "  `fixed acidity` = \u001b[32mcol_number()\u001b[39m,\n",
      "  `volatile acidity` = \u001b[31mcol_character()\u001b[39m,\n",
      "  `citric acid` = \u001b[31mcol_character()\u001b[39m,\n",
      "  `residual sugar` = \u001b[32mcol_number()\u001b[39m,\n",
      "  chlorides = \u001b[31mcol_character()\u001b[39m,\n",
      "  `free sulfur dioxide` = \u001b[32mcol_number()\u001b[39m,\n",
      "  `total sulfur dioxide` = \u001b[32mcol_double()\u001b[39m,\n",
      "  density = \u001b[31mcol_character()\u001b[39m,\n",
      "  pH = \u001b[32mcol_number()\u001b[39m,\n",
      "  sulphates = \u001b[31mcol_character()\u001b[39m,\n",
      "  alcohol = \u001b[32mcol_number()\u001b[39m,\n",
      "  quality = \u001b[32mcol_double()\u001b[39m\n",
      ")\n",
      "\n",
      "Warning message:\n",
      "“2 parsing failures.\n",
      " row                  col               expected actual                                                                                         file\n",
      "1296 total sulfur dioxide no trailing characters     .5 'https://archive.ics.uci.edu/ml/machine-learning-databases/wine-quality/winequality-red.csv'\n",
      "1297 total sulfur dioxide no trailing characters     .5 'https://archive.ics.uci.edu/ml/machine-learning-databases/wine-quality/winequality-red.csv'\n",
      "”\n"
     ]
    }
   ],
   "source": [
    "url <- \"https://archive.ics.uci.edu/ml/machine-learning-databases/wine-quality/winequality-red.csv\"\n",
    "wine <- read_csv2(url)"
   ]
  },
  {
   "cell_type": "markdown",
   "metadata": {},
   "source": [
    "Clean and wrangle our data"
   ]
  },
  {
   "cell_type": "code",
   "execution_count": 4,
   "metadata": {},
   "outputs": [
    {
     "data": {
      "text/html": [
       "<table>\n",
       "<caption>A spec_tbl_df: 1599 × 12</caption>\n",
       "<thead>\n",
       "\t<tr><th scope=col>fixed.acidity</th><th scope=col>volatile.acidity</th><th scope=col>citric.acid</th><th scope=col>residual.sugar</th><th scope=col>chlorides</th><th scope=col>free.sulfur.dioxide</th><th scope=col>total.sulfur.dioxide</th><th scope=col>density</th><th scope=col>pH</th><th scope=col>sulphates</th><th scope=col>alcohol</th><th scope=col>quality</th></tr>\n",
       "\t<tr><th scope=col>&lt;dbl&gt;</th><th scope=col>&lt;dbl&gt;</th><th scope=col>&lt;dbl&gt;</th><th scope=col>&lt;dbl&gt;</th><th scope=col>&lt;dbl&gt;</th><th scope=col>&lt;dbl&gt;</th><th scope=col>&lt;dbl&gt;</th><th scope=col>&lt;dbl&gt;</th><th scope=col>&lt;dbl&gt;</th><th scope=col>&lt;dbl&gt;</th><th scope=col>&lt;dbl&gt;</th><th scope=col>&lt;fct&gt;</th></tr>\n",
       "</thead>\n",
       "<tbody>\n",
       "\t<tr><td>74</td><td>0.70</td><td>0.00</td><td>19</td><td>0.076</td><td>11</td><td>34</td><td>0.9978</td><td>351</td><td>0.56</td><td>94</td><td>5</td></tr>\n",
       "\t<tr><td>78</td><td>0.88</td><td>0.00</td><td>26</td><td>0.098</td><td>25</td><td>67</td><td>0.9968</td><td> 32</td><td>0.68</td><td>98</td><td>5</td></tr>\n",
       "\t<tr><td>78</td><td>0.76</td><td>0.04</td><td>23</td><td>0.092</td><td>15</td><td>54</td><td>0.9970</td><td>326</td><td>0.65</td><td>98</td><td>5</td></tr>\n",
       "\t<tr><td>⋮</td><td>⋮</td><td>⋮</td><td>⋮</td><td>⋮</td><td>⋮</td><td>⋮</td><td>⋮</td><td>⋮</td><td>⋮</td><td>⋮</td><td>⋮</td></tr>\n",
       "\t<tr><td>63</td><td>0.510</td><td>0.13</td><td>23</td><td>0.076</td><td>29</td><td>40</td><td>0.99574</td><td>342</td><td>0.75</td><td> 11</td><td>6</td></tr>\n",
       "\t<tr><td>59</td><td>0.645</td><td>0.12</td><td> 2</td><td>0.075</td><td>32</td><td>44</td><td>0.99547</td><td>357</td><td>0.71</td><td>102</td><td>5</td></tr>\n",
       "\t<tr><td> 6</td><td>0.310</td><td>0.47</td><td>36</td><td>0.067</td><td>18</td><td>42</td><td>0.99549</td><td>339</td><td>0.66</td><td> 11</td><td>6</td></tr>\n",
       "</tbody>\n",
       "</table>\n"
      ],
      "text/latex": [
       "A spec\\_tbl\\_df: 1599 × 12\n",
       "\\begin{tabular}{llllllllllll}\n",
       " fixed.acidity & volatile.acidity & citric.acid & residual.sugar & chlorides & free.sulfur.dioxide & total.sulfur.dioxide & density & pH & sulphates & alcohol & quality\\\\\n",
       " <dbl> & <dbl> & <dbl> & <dbl> & <dbl> & <dbl> & <dbl> & <dbl> & <dbl> & <dbl> & <dbl> & <fct>\\\\\n",
       "\\hline\n",
       "\t 74 & 0.70 & 0.00 & 19 & 0.076 & 11 & 34 & 0.9978 & 351 & 0.56 & 94 & 5\\\\\n",
       "\t 78 & 0.88 & 0.00 & 26 & 0.098 & 25 & 67 & 0.9968 &  32 & 0.68 & 98 & 5\\\\\n",
       "\t 78 & 0.76 & 0.04 & 23 & 0.092 & 15 & 54 & 0.9970 & 326 & 0.65 & 98 & 5\\\\\n",
       "\t ⋮ & ⋮ & ⋮ & ⋮ & ⋮ & ⋮ & ⋮ & ⋮ & ⋮ & ⋮ & ⋮ & ⋮\\\\\n",
       "\t 63 & 0.510 & 0.13 & 23 & 0.076 & 29 & 40 & 0.99574 & 342 & 0.75 &  11 & 6\\\\\n",
       "\t 59 & 0.645 & 0.12 &  2 & 0.075 & 32 & 44 & 0.99547 & 357 & 0.71 & 102 & 5\\\\\n",
       "\t  6 & 0.310 & 0.47 & 36 & 0.067 & 18 & 42 & 0.99549 & 339 & 0.66 &  11 & 6\\\\\n",
       "\\end{tabular}\n"
      ],
      "text/markdown": [
       "\n",
       "A spec_tbl_df: 1599 × 12\n",
       "\n",
       "| fixed.acidity &lt;dbl&gt; | volatile.acidity &lt;dbl&gt; | citric.acid &lt;dbl&gt; | residual.sugar &lt;dbl&gt; | chlorides &lt;dbl&gt; | free.sulfur.dioxide &lt;dbl&gt; | total.sulfur.dioxide &lt;dbl&gt; | density &lt;dbl&gt; | pH &lt;dbl&gt; | sulphates &lt;dbl&gt; | alcohol &lt;dbl&gt; | quality &lt;fct&gt; |\n",
       "|---|---|---|---|---|---|---|---|---|---|---|---|\n",
       "| 74 | 0.70 | 0.00 | 19 | 0.076 | 11 | 34 | 0.9978 | 351 | 0.56 | 94 | 5 |\n",
       "| 78 | 0.88 | 0.00 | 26 | 0.098 | 25 | 67 | 0.9968 |  32 | 0.68 | 98 | 5 |\n",
       "| 78 | 0.76 | 0.04 | 23 | 0.092 | 15 | 54 | 0.9970 | 326 | 0.65 | 98 | 5 |\n",
       "| ⋮ | ⋮ | ⋮ | ⋮ | ⋮ | ⋮ | ⋮ | ⋮ | ⋮ | ⋮ | ⋮ | ⋮ |\n",
       "| 63 | 0.510 | 0.13 | 23 | 0.076 | 29 | 40 | 0.99574 | 342 | 0.75 |  11 | 6 |\n",
       "| 59 | 0.645 | 0.12 |  2 | 0.075 | 32 | 44 | 0.99547 | 357 | 0.71 | 102 | 5 |\n",
       "|  6 | 0.310 | 0.47 | 36 | 0.067 | 18 | 42 | 0.99549 | 339 | 0.66 |  11 | 6 |\n",
       "\n"
      ],
      "text/plain": [
       "     fixed.acidity volatile.acidity citric.acid residual.sugar chlorides\n",
       "1    74            0.70             0.00        19             0.076    \n",
       "2    78            0.88             0.00        26             0.098    \n",
       "3    78            0.76             0.04        23             0.092    \n",
       "⋮    ⋮             ⋮                ⋮           ⋮              ⋮        \n",
       "1597 63            0.510            0.13        23             0.076    \n",
       "1598 59            0.645            0.12         2             0.075    \n",
       "1599  6            0.310            0.47        36             0.067    \n",
       "     free.sulfur.dioxide total.sulfur.dioxide density pH  sulphates alcohol\n",
       "1    11                  34                   0.9978  351 0.56      94     \n",
       "2    25                  67                   0.9968   32 0.68      98     \n",
       "3    15                  54                   0.9970  326 0.65      98     \n",
       "⋮    ⋮                   ⋮                    ⋮       ⋮   ⋮         ⋮      \n",
       "1597 29                  40                   0.99574 342 0.75       11    \n",
       "1598 32                  44                   0.99547 357 0.71      102    \n",
       "1599 18                  42                   0.99549 339 0.66       11    \n",
       "     quality\n",
       "1    5      \n",
       "2    5      \n",
       "3    5      \n",
       "⋮    ⋮      \n",
       "1597 6      \n",
       "1598 5      \n",
       "1599 6      "
      ]
     },
     "metadata": {},
     "output_type": "display_data"
    },
    {
     "data": {
      "text/html": [
       "1599"
      ],
      "text/latex": [
       "1599"
      ],
      "text/markdown": [
       "1599"
      ],
      "text/plain": [
       "[1] 1599"
      ]
     },
     "metadata": {},
     "output_type": "display_data"
    }
   ],
   "source": [
    "colnames(wine) <- make.names(colnames(wine))\n",
    "\n",
    "wine <- wine %>% \n",
    "  mutate(quality = as_factor(quality),\n",
    "        volatile.acidity = as.double(volatile.acidity),\n",
    "    citric.acid = as.double(citric.acid),\n",
    "  chlorides = as.double(chlorides),\n",
    "  density = as.double(density),\n",
    "  sulphates = as.double(sulphates))\n",
    "  \n",
    "\n",
    "wine\n",
    "nrow(wine)\n",
    "\n"
   ]
  },
  {
   "cell_type": "code",
   "execution_count": 5,
   "metadata": {},
   "outputs": [
    {
     "data": {
      "text/html": [
       "1599"
      ],
      "text/latex": [
       "1599"
      ],
      "text/markdown": [
       "1599"
      ],
      "text/plain": [
       "[1] 1599"
      ]
     },
     "metadata": {},
     "output_type": "display_data"
    },
    {
     "data": {
      "text/html": [
       "2"
      ],
      "text/latex": [
       "2"
      ],
      "text/markdown": [
       "2"
      ],
      "text/plain": [
       "[1] 2"
      ]
     },
     "metadata": {},
     "output_type": "display_data"
    },
    {
     "data": {
      "text/html": [
       "1597"
      ],
      "text/latex": [
       "1597"
      ],
      "text/markdown": [
       "1597"
      ],
      "text/plain": [
       "[1] 1597"
      ]
     },
     "metadata": {},
     "output_type": "display_data"
    }
   ],
   "source": [
    "nrow(wine)\n",
    "\n",
    "sum(is.na(wine))\n",
    "\n",
    "newdata <- na.omit(wine)\n",
    "nrow(newdata)\n"
   ]
  },
  {
   "cell_type": "code",
   "execution_count": 6,
   "metadata": {},
   "outputs": [
    {
     "data": {
      "text/html": [
       "<table>\n",
       "<caption>A tibble: 1200 × 12</caption>\n",
       "<thead>\n",
       "\t<tr><th scope=col>fixed.acidity</th><th scope=col>volatile.acidity</th><th scope=col>citric.acid</th><th scope=col>residual.sugar</th><th scope=col>chlorides</th><th scope=col>free.sulfur.dioxide</th><th scope=col>total.sulfur.dioxide</th><th scope=col>density</th><th scope=col>pH</th><th scope=col>sulphates</th><th scope=col>alcohol</th><th scope=col>quality</th></tr>\n",
       "\t<tr><th scope=col>&lt;dbl&gt;</th><th scope=col>&lt;dbl&gt;</th><th scope=col>&lt;dbl&gt;</th><th scope=col>&lt;dbl&gt;</th><th scope=col>&lt;dbl&gt;</th><th scope=col>&lt;dbl&gt;</th><th scope=col>&lt;dbl&gt;</th><th scope=col>&lt;dbl&gt;</th><th scope=col>&lt;dbl&gt;</th><th scope=col>&lt;dbl&gt;</th><th scope=col>&lt;dbl&gt;</th><th scope=col>&lt;fct&gt;</th></tr>\n",
       "</thead>\n",
       "<tbody>\n",
       "\t<tr><td>74</td><td>0.70</td><td>0.00</td><td>19</td><td>0.076</td><td>11</td><td>34</td><td>0.9978</td><td>351</td><td>0.56</td><td>94</td><td>5</td></tr>\n",
       "\t<tr><td>78</td><td>0.76</td><td>0.04</td><td>23</td><td>0.092</td><td>15</td><td>54</td><td>0.9970</td><td>326</td><td>0.65</td><td>98</td><td>5</td></tr>\n",
       "\t<tr><td>74</td><td>0.70</td><td>0.00</td><td>19</td><td>0.076</td><td>11</td><td>34</td><td>0.9978</td><td>351</td><td>0.56</td><td>94</td><td>5</td></tr>\n",
       "\t<tr><td>⋮</td><td>⋮</td><td>⋮</td><td>⋮</td><td>⋮</td><td>⋮</td><td>⋮</td><td>⋮</td><td>⋮</td><td>⋮</td><td>⋮</td><td>⋮</td></tr>\n",
       "\t<tr><td>63</td><td>0.510</td><td>0.13</td><td>23</td><td>0.076</td><td>29</td><td>40</td><td>0.99574</td><td>342</td><td>0.75</td><td> 11</td><td>6</td></tr>\n",
       "\t<tr><td>59</td><td>0.645</td><td>0.12</td><td> 2</td><td>0.075</td><td>32</td><td>44</td><td>0.99547</td><td>357</td><td>0.71</td><td>102</td><td>5</td></tr>\n",
       "\t<tr><td> 6</td><td>0.310</td><td>0.47</td><td>36</td><td>0.067</td><td>18</td><td>42</td><td>0.99549</td><td>339</td><td>0.66</td><td> 11</td><td>6</td></tr>\n",
       "</tbody>\n",
       "</table>\n"
      ],
      "text/latex": [
       "A tibble: 1200 × 12\n",
       "\\begin{tabular}{llllllllllll}\n",
       " fixed.acidity & volatile.acidity & citric.acid & residual.sugar & chlorides & free.sulfur.dioxide & total.sulfur.dioxide & density & pH & sulphates & alcohol & quality\\\\\n",
       " <dbl> & <dbl> & <dbl> & <dbl> & <dbl> & <dbl> & <dbl> & <dbl> & <dbl> & <dbl> & <dbl> & <fct>\\\\\n",
       "\\hline\n",
       "\t 74 & 0.70 & 0.00 & 19 & 0.076 & 11 & 34 & 0.9978 & 351 & 0.56 & 94 & 5\\\\\n",
       "\t 78 & 0.76 & 0.04 & 23 & 0.092 & 15 & 54 & 0.9970 & 326 & 0.65 & 98 & 5\\\\\n",
       "\t 74 & 0.70 & 0.00 & 19 & 0.076 & 11 & 34 & 0.9978 & 351 & 0.56 & 94 & 5\\\\\n",
       "\t ⋮ & ⋮ & ⋮ & ⋮ & ⋮ & ⋮ & ⋮ & ⋮ & ⋮ & ⋮ & ⋮ & ⋮\\\\\n",
       "\t 63 & 0.510 & 0.13 & 23 & 0.076 & 29 & 40 & 0.99574 & 342 & 0.75 &  11 & 6\\\\\n",
       "\t 59 & 0.645 & 0.12 &  2 & 0.075 & 32 & 44 & 0.99547 & 357 & 0.71 & 102 & 5\\\\\n",
       "\t  6 & 0.310 & 0.47 & 36 & 0.067 & 18 & 42 & 0.99549 & 339 & 0.66 &  11 & 6\\\\\n",
       "\\end{tabular}\n"
      ],
      "text/markdown": [
       "\n",
       "A tibble: 1200 × 12\n",
       "\n",
       "| fixed.acidity &lt;dbl&gt; | volatile.acidity &lt;dbl&gt; | citric.acid &lt;dbl&gt; | residual.sugar &lt;dbl&gt; | chlorides &lt;dbl&gt; | free.sulfur.dioxide &lt;dbl&gt; | total.sulfur.dioxide &lt;dbl&gt; | density &lt;dbl&gt; | pH &lt;dbl&gt; | sulphates &lt;dbl&gt; | alcohol &lt;dbl&gt; | quality &lt;fct&gt; |\n",
       "|---|---|---|---|---|---|---|---|---|---|---|---|\n",
       "| 74 | 0.70 | 0.00 | 19 | 0.076 | 11 | 34 | 0.9978 | 351 | 0.56 | 94 | 5 |\n",
       "| 78 | 0.76 | 0.04 | 23 | 0.092 | 15 | 54 | 0.9970 | 326 | 0.65 | 98 | 5 |\n",
       "| 74 | 0.70 | 0.00 | 19 | 0.076 | 11 | 34 | 0.9978 | 351 | 0.56 | 94 | 5 |\n",
       "| ⋮ | ⋮ | ⋮ | ⋮ | ⋮ | ⋮ | ⋮ | ⋮ | ⋮ | ⋮ | ⋮ | ⋮ |\n",
       "| 63 | 0.510 | 0.13 | 23 | 0.076 | 29 | 40 | 0.99574 | 342 | 0.75 |  11 | 6 |\n",
       "| 59 | 0.645 | 0.12 |  2 | 0.075 | 32 | 44 | 0.99547 | 357 | 0.71 | 102 | 5 |\n",
       "|  6 | 0.310 | 0.47 | 36 | 0.067 | 18 | 42 | 0.99549 | 339 | 0.66 |  11 | 6 |\n",
       "\n"
      ],
      "text/plain": [
       "     fixed.acidity volatile.acidity citric.acid residual.sugar chlorides\n",
       "1    74            0.70             0.00        19             0.076    \n",
       "2    78            0.76             0.04        23             0.092    \n",
       "3    74            0.70             0.00        19             0.076    \n",
       "⋮    ⋮             ⋮                ⋮           ⋮              ⋮        \n",
       "1198 63            0.510            0.13        23             0.076    \n",
       "1199 59            0.645            0.12         2             0.075    \n",
       "1200  6            0.310            0.47        36             0.067    \n",
       "     free.sulfur.dioxide total.sulfur.dioxide density pH  sulphates alcohol\n",
       "1    11                  34                   0.9978  351 0.56      94     \n",
       "2    15                  54                   0.9970  326 0.65      98     \n",
       "3    11                  34                   0.9978  351 0.56      94     \n",
       "⋮    ⋮                   ⋮                    ⋮       ⋮   ⋮         ⋮      \n",
       "1198 29                  40                   0.99574 342 0.75       11    \n",
       "1199 32                  44                   0.99547 357 0.71      102    \n",
       "1200 18                  42                   0.99549 339 0.66       11    \n",
       "     quality\n",
       "1    5      \n",
       "2    5      \n",
       "3    5      \n",
       "⋮    ⋮      \n",
       "1198 6      \n",
       "1199 5      \n",
       "1200 6      "
      ]
     },
     "metadata": {},
     "output_type": "display_data"
    },
    {
     "data": {
      "text/html": [
       "<table>\n",
       "<caption>A tibble: 399 × 12</caption>\n",
       "<thead>\n",
       "\t<tr><th scope=col>fixed.acidity</th><th scope=col>volatile.acidity</th><th scope=col>citric.acid</th><th scope=col>residual.sugar</th><th scope=col>chlorides</th><th scope=col>free.sulfur.dioxide</th><th scope=col>total.sulfur.dioxide</th><th scope=col>density</th><th scope=col>pH</th><th scope=col>sulphates</th><th scope=col>alcohol</th><th scope=col>quality</th></tr>\n",
       "\t<tr><th scope=col>&lt;dbl&gt;</th><th scope=col>&lt;dbl&gt;</th><th scope=col>&lt;dbl&gt;</th><th scope=col>&lt;dbl&gt;</th><th scope=col>&lt;dbl&gt;</th><th scope=col>&lt;dbl&gt;</th><th scope=col>&lt;dbl&gt;</th><th scope=col>&lt;dbl&gt;</th><th scope=col>&lt;dbl&gt;</th><th scope=col>&lt;dbl&gt;</th><th scope=col>&lt;dbl&gt;</th><th scope=col>&lt;fct&gt;</th></tr>\n",
       "</thead>\n",
       "<tbody>\n",
       "\t<tr><td> 78</td><td>0.88</td><td>0.00</td><td>26</td><td>0.098</td><td>25</td><td>67</td><td>0.9968</td><td> 32</td><td>0.68</td><td>98</td><td>5</td></tr>\n",
       "\t<tr><td>112</td><td>0.28</td><td>0.56</td><td>19</td><td>0.075</td><td>17</td><td>60</td><td>0.9980</td><td>316</td><td>0.58</td><td>98</td><td>6</td></tr>\n",
       "\t<tr><td> 67</td><td>0.58</td><td>0.08</td><td>18</td><td>0.097</td><td>15</td><td>65</td><td>0.9959</td><td>328</td><td>0.54</td><td>92</td><td>5</td></tr>\n",
       "\t<tr><td>⋮</td><td>⋮</td><td>⋮</td><td>⋮</td><td>⋮</td><td>⋮</td><td>⋮</td><td>⋮</td><td>⋮</td><td>⋮</td><td>⋮</td><td>⋮</td></tr>\n",
       "\t<tr><td>54</td><td>0.74</td><td>0.09</td><td>17</td><td>0.089</td><td>16</td><td>26</td><td>0.99402</td><td>367</td><td>0.56</td><td>116</td><td>6</td></tr>\n",
       "\t<tr><td>62</td><td>0.60</td><td>0.08</td><td> 2</td><td>0.090</td><td>32</td><td>44</td><td>0.99490</td><td>345</td><td>0.58</td><td>105</td><td>5</td></tr>\n",
       "\t<tr><td>59</td><td>0.55</td><td>0.10</td><td>22</td><td>0.062</td><td>39</td><td>51</td><td>0.99512</td><td>352</td><td>0.76</td><td>112</td><td>6</td></tr>\n",
       "</tbody>\n",
       "</table>\n"
      ],
      "text/latex": [
       "A tibble: 399 × 12\n",
       "\\begin{tabular}{llllllllllll}\n",
       " fixed.acidity & volatile.acidity & citric.acid & residual.sugar & chlorides & free.sulfur.dioxide & total.sulfur.dioxide & density & pH & sulphates & alcohol & quality\\\\\n",
       " <dbl> & <dbl> & <dbl> & <dbl> & <dbl> & <dbl> & <dbl> & <dbl> & <dbl> & <dbl> & <dbl> & <fct>\\\\\n",
       "\\hline\n",
       "\t  78 & 0.88 & 0.00 & 26 & 0.098 & 25 & 67 & 0.9968 &  32 & 0.68 & 98 & 5\\\\\n",
       "\t 112 & 0.28 & 0.56 & 19 & 0.075 & 17 & 60 & 0.9980 & 316 & 0.58 & 98 & 6\\\\\n",
       "\t  67 & 0.58 & 0.08 & 18 & 0.097 & 15 & 65 & 0.9959 & 328 & 0.54 & 92 & 5\\\\\n",
       "\t ⋮ & ⋮ & ⋮ & ⋮ & ⋮ & ⋮ & ⋮ & ⋮ & ⋮ & ⋮ & ⋮ & ⋮\\\\\n",
       "\t 54 & 0.74 & 0.09 & 17 & 0.089 & 16 & 26 & 0.99402 & 367 & 0.56 & 116 & 6\\\\\n",
       "\t 62 & 0.60 & 0.08 &  2 & 0.090 & 32 & 44 & 0.99490 & 345 & 0.58 & 105 & 5\\\\\n",
       "\t 59 & 0.55 & 0.10 & 22 & 0.062 & 39 & 51 & 0.99512 & 352 & 0.76 & 112 & 6\\\\\n",
       "\\end{tabular}\n"
      ],
      "text/markdown": [
       "\n",
       "A tibble: 399 × 12\n",
       "\n",
       "| fixed.acidity &lt;dbl&gt; | volatile.acidity &lt;dbl&gt; | citric.acid &lt;dbl&gt; | residual.sugar &lt;dbl&gt; | chlorides &lt;dbl&gt; | free.sulfur.dioxide &lt;dbl&gt; | total.sulfur.dioxide &lt;dbl&gt; | density &lt;dbl&gt; | pH &lt;dbl&gt; | sulphates &lt;dbl&gt; | alcohol &lt;dbl&gt; | quality &lt;fct&gt; |\n",
       "|---|---|---|---|---|---|---|---|---|---|---|---|\n",
       "|  78 | 0.88 | 0.00 | 26 | 0.098 | 25 | 67 | 0.9968 |  32 | 0.68 | 98 | 5 |\n",
       "| 112 | 0.28 | 0.56 | 19 | 0.075 | 17 | 60 | 0.9980 | 316 | 0.58 | 98 | 6 |\n",
       "|  67 | 0.58 | 0.08 | 18 | 0.097 | 15 | 65 | 0.9959 | 328 | 0.54 | 92 | 5 |\n",
       "| ⋮ | ⋮ | ⋮ | ⋮ | ⋮ | ⋮ | ⋮ | ⋮ | ⋮ | ⋮ | ⋮ | ⋮ |\n",
       "| 54 | 0.74 | 0.09 | 17 | 0.089 | 16 | 26 | 0.99402 | 367 | 0.56 | 116 | 6 |\n",
       "| 62 | 0.60 | 0.08 |  2 | 0.090 | 32 | 44 | 0.99490 | 345 | 0.58 | 105 | 5 |\n",
       "| 59 | 0.55 | 0.10 | 22 | 0.062 | 39 | 51 | 0.99512 | 352 | 0.76 | 112 | 6 |\n",
       "\n"
      ],
      "text/plain": [
       "    fixed.acidity volatile.acidity citric.acid residual.sugar chlorides\n",
       "1    78           0.88             0.00        26             0.098    \n",
       "2   112           0.28             0.56        19             0.075    \n",
       "3    67           0.58             0.08        18             0.097    \n",
       "⋮   ⋮             ⋮                ⋮           ⋮              ⋮        \n",
       "397 54            0.74             0.09        17             0.089    \n",
       "398 62            0.60             0.08         2             0.090    \n",
       "399 59            0.55             0.10        22             0.062    \n",
       "    free.sulfur.dioxide total.sulfur.dioxide density pH  sulphates alcohol\n",
       "1   25                  67                   0.9968   32 0.68      98     \n",
       "2   17                  60                   0.9980  316 0.58      98     \n",
       "3   15                  65                   0.9959  328 0.54      92     \n",
       "⋮   ⋮                   ⋮                    ⋮       ⋮   ⋮         ⋮      \n",
       "397 16                  26                   0.99402 367 0.56      116    \n",
       "398 32                  44                   0.99490 345 0.58      105    \n",
       "399 39                  51                   0.99512 352 0.76      112    \n",
       "    quality\n",
       "1   5      \n",
       "2   6      \n",
       "3   5      \n",
       "⋮   ⋮      \n",
       "397 6      \n",
       "398 5      \n",
       "399 6      "
      ]
     },
     "metadata": {},
     "output_type": "display_data"
    }
   ],
   "source": [
    "set.seed(15)\n",
    "\n",
    "wine_split <- initial_split(wine, prop = 0.75, strata = quality)  \n",
    "wine_train <- training(wine_split)\n",
    "wine_test <- testing(wine_split)\n",
    "\n",
    "wine_train\n",
    "wine_test"
   ]
  },
  {
   "cell_type": "code",
   "execution_count": 7,
   "metadata": {},
   "outputs": [
    {
     "name": "stderr",
     "output_type": "stream",
     "text": [
      "`summarise()` ungrouping output (override with `.groups` argument)\n",
      "\n"
     ]
    },
    {
     "data": {
      "text/html": [
       "<table>\n",
       "<caption>A tibble: 6 × 3</caption>\n",
       "<thead>\n",
       "\t<tr><th scope=col>quality</th><th scope=col>count</th><th scope=col>percentage</th></tr>\n",
       "\t<tr><th scope=col>&lt;fct&gt;</th><th scope=col>&lt;int&gt;</th><th scope=col>&lt;dbl&gt;</th></tr>\n",
       "</thead>\n",
       "<tbody>\n",
       "\t<tr><td>3</td><td> 10</td><td> 0.6253909</td></tr>\n",
       "\t<tr><td>4</td><td> 53</td><td> 3.3145716</td></tr>\n",
       "\t<tr><td>5</td><td>681</td><td>42.5891182</td></tr>\n",
       "\t<tr><td>6</td><td>638</td><td>39.8999375</td></tr>\n",
       "\t<tr><td>7</td><td>199</td><td>12.4452783</td></tr>\n",
       "\t<tr><td>8</td><td> 18</td><td> 1.1257036</td></tr>\n",
       "</tbody>\n",
       "</table>\n"
      ],
      "text/latex": [
       "A tibble: 6 × 3\n",
       "\\begin{tabular}{lll}\n",
       " quality & count & percentage\\\\\n",
       " <fct> & <int> & <dbl>\\\\\n",
       "\\hline\n",
       "\t 3 &  10 &  0.6253909\\\\\n",
       "\t 4 &  53 &  3.3145716\\\\\n",
       "\t 5 & 681 & 42.5891182\\\\\n",
       "\t 6 & 638 & 39.8999375\\\\\n",
       "\t 7 & 199 & 12.4452783\\\\\n",
       "\t 8 &  18 &  1.1257036\\\\\n",
       "\\end{tabular}\n"
      ],
      "text/markdown": [
       "\n",
       "A tibble: 6 × 3\n",
       "\n",
       "| quality &lt;fct&gt; | count &lt;int&gt; | percentage &lt;dbl&gt; |\n",
       "|---|---|---|\n",
       "| 3 |  10 |  0.6253909 |\n",
       "| 4 |  53 |  3.3145716 |\n",
       "| 5 | 681 | 42.5891182 |\n",
       "| 6 | 638 | 39.8999375 |\n",
       "| 7 | 199 | 12.4452783 |\n",
       "| 8 |  18 |  1.1257036 |\n",
       "\n"
      ],
      "text/plain": [
       "  quality count percentage\n",
       "1 3        10    0.6253909\n",
       "2 4        53    3.3145716\n",
       "3 5       681   42.5891182\n",
       "4 6       638   39.8999375\n",
       "5 7       199   12.4452783\n",
       "6 8        18    1.1257036"
      ]
     },
     "metadata": {},
     "output_type": "display_data"
    }
   ],
   "source": [
    "num_obs <- nrow(wine)\n",
    "\n",
    "wine_summary <- wine %>%\n",
    "  group_by(quality) %>%\n",
    "  summarize(\n",
    "    count = n(),\n",
    "    percentage = (n()/num_obs) * 100\n",
    "  )\n",
    "\n",
    "wine_summary"
   ]
  },
  {
   "cell_type": "code",
   "execution_count": 8,
   "metadata": {},
   "outputs": [
    {
     "name": "stderr",
     "output_type": "stream",
     "text": [
      "`summarise()` ungrouping output (override with `.groups` argument)\n",
      "\n"
     ]
    },
    {
     "data": {
      "text/html": [
       "<table>\n",
       "<caption>A tibble: 6 × 6</caption>\n",
       "<thead>\n",
       "\t<tr><th scope=col>quality</th><th scope=col>count</th><th scope=col>percentage</th><th scope=col>sulphates_mean</th><th scope=col>pH_mean</th><th scope=col>total.sulfur.dioxide_mean</th></tr>\n",
       "\t<tr><th scope=col>&lt;fct&gt;</th><th scope=col>&lt;int&gt;</th><th scope=col>&lt;dbl&gt;</th><th scope=col>&lt;dbl&gt;</th><th scope=col>&lt;dbl&gt;</th><th scope=col>&lt;dbl&gt;</th></tr>\n",
       "</thead>\n",
       "<tbody>\n",
       "\t<tr><td>3</td><td>  7</td><td> 0.4377736</td><td>0.5685714</td><td>300.2857</td><td>24.57143</td></tr>\n",
       "\t<tr><td>4</td><td> 38</td><td> 2.3764853</td><td>0.6086842</td><td>282.3421</td><td>37.31579</td></tr>\n",
       "\t<tr><td>5</td><td>512</td><td>32.0200125</td><td>0.6163086</td><td>298.9609</td><td>57.13922</td></tr>\n",
       "\t<tr><td>6</td><td>480</td><td>30.0187617</td><td>0.6729167</td><td>299.5958</td><td>40.51042</td></tr>\n",
       "\t<tr><td>7</td><td>148</td><td> 9.2557849</td><td>0.7410135</td><td>300.3514</td><td>36.10135</td></tr>\n",
       "\t<tr><td>8</td><td> 15</td><td> 0.9380863</td><td>0.7480000</td><td>289.3333</td><td>34.60000</td></tr>\n",
       "</tbody>\n",
       "</table>\n"
      ],
      "text/latex": [
       "A tibble: 6 × 6\n",
       "\\begin{tabular}{llllll}\n",
       " quality & count & percentage & sulphates\\_mean & pH\\_mean & total.sulfur.dioxide\\_mean\\\\\n",
       " <fct> & <int> & <dbl> & <dbl> & <dbl> & <dbl>\\\\\n",
       "\\hline\n",
       "\t 3 &   7 &  0.4377736 & 0.5685714 & 300.2857 & 24.57143\\\\\n",
       "\t 4 &  38 &  2.3764853 & 0.6086842 & 282.3421 & 37.31579\\\\\n",
       "\t 5 & 512 & 32.0200125 & 0.6163086 & 298.9609 & 57.13922\\\\\n",
       "\t 6 & 480 & 30.0187617 & 0.6729167 & 299.5958 & 40.51042\\\\\n",
       "\t 7 & 148 &  9.2557849 & 0.7410135 & 300.3514 & 36.10135\\\\\n",
       "\t 8 &  15 &  0.9380863 & 0.7480000 & 289.3333 & 34.60000\\\\\n",
       "\\end{tabular}\n"
      ],
      "text/markdown": [
       "\n",
       "A tibble: 6 × 6\n",
       "\n",
       "| quality &lt;fct&gt; | count &lt;int&gt; | percentage &lt;dbl&gt; | sulphates_mean &lt;dbl&gt; | pH_mean &lt;dbl&gt; | total.sulfur.dioxide_mean &lt;dbl&gt; |\n",
       "|---|---|---|---|---|---|\n",
       "| 3 |   7 |  0.4377736 | 0.5685714 | 300.2857 | 24.57143 |\n",
       "| 4 |  38 |  2.3764853 | 0.6086842 | 282.3421 | 37.31579 |\n",
       "| 5 | 512 | 32.0200125 | 0.6163086 | 298.9609 | 57.13922 |\n",
       "| 6 | 480 | 30.0187617 | 0.6729167 | 299.5958 | 40.51042 |\n",
       "| 7 | 148 |  9.2557849 | 0.7410135 | 300.3514 | 36.10135 |\n",
       "| 8 |  15 |  0.9380863 | 0.7480000 | 289.3333 | 34.60000 |\n",
       "\n"
      ],
      "text/plain": [
       "  quality count percentage sulphates_mean pH_mean  total.sulfur.dioxide_mean\n",
       "1 3         7    0.4377736 0.5685714      300.2857 24.57143                 \n",
       "2 4        38    2.3764853 0.6086842      282.3421 37.31579                 \n",
       "3 5       512   32.0200125 0.6163086      298.9609 57.13922                 \n",
       "4 6       480   30.0187617 0.6729167      299.5958 40.51042                 \n",
       "5 7       148    9.2557849 0.7410135      300.3514 36.10135                 \n",
       "6 8        15    0.9380863 0.7480000      289.3333 34.60000                 "
      ]
     },
     "metadata": {},
     "output_type": "display_data"
    }
   ],
   "source": [
    "num_obs_train <- nrow(wine_train)\n",
    "\n",
    "wine_summary_train <- wine_train %>%\n",
    "  group_by(quality) %>%\n",
    "  summarize(\n",
    "    count = n(),\n",
    "    percentage = (n()/num_obs) * 100,\n",
    "    sulphates_mean = mean(sulphates, na.rm = TRUE),\n",
    "    pH_mean = mean(pH, na.rm = TRUE),\n",
    "    total.sulfur.dioxide_mean = mean(total.sulfur.dioxide, na.rm = TRUE),\n",
    "    \n",
    "  )\n",
    "\n",
    "wine_summary_train\n"
   ]
  },
  {
   "cell_type": "code",
   "execution_count": 9,
   "metadata": {},
   "outputs": [
    {
     "ename": "ERROR",
     "evalue": "Error in mean(sulphates): object 'sulphates' not found\n",
     "output_type": "error",
     "traceback": [
      "Error in mean(sulphates): object 'sulphates' not found\nTraceback:\n",
      "1. mean(sulphates)"
     ]
    }
   ],
   "source": [
    "wine <- wine %>% \n",
    "  mutate(sulphates_mean = mean(sulphates))\n",
    "mean(sulphates)\n",
    "wine"
   ]
  },
  {
   "cell_type": "code",
   "execution_count": null,
   "metadata": {},
   "outputs": [],
   "source": []
  },
  {
   "cell_type": "code",
   "execution_count": null,
   "metadata": {},
   "outputs": [],
   "source": []
  },
  {
   "cell_type": "code",
   "execution_count": null,
   "metadata": {},
   "outputs": [],
   "source": []
  }
 ],
 "metadata": {
  "kernelspec": {
   "display_name": "R",
   "language": "R",
   "name": "ir"
  },
  "language_info": {
   "codemirror_mode": "r",
   "file_extension": ".r",
   "mimetype": "text/x-r-source",
   "name": "R",
   "pygments_lexer": "r",
   "version": "4.0.0"
  }
 },
 "nbformat": 4,
 "nbformat_minor": 4
}
