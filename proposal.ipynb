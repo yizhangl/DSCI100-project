{
 "cells": [
  {
   "cell_type": "markdown",
   "metadata": {},
   "source": [
<<<<<<< HEAD
    "**Describing the variables in the cancer data set**"
=======
    "## Red Wine Quality Predicting\n",
    "\n",
    "The wine industry has a considerable impact on the global economy, valued at USD 417.85 billion in 2020 it is growing steadily at an annual rate of 6.4%. Portugal is a top ten wine exporting country, with 3.17% of the market share in 2005 (Cortez et al., 2009). In our analysis, we will look into the physicochemical properties  - the physical and chemical attributes -  of red wine from Portugal in order to determine the best predictors of wine quality. Taste and quality can be very subjective, thus an objective measure of wine quality can help wine producers optimize their production process for quality.\n",
    "\n",
    "We are planning to predict red wine quality using classification.\n",
    "\n",
    "\n",
    "Our question is:\n",
    "\n",
    "Given three predictors -- sulphates, PH, and total sulfur dioxide, what will be the red wine quality?\n",
    "\n",
    "The columns in the dataset are:\n",
    "\n",
    "1. `Fixed Acidity` : a measure of g(tartaric acid)/dm3 which influences the stability, taste, odour and colour.\n",
    " \n",
    "2. `Volatile Acidity` : a measure of g(acetic acid)/dm3 which is predominantly responsible for the sour vinegar-like taste notes.\n",
    " \n",
    "3. `Citric Acid`: a measure of citric acid in (g / dm3) that contributes to the “fresh” flavour.\n",
    " \n",
    "4. `Residual Sugar`: natural sugars left over from grapes measured in (g / dm3) creating a range of sweet to dry wines.\n",
    " \n",
    "5. `Chlorides`: a measure of (sodium chloride - g / dm3) influencing the saltiness of wine.\n",
    " \n",
    "6. `Free Sulfur Dioxide`: a measure of free sulfur dioxide (mg / dm3) that prevents oxidation and microbial spoilage.\n",
    " \n",
    "7. `Total Sulfur Dioxide`: a measure of total sulfur dioxide (mg / dm3) that includes free and sulfur dioxides bound to other chemicals preventing spoilage.\n",
    " \n",
    "8. `Density`: a measure of density (g / cm3) influencing the texture of wine.\n",
    " \n",
    "9. `pH`: a measure of acidity/basicity of influencing the “softness” and “roundness”.\n",
    " \n",
    "10. `Sulphates`: a measure of (potassium sulphate - g / dm3) that prevents renewed fermentation.\n",
    " \n",
    "11. `Alcohol`: a measure of (% by volume) impacting the “body” and sweetness of wine.\n",
    " \n",
    "12. `Quality (score between 0 and 10)`: based on sensory data evaluations by wine experts where 0 represents very bad and 10 very excellent.\n",
    "\n",
    "\n",
    "The original datasets are available here:\n",
    "- https://archive.ics.uci.edu/ml/datasets/Wine+Quality\n",
    "\n",
    "\n",
    "\n",
    "Citation:\n",
    "P. Cortez, A. Cerdeira, F. Almeida, T. Matos and J. Reis.\n",
    "Modeling wine preferences by data mining from physicochemical properties. In Decision Support Systems, Elsevier, 47(4):547-553, 2009.\n"
>>>>>>> 4c5e6c2640bb7d4daad09cb8687575fad3cc5158
   ]
  },
  {
   "cell_type": "code",
<<<<<<< HEAD
   "execution_count": 2,
=======
   "execution_count": 49,
>>>>>>> 4c5e6c2640bb7d4daad09cb8687575fad3cc5158
   "metadata": {},
   "outputs": [
    {
     "name": "stderr",
     "output_type": "stream",
     "text": [
      "Warning message in file(filename, \"r\", encoding = encoding):\n",
      "“cannot open file 'tests.R': No such file or directory”\n"
     ]
    },
    {
     "ename": "ERROR",
     "evalue": "Error in file(filename, \"r\", encoding = encoding): cannot open the connection\n",
     "output_type": "error",
     "traceback": [
      "Error in file(filename, \"r\", encoding = encoding): cannot open the connection\nTraceback:\n",
      "1. source(\"tests.R\")",
      "2. file(filename, \"r\", encoding = encoding)"
     ]
    }
   ],
   "source": [
    " ### Run this cell before continuing.\n",
    "library(tidyverse)\n",
    "library(repr)\n",
    "library(tidymodels)\n",
    "options(repr.matrix.max.rows = 6)\n",
    "source('tests.R')\n",
    "source('cleanup.R')"
   ]
  },
  {
   "cell_type": "code",
<<<<<<< HEAD
   "execution_count": 3,
=======
   "execution_count": 50,
>>>>>>> 4c5e6c2640bb7d4daad09cb8687575fad3cc5158
   "metadata": {},
   "outputs": [
    {
     "name": "stderr",
     "output_type": "stream",
     "text": [
      "Using ',' as decimal and '.' as grouping mark. Use read_delim() for more control.\n",
      "\n",
      "Parsed with column specification:\n",
      "cols(\n",
      "  `fixed acidity` = \u001b[32mcol_number()\u001b[39m,\n",
      "  `volatile acidity` = \u001b[31mcol_character()\u001b[39m,\n",
      "  `citric acid` = \u001b[31mcol_character()\u001b[39m,\n",
      "  `residual sugar` = \u001b[32mcol_number()\u001b[39m,\n",
      "  chlorides = \u001b[31mcol_character()\u001b[39m,\n",
      "  `free sulfur dioxide` = \u001b[32mcol_number()\u001b[39m,\n",
      "  `total sulfur dioxide` = \u001b[32mcol_double()\u001b[39m,\n",
      "  density = \u001b[31mcol_character()\u001b[39m,\n",
      "  pH = \u001b[32mcol_number()\u001b[39m,\n",
      "  sulphates = \u001b[31mcol_character()\u001b[39m,\n",
      "  alcohol = \u001b[32mcol_number()\u001b[39m,\n",
      "  quality = \u001b[32mcol_double()\u001b[39m\n",
      ")\n",
      "\n",
      "Warning message:\n",
      "“2 parsing failures.\n",
      " row                  col               expected actual                                                                                         file\n",
      "1296 total sulfur dioxide no trailing characters     .5 'https://archive.ics.uci.edu/ml/machine-learning-databases/wine-quality/winequality-red.csv'\n",
      "1297 total sulfur dioxide no trailing characters     .5 'https://archive.ics.uci.edu/ml/machine-learning-databases/wine-quality/winequality-red.csv'\n",
      "”\n"
     ]
    }
   ],
   "source": [
    "url <- \"https://archive.ics.uci.edu/ml/machine-learning-databases/wine-quality/winequality-red.csv\"\n",
    "wine <- read_csv2(url)"
   ]
  },
  {
   "cell_type": "markdown",
   "metadata": {},
   "source": [
    "Clean and wrangle our data"
   ]
  },
  {
   "cell_type": "code",
<<<<<<< HEAD
   "execution_count": 4,
=======
   "execution_count": 51,
>>>>>>> 4c5e6c2640bb7d4daad09cb8687575fad3cc5158
   "metadata": {},
   "outputs": [
    {
     "data": {
      "text/html": [
       "<table>\n",
       "<caption>A spec_tbl_df: 1599 × 12</caption>\n",
       "<thead>\n",
       "\t<tr><th scope=col>fixed.acidity</th><th scope=col>volatile.acidity</th><th scope=col>citric.acid</th><th scope=col>residual.sugar</th><th scope=col>chlorides</th><th scope=col>free.sulfur.dioxide</th><th scope=col>total.sulfur.dioxide</th><th scope=col>density</th><th scope=col>pH</th><th scope=col>sulphates</th><th scope=col>alcohol</th><th scope=col>quality</th></tr>\n",
       "\t<tr><th scope=col>&lt;dbl&gt;</th><th scope=col>&lt;dbl&gt;</th><th scope=col>&lt;dbl&gt;</th><th scope=col>&lt;dbl&gt;</th><th scope=col>&lt;dbl&gt;</th><th scope=col>&lt;dbl&gt;</th><th scope=col>&lt;dbl&gt;</th><th scope=col>&lt;dbl&gt;</th><th scope=col>&lt;dbl&gt;</th><th scope=col>&lt;dbl&gt;</th><th scope=col>&lt;dbl&gt;</th><th scope=col>&lt;fct&gt;</th></tr>\n",
       "</thead>\n",
       "<tbody>\n",
       "\t<tr><td>74</td><td>0.70</td><td>0.00</td><td>19</td><td>0.076</td><td>11</td><td>34</td><td>0.9978</td><td>351</td><td>0.56</td><td>94</td><td>5</td></tr>\n",
       "\t<tr><td>78</td><td>0.88</td><td>0.00</td><td>26</td><td>0.098</td><td>25</td><td>67</td><td>0.9968</td><td> 32</td><td>0.68</td><td>98</td><td>5</td></tr>\n",
       "\t<tr><td>78</td><td>0.76</td><td>0.04</td><td>23</td><td>0.092</td><td>15</td><td>54</td><td>0.9970</td><td>326</td><td>0.65</td><td>98</td><td>5</td></tr>\n",
       "\t<tr><td>⋮</td><td>⋮</td><td>⋮</td><td>⋮</td><td>⋮</td><td>⋮</td><td>⋮</td><td>⋮</td><td>⋮</td><td>⋮</td><td>⋮</td><td>⋮</td></tr>\n",
       "\t<tr><td>63</td><td>0.510</td><td>0.13</td><td>23</td><td>0.076</td><td>29</td><td>40</td><td>0.99574</td><td>342</td><td>0.75</td><td> 11</td><td>6</td></tr>\n",
       "\t<tr><td>59</td><td>0.645</td><td>0.12</td><td> 2</td><td>0.075</td><td>32</td><td>44</td><td>0.99547</td><td>357</td><td>0.71</td><td>102</td><td>5</td></tr>\n",
       "\t<tr><td> 6</td><td>0.310</td><td>0.47</td><td>36</td><td>0.067</td><td>18</td><td>42</td><td>0.99549</td><td>339</td><td>0.66</td><td> 11</td><td>6</td></tr>\n",
       "</tbody>\n",
       "</table>\n"
      ],
      "text/latex": [
       "A spec\\_tbl\\_df: 1599 × 12\n",
       "\\begin{tabular}{llllllllllll}\n",
       " fixed.acidity & volatile.acidity & citric.acid & residual.sugar & chlorides & free.sulfur.dioxide & total.sulfur.dioxide & density & pH & sulphates & alcohol & quality\\\\\n",
       " <dbl> & <dbl> & <dbl> & <dbl> & <dbl> & <dbl> & <dbl> & <dbl> & <dbl> & <dbl> & <dbl> & <fct>\\\\\n",
       "\\hline\n",
       "\t 74 & 0.70 & 0.00 & 19 & 0.076 & 11 & 34 & 0.9978 & 351 & 0.56 & 94 & 5\\\\\n",
       "\t 78 & 0.88 & 0.00 & 26 & 0.098 & 25 & 67 & 0.9968 &  32 & 0.68 & 98 & 5\\\\\n",
       "\t 78 & 0.76 & 0.04 & 23 & 0.092 & 15 & 54 & 0.9970 & 326 & 0.65 & 98 & 5\\\\\n",
       "\t ⋮ & ⋮ & ⋮ & ⋮ & ⋮ & ⋮ & ⋮ & ⋮ & ⋮ & ⋮ & ⋮ & ⋮\\\\\n",
       "\t 63 & 0.510 & 0.13 & 23 & 0.076 & 29 & 40 & 0.99574 & 342 & 0.75 &  11 & 6\\\\\n",
       "\t 59 & 0.645 & 0.12 &  2 & 0.075 & 32 & 44 & 0.99547 & 357 & 0.71 & 102 & 5\\\\\n",
       "\t  6 & 0.310 & 0.47 & 36 & 0.067 & 18 & 42 & 0.99549 & 339 & 0.66 &  11 & 6\\\\\n",
       "\\end{tabular}\n"
      ],
      "text/markdown": [
       "\n",
       "A spec_tbl_df: 1599 × 12\n",
       "\n",
       "| fixed.acidity &lt;dbl&gt; | volatile.acidity &lt;dbl&gt; | citric.acid &lt;dbl&gt; | residual.sugar &lt;dbl&gt; | chlorides &lt;dbl&gt; | free.sulfur.dioxide &lt;dbl&gt; | total.sulfur.dioxide &lt;dbl&gt; | density &lt;dbl&gt; | pH &lt;dbl&gt; | sulphates &lt;dbl&gt; | alcohol &lt;dbl&gt; | quality &lt;fct&gt; |\n",
       "|---|---|---|---|---|---|---|---|---|---|---|---|\n",
       "| 74 | 0.70 | 0.00 | 19 | 0.076 | 11 | 34 | 0.9978 | 351 | 0.56 | 94 | 5 |\n",
       "| 78 | 0.88 | 0.00 | 26 | 0.098 | 25 | 67 | 0.9968 |  32 | 0.68 | 98 | 5 |\n",
       "| 78 | 0.76 | 0.04 | 23 | 0.092 | 15 | 54 | 0.9970 | 326 | 0.65 | 98 | 5 |\n",
       "| ⋮ | ⋮ | ⋮ | ⋮ | ⋮ | ⋮ | ⋮ | ⋮ | ⋮ | ⋮ | ⋮ | ⋮ |\n",
       "| 63 | 0.510 | 0.13 | 23 | 0.076 | 29 | 40 | 0.99574 | 342 | 0.75 |  11 | 6 |\n",
       "| 59 | 0.645 | 0.12 |  2 | 0.075 | 32 | 44 | 0.99547 | 357 | 0.71 | 102 | 5 |\n",
       "|  6 | 0.310 | 0.47 | 36 | 0.067 | 18 | 42 | 0.99549 | 339 | 0.66 |  11 | 6 |\n",
       "\n"
      ],
      "text/plain": [
       "     fixed.acidity volatile.acidity citric.acid residual.sugar chlorides\n",
       "1    74            0.70             0.00        19             0.076    \n",
       "2    78            0.88             0.00        26             0.098    \n",
       "3    78            0.76             0.04        23             0.092    \n",
       "⋮    ⋮             ⋮                ⋮           ⋮              ⋮        \n",
       "1597 63            0.510            0.13        23             0.076    \n",
       "1598 59            0.645            0.12         2             0.075    \n",
       "1599  6            0.310            0.47        36             0.067    \n",
       "     free.sulfur.dioxide total.sulfur.dioxide density pH  sulphates alcohol\n",
       "1    11                  34                   0.9978  351 0.56      94     \n",
       "2    25                  67                   0.9968   32 0.68      98     \n",
       "3    15                  54                   0.9970  326 0.65      98     \n",
       "⋮    ⋮                   ⋮                    ⋮       ⋮   ⋮         ⋮      \n",
       "1597 29                  40                   0.99574 342 0.75       11    \n",
       "1598 32                  44                   0.99547 357 0.71      102    \n",
       "1599 18                  42                   0.99549 339 0.66       11    \n",
       "     quality\n",
       "1    5      \n",
       "2    5      \n",
       "3    5      \n",
       "⋮    ⋮      \n",
       "1597 6      \n",
       "1598 5      \n",
       "1599 6      "
      ]
     },
     "metadata": {},
     "output_type": "display_data"
    }
   ],
   "source": [
    "colnames(wine) <- make.names(colnames(wine))\n",
    "\n",
    "wine <- wine %>% \n",
    "  mutate(quality = as_factor(quality),\n",
    "        volatile.acidity = as.double(volatile.acidity),\n",
    "    citric.acid = as.double(citric.acid),\n",
    "  chlorides = as.double(chlorides),\n",
    "  density = as.double(density),\n",
    "  sulphates = as.double(sulphates))\n",
    "  \n",
    "wine"
   ]
  },
  {
   "cell_type": "code",
<<<<<<< HEAD
   "execution_count": 5,
=======
   "execution_count": 52,
>>>>>>> 4c5e6c2640bb7d4daad09cb8687575fad3cc5158
   "metadata": {},
   "outputs": [
    {
     "data": {
      "text/html": [
       "1599"
      ],
      "text/latex": [
       "1599"
      ],
      "text/markdown": [
       "1599"
      ],
      "text/plain": [
       "[1] 1599"
      ]
     },
     "metadata": {},
     "output_type": "display_data"
    },
    {
     "data": {
      "text/html": [
       "2"
      ],
      "text/latex": [
       "2"
      ],
      "text/markdown": [
       "2"
      ],
      "text/plain": [
       "[1] 2"
      ]
     },
     "metadata": {},
     "output_type": "display_data"
    },
    {
     "data": {
      "text/html": [
       "1597"
      ],
      "text/latex": [
       "1597"
      ],
      "text/markdown": [
       "1597"
      ],
      "text/plain": [
       "[1] 1597"
      ]
     },
     "metadata": {},
     "output_type": "display_data"
    }
   ],
   "source": [
    "nrow(wine)\n",
    "\n",
    "sum(is.na(wine))\n",
    "\n",
<<<<<<< HEAD
    "newdata <- na.omit(wine)\n",
    "nrow(newdata)\n"
=======
    "wine_data <- na.omit(wine)\n",
    "nrow(wine_data)"
   ]
  },
  {
   "cell_type": "markdown",
   "metadata": {},
   "source": [
    "*We can conclude that there are totally 1599 rows and 2 rows have missing values.*\n",
    "\n",
    "*We choose to remove these two missing value rows from the original data set.*"
   ]
  },
  {
   "cell_type": "markdown",
   "metadata": {},
   "source": [
    "**Split the wine data set into training data and testing data**"
>>>>>>> 4c5e6c2640bb7d4daad09cb8687575fad3cc5158
   ]
  },
  {
   "cell_type": "code",
<<<<<<< HEAD
   "execution_count": 6,
=======
   "execution_count": 53,
>>>>>>> 4c5e6c2640bb7d4daad09cb8687575fad3cc5158
   "metadata": {},
   "outputs": [
    {
     "data": {
      "text/html": [
       "<table>\n",
       "<caption>A tibble: 1199 × 12</caption>\n",
       "<thead>\n",
       "\t<tr><th scope=col>fixed.acidity</th><th scope=col>volatile.acidity</th><th scope=col>citric.acid</th><th scope=col>residual.sugar</th><th scope=col>chlorides</th><th scope=col>free.sulfur.dioxide</th><th scope=col>total.sulfur.dioxide</th><th scope=col>density</th><th scope=col>pH</th><th scope=col>sulphates</th><th scope=col>alcohol</th><th scope=col>quality</th></tr>\n",
       "\t<tr><th scope=col>&lt;dbl&gt;</th><th scope=col>&lt;dbl&gt;</th><th scope=col>&lt;dbl&gt;</th><th scope=col>&lt;dbl&gt;</th><th scope=col>&lt;dbl&gt;</th><th scope=col>&lt;dbl&gt;</th><th scope=col>&lt;dbl&gt;</th><th scope=col>&lt;dbl&gt;</th><th scope=col>&lt;dbl&gt;</th><th scope=col>&lt;dbl&gt;</th><th scope=col>&lt;dbl&gt;</th><th scope=col>&lt;fct&gt;</th></tr>\n",
       "</thead>\n",
       "<tbody>\n",
       "\t<tr><td>74</td><td>0.70</td><td>0.00</td><td>19</td><td>0.076</td><td>11</td><td>34</td><td>0.9978</td><td>351</td><td>0.56</td><td>94</td><td>5</td></tr>\n",
       "\t<tr><td>78</td><td>0.76</td><td>0.04</td><td>23</td><td>0.092</td><td>15</td><td>54</td><td>0.9970</td><td>326</td><td>0.65</td><td>98</td><td>5</td></tr>\n",
       "\t<tr><td>74</td><td>0.70</td><td>0.00</td><td>19</td><td>0.076</td><td>11</td><td>34</td><td>0.9978</td><td>351</td><td>0.56</td><td>94</td><td>5</td></tr>\n",
       "\t<tr><td>⋮</td><td>⋮</td><td>⋮</td><td>⋮</td><td>⋮</td><td>⋮</td><td>⋮</td><td>⋮</td><td>⋮</td><td>⋮</td><td>⋮</td><td>⋮</td></tr>\n",
       "\t<tr><td>63</td><td>0.510</td><td>0.13</td><td>23</td><td>0.076</td><td>29</td><td>40</td><td>0.99574</td><td>342</td><td>0.75</td><td> 11</td><td>6</td></tr>\n",
       "\t<tr><td>59</td><td>0.645</td><td>0.12</td><td> 2</td><td>0.075</td><td>32</td><td>44</td><td>0.99547</td><td>357</td><td>0.71</td><td>102</td><td>5</td></tr>\n",
       "\t<tr><td> 6</td><td>0.310</td><td>0.47</td><td>36</td><td>0.067</td><td>18</td><td>42</td><td>0.99549</td><td>339</td><td>0.66</td><td> 11</td><td>6</td></tr>\n",
       "</tbody>\n",
       "</table>\n"
      ],
      "text/latex": [
       "A tibble: 1199 × 12\n",
       "\\begin{tabular}{llllllllllll}\n",
       " fixed.acidity & volatile.acidity & citric.acid & residual.sugar & chlorides & free.sulfur.dioxide & total.sulfur.dioxide & density & pH & sulphates & alcohol & quality\\\\\n",
       " <dbl> & <dbl> & <dbl> & <dbl> & <dbl> & <dbl> & <dbl> & <dbl> & <dbl> & <dbl> & <dbl> & <fct>\\\\\n",
       "\\hline\n",
       "\t 74 & 0.70 & 0.00 & 19 & 0.076 & 11 & 34 & 0.9978 & 351 & 0.56 & 94 & 5\\\\\n",
       "\t 78 & 0.76 & 0.04 & 23 & 0.092 & 15 & 54 & 0.9970 & 326 & 0.65 & 98 & 5\\\\\n",
       "\t 74 & 0.70 & 0.00 & 19 & 0.076 & 11 & 34 & 0.9978 & 351 & 0.56 & 94 & 5\\\\\n",
       "\t ⋮ & ⋮ & ⋮ & ⋮ & ⋮ & ⋮ & ⋮ & ⋮ & ⋮ & ⋮ & ⋮ & ⋮\\\\\n",
       "\t 63 & 0.510 & 0.13 & 23 & 0.076 & 29 & 40 & 0.99574 & 342 & 0.75 &  11 & 6\\\\\n",
       "\t 59 & 0.645 & 0.12 &  2 & 0.075 & 32 & 44 & 0.99547 & 357 & 0.71 & 102 & 5\\\\\n",
       "\t  6 & 0.310 & 0.47 & 36 & 0.067 & 18 & 42 & 0.99549 & 339 & 0.66 &  11 & 6\\\\\n",
       "\\end{tabular}\n"
      ],
      "text/markdown": [
       "\n",
       "A tibble: 1199 × 12\n",
       "\n",
       "| fixed.acidity &lt;dbl&gt; | volatile.acidity &lt;dbl&gt; | citric.acid &lt;dbl&gt; | residual.sugar &lt;dbl&gt; | chlorides &lt;dbl&gt; | free.sulfur.dioxide &lt;dbl&gt; | total.sulfur.dioxide &lt;dbl&gt; | density &lt;dbl&gt; | pH &lt;dbl&gt; | sulphates &lt;dbl&gt; | alcohol &lt;dbl&gt; | quality &lt;fct&gt; |\n",
       "|---|---|---|---|---|---|---|---|---|---|---|---|\n",
       "| 74 | 0.70 | 0.00 | 19 | 0.076 | 11 | 34 | 0.9978 | 351 | 0.56 | 94 | 5 |\n",
       "| 78 | 0.76 | 0.04 | 23 | 0.092 | 15 | 54 | 0.9970 | 326 | 0.65 | 98 | 5 |\n",
       "| 74 | 0.70 | 0.00 | 19 | 0.076 | 11 | 34 | 0.9978 | 351 | 0.56 | 94 | 5 |\n",
       "| ⋮ | ⋮ | ⋮ | ⋮ | ⋮ | ⋮ | ⋮ | ⋮ | ⋮ | ⋮ | ⋮ | ⋮ |\n",
       "| 63 | 0.510 | 0.13 | 23 | 0.076 | 29 | 40 | 0.99574 | 342 | 0.75 |  11 | 6 |\n",
       "| 59 | 0.645 | 0.12 |  2 | 0.075 | 32 | 44 | 0.99547 | 357 | 0.71 | 102 | 5 |\n",
       "|  6 | 0.310 | 0.47 | 36 | 0.067 | 18 | 42 | 0.99549 | 339 | 0.66 |  11 | 6 |\n",
       "\n"
      ],
      "text/plain": [
       "     fixed.acidity volatile.acidity citric.acid residual.sugar chlorides\n",
       "1    74            0.70             0.00        19             0.076    \n",
       "2    78            0.76             0.04        23             0.092    \n",
       "3    74            0.70             0.00        19             0.076    \n",
       "⋮    ⋮             ⋮                ⋮           ⋮              ⋮        \n",
       "1197 63            0.510            0.13        23             0.076    \n",
       "1198 59            0.645            0.12         2             0.075    \n",
       "1199  6            0.310            0.47        36             0.067    \n",
       "     free.sulfur.dioxide total.sulfur.dioxide density pH  sulphates alcohol\n",
       "1    11                  34                   0.9978  351 0.56      94     \n",
       "2    15                  54                   0.9970  326 0.65      98     \n",
       "3    11                  34                   0.9978  351 0.56      94     \n",
       "⋮    ⋮                   ⋮                    ⋮       ⋮   ⋮         ⋮      \n",
       "1197 29                  40                   0.99574 342 0.75       11    \n",
       "1198 32                  44                   0.99547 357 0.71      102    \n",
       "1199 18                  42                   0.99549 339 0.66       11    \n",
       "     quality\n",
       "1    5      \n",
       "2    5      \n",
       "3    5      \n",
       "⋮    ⋮      \n",
       "1197 6      \n",
       "1198 5      \n",
       "1199 6      "
      ]
     },
     "metadata": {},
     "output_type": "display_data"
    },
    {
     "data": {
      "text/html": [
       "<table>\n",
       "<caption>A tibble: 398 × 12</caption>\n",
       "<thead>\n",
       "\t<tr><th scope=col>fixed.acidity</th><th scope=col>volatile.acidity</th><th scope=col>citric.acid</th><th scope=col>residual.sugar</th><th scope=col>chlorides</th><th scope=col>free.sulfur.dioxide</th><th scope=col>total.sulfur.dioxide</th><th scope=col>density</th><th scope=col>pH</th><th scope=col>sulphates</th><th scope=col>alcohol</th><th scope=col>quality</th></tr>\n",
       "\t<tr><th scope=col>&lt;dbl&gt;</th><th scope=col>&lt;dbl&gt;</th><th scope=col>&lt;dbl&gt;</th><th scope=col>&lt;dbl&gt;</th><th scope=col>&lt;dbl&gt;</th><th scope=col>&lt;dbl&gt;</th><th scope=col>&lt;dbl&gt;</th><th scope=col>&lt;dbl&gt;</th><th scope=col>&lt;dbl&gt;</th><th scope=col>&lt;dbl&gt;</th><th scope=col>&lt;dbl&gt;</th><th scope=col>&lt;fct&gt;</th></tr>\n",
       "</thead>\n",
       "<tbody>\n",
       "\t<tr><td> 78</td><td>0.88</td><td>0.00</td><td>26</td><td>0.098</td><td>25</td><td>67</td><td>0.9968</td><td> 32</td><td>0.68</td><td>98</td><td>5</td></tr>\n",
       "\t<tr><td>112</td><td>0.28</td><td>0.56</td><td>19</td><td>0.075</td><td>17</td><td>60</td><td>0.9980</td><td>316</td><td>0.58</td><td>98</td><td>6</td></tr>\n",
       "\t<tr><td> 67</td><td>0.58</td><td>0.08</td><td>18</td><td>0.097</td><td>15</td><td>65</td><td>0.9959</td><td>328</td><td>0.54</td><td>92</td><td>5</td></tr>\n",
       "\t<tr><td>⋮</td><td>⋮</td><td>⋮</td><td>⋮</td><td>⋮</td><td>⋮</td><td>⋮</td><td>⋮</td><td>⋮</td><td>⋮</td><td>⋮</td><td>⋮</td></tr>\n",
       "\t<tr><td>63</td><td>0.55</td><td>0.15</td><td>18</td><td>0.077</td><td>26</td><td>35</td><td>0.99314</td><td>332</td><td>0.82</td><td>116</td><td>6</td></tr>\n",
       "\t<tr><td>68</td><td>0.62</td><td>0.08</td><td>19</td><td>0.068</td><td>28</td><td>38</td><td>0.99651</td><td>342</td><td>0.82</td><td> 95</td><td>6</td></tr>\n",
       "\t<tr><td>62</td><td>0.60</td><td>0.08</td><td> 2</td><td>0.090</td><td>32</td><td>44</td><td>0.99490</td><td>345</td><td>0.58</td><td>105</td><td>5</td></tr>\n",
       "</tbody>\n",
       "</table>\n"
      ],
      "text/latex": [
       "A tibble: 398 × 12\n",
       "\\begin{tabular}{llllllllllll}\n",
       " fixed.acidity & volatile.acidity & citric.acid & residual.sugar & chlorides & free.sulfur.dioxide & total.sulfur.dioxide & density & pH & sulphates & alcohol & quality\\\\\n",
       " <dbl> & <dbl> & <dbl> & <dbl> & <dbl> & <dbl> & <dbl> & <dbl> & <dbl> & <dbl> & <dbl> & <fct>\\\\\n",
       "\\hline\n",
       "\t  78 & 0.88 & 0.00 & 26 & 0.098 & 25 & 67 & 0.9968 &  32 & 0.68 & 98 & 5\\\\\n",
       "\t 112 & 0.28 & 0.56 & 19 & 0.075 & 17 & 60 & 0.9980 & 316 & 0.58 & 98 & 6\\\\\n",
       "\t  67 & 0.58 & 0.08 & 18 & 0.097 & 15 & 65 & 0.9959 & 328 & 0.54 & 92 & 5\\\\\n",
       "\t ⋮ & ⋮ & ⋮ & ⋮ & ⋮ & ⋮ & ⋮ & ⋮ & ⋮ & ⋮ & ⋮ & ⋮\\\\\n",
       "\t 63 & 0.55 & 0.15 & 18 & 0.077 & 26 & 35 & 0.99314 & 332 & 0.82 & 116 & 6\\\\\n",
       "\t 68 & 0.62 & 0.08 & 19 & 0.068 & 28 & 38 & 0.99651 & 342 & 0.82 &  95 & 6\\\\\n",
       "\t 62 & 0.60 & 0.08 &  2 & 0.090 & 32 & 44 & 0.99490 & 345 & 0.58 & 105 & 5\\\\\n",
       "\\end{tabular}\n"
      ],
      "text/markdown": [
       "\n",
       "A tibble: 398 × 12\n",
       "\n",
       "| fixed.acidity &lt;dbl&gt; | volatile.acidity &lt;dbl&gt; | citric.acid &lt;dbl&gt; | residual.sugar &lt;dbl&gt; | chlorides &lt;dbl&gt; | free.sulfur.dioxide &lt;dbl&gt; | total.sulfur.dioxide &lt;dbl&gt; | density &lt;dbl&gt; | pH &lt;dbl&gt; | sulphates &lt;dbl&gt; | alcohol &lt;dbl&gt; | quality &lt;fct&gt; |\n",
       "|---|---|---|---|---|---|---|---|---|---|---|---|\n",
       "|  78 | 0.88 | 0.00 | 26 | 0.098 | 25 | 67 | 0.9968 |  32 | 0.68 | 98 | 5 |\n",
       "| 112 | 0.28 | 0.56 | 19 | 0.075 | 17 | 60 | 0.9980 | 316 | 0.58 | 98 | 6 |\n",
       "|  67 | 0.58 | 0.08 | 18 | 0.097 | 15 | 65 | 0.9959 | 328 | 0.54 | 92 | 5 |\n",
       "| ⋮ | ⋮ | ⋮ | ⋮ | ⋮ | ⋮ | ⋮ | ⋮ | ⋮ | ⋮ | ⋮ | ⋮ |\n",
       "| 63 | 0.55 | 0.15 | 18 | 0.077 | 26 | 35 | 0.99314 | 332 | 0.82 | 116 | 6 |\n",
       "| 68 | 0.62 | 0.08 | 19 | 0.068 | 28 | 38 | 0.99651 | 342 | 0.82 |  95 | 6 |\n",
       "| 62 | 0.60 | 0.08 |  2 | 0.090 | 32 | 44 | 0.99490 | 345 | 0.58 | 105 | 5 |\n",
       "\n"
      ],
      "text/plain": [
       "    fixed.acidity volatile.acidity citric.acid residual.sugar chlorides\n",
       "1    78           0.88             0.00        26             0.098    \n",
       "2   112           0.28             0.56        19             0.075    \n",
       "3    67           0.58             0.08        18             0.097    \n",
       "⋮   ⋮             ⋮                ⋮           ⋮              ⋮        \n",
       "396 63            0.55             0.15        18             0.077    \n",
       "397 68            0.62             0.08        19             0.068    \n",
       "398 62            0.60             0.08         2             0.090    \n",
       "    free.sulfur.dioxide total.sulfur.dioxide density pH  sulphates alcohol\n",
       "1   25                  67                   0.9968   32 0.68      98     \n",
       "2   17                  60                   0.9980  316 0.58      98     \n",
       "3   15                  65                   0.9959  328 0.54      92     \n",
       "⋮   ⋮                   ⋮                    ⋮       ⋮   ⋮         ⋮      \n",
       "396 26                  35                   0.99314 332 0.82      116    \n",
       "397 28                  38                   0.99651 342 0.82       95    \n",
       "398 32                  44                   0.99490 345 0.58      105    \n",
       "    quality\n",
       "1   5      \n",
       "2   6      \n",
       "3   5      \n",
       "⋮   ⋮      \n",
       "396 6      \n",
       "397 6      \n",
       "398 5      "
      ]
     },
     "metadata": {},
     "output_type": "display_data"
    }
   ],
   "source": [
    "set.seed(15)\n",
    "\n",
    "wine_split <- initial_split(wine_data, prop = 0.75, strata = quality)  \n",
    "wine_train <- training(wine_split)\n",
    "wine_test <- testing(wine_split)\n",
    "\n",
    "wine_train\n",
    "wine_test"
   ]
  },
  {
<<<<<<< HEAD
   "cell_type": "code",
   "execution_count": 7,
=======
   "cell_type": "markdown",
>>>>>>> 4c5e6c2640bb7d4daad09cb8687575fad3cc5158
   "metadata": {},
   "source": [
    "**Summary table for training data**"
   ]
  },
  {
   "cell_type": "code",
<<<<<<< HEAD
   "execution_count": 8,
=======
   "execution_count": 54,
>>>>>>> 4c5e6c2640bb7d4daad09cb8687575fad3cc5158
   "metadata": {},
   "outputs": [
    {
     "name": "stderr",
     "output_type": "stream",
     "text": [
      "`summarise()` ungrouping output (override with `.groups` argument)\n",
      "\n"
     ]
    },
    {
     "data": {
      "text/html": [
       "<table>\n",
       "<caption>A tibble: 6 × 6</caption>\n",
       "<thead>\n",
       "\t<tr><th scope=col>quality</th><th scope=col>count</th><th scope=col>percentage</th><th scope=col>sulphates_mean</th><th scope=col>pH_mean</th><th scope=col>total.sulfur.dioxide_mean</th></tr>\n",
       "\t<tr><th scope=col>&lt;fct&gt;</th><th scope=col>&lt;int&gt;</th><th scope=col>&lt;dbl&gt;</th><th scope=col>&lt;dbl&gt;</th><th scope=col>&lt;dbl&gt;</th><th scope=col>&lt;dbl&gt;</th></tr>\n",
       "</thead>\n",
       "<tbody>\n",
       "\t<tr><td>3</td><td>  7</td><td> 0.4377736</td><td>0.5642857</td><td>257.8571</td><td>19.57143</td></tr>\n",
       "\t<tr><td>4</td><td> 36</td><td> 2.2514071</td><td>0.6080556</td><td>295.4722</td><td>34.77778</td></tr>\n",
       "\t<tr><td>5</td><td>515</td><td>32.2076298</td><td>0.6175922</td><td>299.7670</td><td>57.21165</td></tr>\n",
       "\t<tr><td>6</td><td>480</td><td>30.0187617</td><td>0.6666250</td><td>298.4354</td><td>40.37083</td></tr>\n",
       "\t<tr><td>7</td><td>148</td><td> 9.2557849</td><td>0.7408108</td><td>300.0068</td><td>36.07432</td></tr>\n",
       "\t<tr><td>8</td><td> 13</td><td> 0.8130081</td><td>0.7200000</td><td>284.1538</td><td>36.69231</td></tr>\n",
       "</tbody>\n",
       "</table>\n"
      ],
      "text/latex": [
       "A tibble: 6 × 6\n",
       "\\begin{tabular}{llllll}\n",
       " quality & count & percentage & sulphates\\_mean & pH\\_mean & total.sulfur.dioxide\\_mean\\\\\n",
       " <fct> & <int> & <dbl> & <dbl> & <dbl> & <dbl>\\\\\n",
       "\\hline\n",
       "\t 3 &   7 &  0.4377736 & 0.5642857 & 257.8571 & 19.57143\\\\\n",
       "\t 4 &  36 &  2.2514071 & 0.6080556 & 295.4722 & 34.77778\\\\\n",
       "\t 5 & 515 & 32.2076298 & 0.6175922 & 299.7670 & 57.21165\\\\\n",
       "\t 6 & 480 & 30.0187617 & 0.6666250 & 298.4354 & 40.37083\\\\\n",
       "\t 7 & 148 &  9.2557849 & 0.7408108 & 300.0068 & 36.07432\\\\\n",
       "\t 8 &  13 &  0.8130081 & 0.7200000 & 284.1538 & 36.69231\\\\\n",
       "\\end{tabular}\n"
      ],
      "text/markdown": [
       "\n",
       "A tibble: 6 × 6\n",
       "\n",
       "| quality &lt;fct&gt; | count &lt;int&gt; | percentage &lt;dbl&gt; | sulphates_mean &lt;dbl&gt; | pH_mean &lt;dbl&gt; | total.sulfur.dioxide_mean &lt;dbl&gt; |\n",
       "|---|---|---|---|---|---|\n",
       "| 3 |   7 |  0.4377736 | 0.5642857 | 257.8571 | 19.57143 |\n",
       "| 4 |  36 |  2.2514071 | 0.6080556 | 295.4722 | 34.77778 |\n",
       "| 5 | 515 | 32.2076298 | 0.6175922 | 299.7670 | 57.21165 |\n",
       "| 6 | 480 | 30.0187617 | 0.6666250 | 298.4354 | 40.37083 |\n",
       "| 7 | 148 |  9.2557849 | 0.7408108 | 300.0068 | 36.07432 |\n",
       "| 8 |  13 |  0.8130081 | 0.7200000 | 284.1538 | 36.69231 |\n",
       "\n"
      ],
      "text/plain": [
       "  quality count percentage sulphates_mean pH_mean  total.sulfur.dioxide_mean\n",
       "1 3         7    0.4377736 0.5642857      257.8571 19.57143                 \n",
       "2 4        36    2.2514071 0.6080556      295.4722 34.77778                 \n",
       "3 5       515   32.2076298 0.6175922      299.7670 57.21165                 \n",
       "4 6       480   30.0187617 0.6666250      298.4354 40.37083                 \n",
       "5 7       148    9.2557849 0.7408108      300.0068 36.07432                 \n",
       "6 8        13    0.8130081 0.7200000      284.1538 36.69231                 "
      ]
     },
     "metadata": {},
     "output_type": "display_data"
    }
   ],
   "source": [
    "num_obs_train <- nrow(wine_train)\n",
    "\n",
    "wine_summary_train <- wine_train %>%\n",
    "  group_by(quality) %>%\n",
    "  summarize(\n",
    "    count = n(),\n",
    "    percentage = (n()/num_obs) * 100,\n",
    "    sulphates_mean = mean(sulphates, na.rm = TRUE),\n",
    "    pH_mean = mean(pH, na.rm = TRUE),\n",
    "    total.sulfur.dioxide_mean = mean(total.sulfur.dioxide, na.rm = TRUE),\n",
    "    \n",
    "  )\n",
    "\n",
<<<<<<< HEAD
    "wine_summary_train\n"
=======
    "wine_summary_train"
>>>>>>> 4c5e6c2640bb7d4daad09cb8687575fad3cc5158
   ]
  },
  {
   "cell_type": "code",
   "execution_count": 9,
   "metadata": {},
   "outputs": [
    {
<<<<<<< HEAD
     "ename": "ERROR",
     "evalue": "Error in mean(sulphates): object 'sulphates' not found\n",
     "output_type": "error",
     "traceback": [
      "Error in mean(sulphates): object 'sulphates' not found\nTraceback:\n",
      "1. mean(sulphates)"
     ]
    }
   ],
   "source": [
    "wine <- wine %>% \n",
    "  mutate(sulphates_mean = mean(sulphates))\n",
    "mean(sulphates)\n",
    "wine"
=======
     "data": {
      "text/html": [
       "1199"
      ],
      "text/latex": [
       "1199"
      ],
      "text/markdown": [
       "1199"
      ],
      "text/plain": [
       "[1] 1199"
      ]
     },
     "metadata": {},
     "output_type": "display_data"
    },
    {
     "data": {
      "text/html": [
       "0"
      ],
      "text/latex": [
       "0"
      ],
      "text/markdown": [
       "0"
      ],
      "text/plain": [
       "[1] 0"
      ]
     },
     "metadata": {},
     "output_type": "display_data"
    }
   ],
   "source": [
    "nrow(wine_train)\n",
    "\n",
    "sum(is.na(wine_train))"
   ]
  },
  {
   "cell_type": "markdown",
   "metadata": {},
   "source": [
    "There are 1199 rows in the training data set and there are no rows with missing data."
   ]
  },
  {
   "cell_type": "markdown",
   "metadata": {},
   "source": [
    "**Training Data Visualization**"
   ]
  },
  {
   "cell_type": "code",
   "execution_count": 56,
   "metadata": {},
   "outputs": [
    {
     "name": "stderr",
     "output_type": "stream",
     "text": [
      "`stat_bin()` using `bins = 30`. Pick better value with `binwidth`.\n",
      "\n"
     ]
    },
    {
     "data": {
      "image/png": "iVBORw0KGgoAAAANSUhEUgAABLAAAASwCAMAAADc/0P9AAADAFBMVEUAAAABAQECAgIDAwME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",
      "text/plain": [
       "plot without title"
      ]
     },
     "metadata": {
      "image/png": {
       "height": 600,
       "width": 600
      }
     },
     "output_type": "display_data"
    }
   ],
   "source": [
    "options(repr.plot.height = 10, repr.plot.width = 10)\n",
    "\n",
    "wine_plot_sulphates <- wine_train %>% \n",
    "   ggplot(aes(x = sulphates)) + \n",
    "   geom_histogram(position = \"identity\") + \n",
    "   facet_grid(factor(quality) ~. ) +\n",
    "   xlab(\"Sulphates (g / dm3)\") + \n",
    "   ylab(\"Frequency\") +\n",
    "   theme(text = element_text(size=20))\n",
    "\n",
    "wine_plot_sulphates"
   ]
  },
  {
   "cell_type": "markdown",
   "metadata": {},
   "source": [
    "From the above graph, we can see that as the mean of sulphates increases, the quality of red wine is improved."
   ]
  },
  {
   "cell_type": "code",
   "execution_count": 57,
   "metadata": {},
   "outputs": [
    {
     "name": "stderr",
     "output_type": "stream",
     "text": [
      "`stat_bin()` using `bins = 30`. Pick better value with `binwidth`.\n",
      "\n"
     ]
    },
    {
     "data": {
      "image/png": "iVBORw0KGgoAAAANSUhEUgAABLAAAASwCAMAAADc/0P9AAAC9FBMVEUAAAABAQECAgIDAwME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\nC0BmECwAmUGwAGQGwQKQGf8FqdE3KmNVkXcAAAAASUVORK5CYII=",
      "text/plain": [
       "plot without title"
      ]
     },
     "metadata": {
      "image/png": {
       "height": 600,
       "width": 600
      }
     },
     "output_type": "display_data"
    }
   ],
   "source": [
    "options(repr.plot.height = 10, repr.plot.width = 10)\n",
    "\n",
    "wine_plot_PH <- wine_train %>% \n",
    "   ggplot(aes(x = pH)) + \n",
    "   geom_histogram(position = \"identity\") + \n",
    "   facet_grid(factor(quality) ~. ) +\n",
    "   xlab(\"pH\") + \n",
    "   ylab(\"Frequency\") +\n",
    "   theme(text = element_text(size=20))\n",
    "\n",
    "wine_plot_PH"
   ]
  },
  {
   "cell_type": "markdown",
   "metadata": {},
   "source": [
    "There is no relationship to be observed between pH and red wine quality yet, because the mean pH of red wine almost remains the same for different qualities of wine. This is so because the data is not balanced."
>>>>>>> 4c5e6c2640bb7d4daad09cb8687575fad3cc5158
   ]
  },
  {
   "cell_type": "code",
<<<<<<< HEAD
   "execution_count": null,
   "metadata": {},
   "outputs": [],
   "source": []
=======
   "execution_count": 58,
   "metadata": {},
   "outputs": [
    {
     "name": "stderr",
     "output_type": "stream",
     "text": [
      "`stat_bin()` using `bins = 30`. Pick better value with `binwidth`.\n",
      "\n"
     ]
    },
    {
     "data": {
      "image/png": "iVBORw0KGgoAAAANSUhEUgAABLAAAASwCAMAAADc/0P9AAADAFBMVEUAAAABAQECAgIDAwME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",
      "text/plain": [
       "plot without title"
      ]
     },
     "metadata": {
      "image/png": {
       "height": 600,
       "width": 600
      }
     },
     "output_type": "display_data"
    }
   ],
   "source": [
    "options(repr.plot.height = 10, repr.plot.width = 10)\n",
    "\n",
    "wine_plot_sulfur_dioxide <- wine_train %>% \n",
    "   ggplot(aes(x = total.sulfur.dioxide)) + \n",
    "   geom_histogram(position = \"identity\") + \n",
    "   facet_grid(factor(quality) ~. ) +\n",
    "   xlab(\"Total Sulfur Dioxide (mg / dm3)\") + \n",
    "   ylab(\"Frequency\") +\n",
    "   theme(text = element_text(size=20))\n",
    "\n",
    "wine_plot_sulfur_dioxide"
   ]
  },
  {
   "cell_type": "markdown",
   "metadata": {},
   "source": [
    "There is no relationship between total sulfur dioxide and red wine quality yet, because the mean total sulfur dioxide of red wine almost remains the same for different qualities of wine. This is so because the data is not balanced."
   ]
  },
  {
   "cell_type": "markdown",
   "metadata": {},
   "source": [
    "**Methods:**"
   ]
  },
  {
   "cell_type": "markdown",
   "metadata": {},
   "source": [
    "In our analysis, we will attempt to create a classification model that predicts wine quality based on 3 predictors: Sulphates, pH levels, and total sulfur dioxide. \n",
    "\n",
    "Sulphate levels are related to wine quality. Higher sulfurous content causes a duller taste in wine. Higher sulfite ions tend to speed up the fermentation process of wine and present health risks. This suggests higher sulphate contents result in lower wine quality (Korovkin, 2017).\n",
    "\n",
    "We also plan to use pH as one of the predictors because high acidity levels improve the aging and the stability of the wine. Wines with low pH levels (high acidity) tend to improve with time when compared to wines with high ph levels (low acidity)  (HALE, 2019).\n",
    "\n",
    "Sulfur dioxide is an important predictor for determining the quality of red wine. It protects the wine against oxidation, which preserves the color and the taste of wine. It also promotes yeast growth for fermentation and prevents the growth of microorganisms that can degrade the quality of the wine (Begum, 2021).\n",
    "\n",
    "We will split the data into training and testing data and will train a classification model using the knn classification model. Cross-validation will be used to determine an appropriate k-value. We will test this model using our testing data and provide scatter plots for each pair of predictors. These plots will show our testing data points overlaid on the training data points and will be color-coded to show whether the model was accurate in classifying individual testing data points."
   ]
>>>>>>> 4c5e6c2640bb7d4daad09cb8687575fad3cc5158
  },
  {
   "cell_type": "code",
   "execution_count": null,
   "metadata": {},
<<<<<<< HEAD
   "outputs": [],
   "source": []
=======
   "source": [
    "**Expected outcomes and significance:**"
   ]
>>>>>>> 4c5e6c2640bb7d4daad09cb8687575fad3cc5158
  },
  {
   "cell_type": "markdown",
   "metadata": {},
   "source": [
    "We expect to find useful insights that can impact the wine industry, specifically, understanding key physicochemical variables in red wine that can be controlled in the production process leading to higher quality wine. This can lead to further questions about how certain physicochemical factors can be controlled in the wine manufacturing process. "
   ]
  }
 ],
 "metadata": {
  "kernelspec": {
   "display_name": "R",
   "language": "R",
   "name": "ir"
  },
  "language_info": {
   "codemirror_mode": "r",
   "file_extension": ".r",
   "mimetype": "text/x-r-source",
   "name": "R",
   "pygments_lexer": "r",
   "version": "4.0.0"
  }
 },
 "nbformat": 4,
 "nbformat_minor": 4
}
